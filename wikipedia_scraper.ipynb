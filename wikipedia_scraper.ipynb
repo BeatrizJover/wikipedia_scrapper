{
 "cells": [
  {
   "cell_type": "markdown",
   "metadata": {
    "id": "rru15J6cT0aF"
   },
   "source": [
    "# Your first scraper\n",
    "In this project, we will guide you step by step through the process of:\n",
    "\n",
    "1. creating a self-contained development environment.\n",
    "1. retrieving some information from an API (a website for computers)\n",
    "2. leveraging it to scrape a website that does not provide an API\n",
    "3. saving the output for later processing\n",
    "\n",
    "Here we query an API for a list of countries and their past leaders. We then extract and sanitize their short bio from Wikipedia. Finally, we save the data to disk.\n",
    "\n",
    "This task is often the first (coding) step of a datascience project and you will often come back to it in the future.\n",
    "\n",
    "You will study topics such as *scraping*, *data structures*, *regular expressions*, *concurrency* and *file handling*. We will point out useful resources at the appropriate time. \n",
    "\n",
    "Let's dive in!"
   ]
  },
  {
   "attachments": {},
   "cell_type": "markdown",
   "metadata": {},
   "source": [
    "## Creating a clean environment\n",
    "\n",
    "Use the [`venv`](https://docs.python.org/3/library/venv.html) command to create a new environment called `wikipedia_scraper_env`.\n",
    "\n",
    "Activate it.\n",
    "\n",
    "You will find more info about virtual environments in the course content and on the web."
   ]
  },
  {
   "cell_type": "markdown",
   "metadata": {
    "id": "48qvKH56a1Wy"
   },
   "source": [
    "## API Scraping\n",
    "\n",
    "### A simple API query\n",
    "You will start with the basics: how to do a simple request to an [API endpoint](../../2.python/2.python_advanced/05.Scraping/5.apis.ipynb).\n",
    "\n",
    "You will use the [requests](https://requests.readthedocs.io/en/latest/) external library through the `import` keyword.\n",
    "\n",
    "NOTE: external libraries need to be installed first. Check their documentation.\n",
    "\n",
    "Check the [Quickstart](https://requests.readthedocs.io/en/latest/user/quickstart/) section of the Requests documentation to:\n",
    "1. use the `get()` method to connect to this endpoint: https://country-leaders.onrender.com/status\n",
    "2. check if the `status_code` is equal to 200, which means OK.\n",
    "    * if OK, `print()` the `text`` of the response.\n",
    "    * if not, `print()` the `status_code`. \n",
    "\n",
    "Here is the signification of [HTTP status codes](https://en.wikipedia.org/wiki/List_of_HTTP_status_codes).\n"
   ]
  },
  {
   "cell_type": "code",
   "execution_count": 33,
   "metadata": {
    "id": "9baoMWgIcK3E"
   },
   "outputs": [
    {
     "name": "stdout",
     "output_type": "stream",
     "text": [
      "\"Alive\"\n"
     ]
    }
   ],
   "source": [
    "import requests\n",
    "root_url = \"https://country-leaders.onrender.com\" \n",
    "status_url = \"status\"\n",
    "req = requests.get(f\"{root_url}/{status_url}\")\n",
    "\n",
    "if req.status_code == 200:    \n",
    "    print(req.text) \n",
    "else:\n",
    "    print(f\"Error to access the website: {req.status_code}\") "
   ]
  },
  {
   "cell_type": "markdown",
   "metadata": {
    "id": "TL72ovJUcZTA"
   },
   "source": [
    "### Dealing with JSON\n",
    "\n",
    "[JSON](https://quickref.me/json) is the preferred format to deal with data over the web. You cannot avoid it so you would better get acquainted.\n",
    "\n",
    "Connect to another endpoint called `/countries` but this time the API will return data in the JSON format. Check what to do in the Requests [Quickstart](https://requests.readthedocs.io/en/latest/user/quickstart/).\n"
   ]
  },
  {
   "cell_type": "code",
   "execution_count": 34,
   "metadata": {
    "id": "Y0DLiYCWcg5W"
   },
   "outputs": [
    {
     "name": "stdout",
     "output_type": "stream",
     "text": [
      "{'message': 'The cookie is missing'}\n"
     ]
    }
   ],
   "source": [
    "countries_url = \"countries\"\n",
    "req = requests.get(f\"{root_url}/{countries_url}\")\n",
    "countries = req.json()\n",
    "print(countries)\n"
   ]
  },
  {
   "cell_type": "markdown",
   "metadata": {
    "id": "1x25JA6vaRBi"
   },
   "source": [
    "### Cookies anyone?\n",
    "\n",
    "It looks like the access to this API is restricted...\n",
    "Query the `/cookie` endpoint and extract the appropriate field to access your cookie.\n",
    "\n",
    "You will need to use this cookie in each of the following API requests."
   ]
  },
  {
   "cell_type": "code",
   "execution_count": 35,
   "metadata": {
    "id": "dTDwpN9Q3nk_"
   },
   "outputs": [
    {
     "name": "stdout",
     "output_type": "stream",
     "text": [
      "<RequestsCookieJar[<Cookie user_cookie=19b4339c-c0e2-461e-8f8b-20b8625ba247 for country-leaders.onrender.com/>]>\n"
     ]
    }
   ],
   "source": [
    "cookie_url = \"cookie\"    \n",
    "cookie = requests.get(f\"{root_url}/{cookie_url}\").cookies\n",
    "print(cookie)"
   ]
  },
  {
   "cell_type": "markdown",
   "metadata": {
    "id": "DHBNaFJo2M9e"
   },
   "source": [
    "Try to query the countries endpoint using the cookie, save the output and print it."
   ]
  },
  {
   "cell_type": "code",
   "execution_count": 36,
   "metadata": {
    "id": "9Y63sTXY7ppT"
   },
   "outputs": [
    {
     "name": "stdout",
     "output_type": "stream",
     "text": [
      "['us', 'be', 'ma', 'ru', 'fr']\n"
     ]
    }
   ],
   "source": [
    "r = requests.get(f\"{root_url}/{countries_url}\", cookies=cookie)\n",
    "countries = r.json()\n",
    "print(countries)"
   ]
  },
  {
   "cell_type": "markdown",
   "metadata": {
    "id": "I3HmuGTT9lU1"
   },
   "source": [
    "Chances are the cookie has expired... Thanksfully, you got a nice error message. For now, simply execute the last 2 cells quickly so you get a result."
   ]
  },
  {
   "cell_type": "markdown",
   "metadata": {
    "id": "Egv40GBV8rSH"
   },
   "source": [
    "### Getting the actual data from the API\n",
    "\n",
    "Query the `/leaders` endpoint."
   ]
  },
  {
   "cell_type": "code",
   "execution_count": 37,
   "metadata": {
    "id": "ZwLFqcBA8PaD"
   },
   "outputs": [
    {
     "name": "stdout",
     "output_type": "stream",
     "text": [
      "<Response [404]>\n"
     ]
    }
   ],
   "source": [
    "leaders_url = 'leaders'\n",
    "leaders = requests.get(f\"{root_url}/{leaders_url}\", cookies=cookie) \n",
    "print(leaders)"
   ]
  },
  {
   "cell_type": "markdown",
   "metadata": {
    "id": "1QyM7vWBAlY4"
   },
   "source": [
    "It looks like this endpoint requires additional information in order to return its result. Check the API [*documentation*](https://country-leaders.onrender.com/docs) in your web browser.\n",
    "\n",
    "Change the query to accept *parameters*. You should know where to find help by now."
   ]
  },
  {
   "cell_type": "code",
   "execution_count": 38,
   "metadata": {
    "id": "gIEFBhBeAkzf"
   },
   "outputs": [],
   "source": [
    "    \n",
    "leader = requests.get(f\"{root_url}/{leaders_url}\", cookies=cookie, params={\"country\":countries}) \n",
    "# print (leader.json())"
   ]
  },
  {
   "attachments": {},
   "cell_type": "markdown",
   "metadata": {
    "id": "uW3k5uquCirA"
   },
   "source": [
    "### A sneak peak at the data (finally)\n",
    "\n",
    "Look inside a few examples. Notice the dictionary keys available for each entry. You have your first example of *structured data*. This data was sanitized for your benefit, meaning it is readily exploitable without modification.\n",
    "\n",
    "You will also notice there is a Wikipedia link for each entry. You will need to extract additional information there. This will be a case of *semi-structured* data.\n",
    "\n",
    "The /countries endpoint returns a `list` of several country codes.\n",
    "\n",
    "You need to loop through this list and query the /leaders endpoint for each one. Save each `json` result in a dictionary called `leaders_per_country`."
   ]
  },
  {
   "cell_type": "code",
   "execution_count": 39,
   "metadata": {
    "id": "H8EdK2S9rvPJ"
   },
   "outputs": [],
   "source": [
    "leaders_per_country = {}\n",
    "for country in countries:        \n",
    "        leader = requests.get(f\"{root_url}/{leaders_url}\", cookies=cookie, params={\"country\":country})        \n",
    "        leaders_per_country[country] = leader.json()\n",
    "# print (leaders_per_country)\n"
   ]
  },
  {
   "cell_type": "code",
   "execution_count": 40,
   "metadata": {},
   "outputs": [],
   "source": [
    "# or 1 line\n"
   ]
  },
  {
   "cell_type": "markdown",
   "metadata": {
    "id": "WsA2j7s_RMgy"
   },
   "source": [
    "It is finally time to create a `get_leaders()` function for the above code. You will build on it later-on. This function takes no parameter. Inside it, you will need to:\n",
    "1. define the urls\n",
    "2. get the cookies\n",
    "2. get the countries\n",
    "3. loop over them and save their leaders in a dictionary\n",
    "4. return the dictionary"
   ]
  },
  {
   "cell_type": "code",
   "execution_count": 41,
   "metadata": {
    "id": "p6C7BgWQMxV2"
   },
   "outputs": [],
   "source": [
    "import requests\n",
    "def get_leaders():\n",
    "    root_url = \"https://country-leaders.onrender.com\" \n",
    "    status_url = \"status\"\n",
    "    req = requests.get(f\"{root_url}/{status_url}\")\n",
    "    if req.status_code == 200:    \n",
    "        print(req.text) \n",
    "    else:\n",
    "        print(f\"Error to access the website: {req.status_code}\")       \n",
    "    \n",
    "    countries_url = \"countries\"\n",
    "    cookie_url = \"cookie\"    \n",
    "    cookie = requests.get(f\"{root_url}/{cookie_url}\").cookies\n",
    "    r = requests.get(f\"{root_url}/{countries_url}\", cookies=cookie)\n",
    "    countries = r.json()   \n",
    "   \n",
    "    leaders_url = 'leaders'\n",
    "    leaders_per_country = {}\n",
    "    for country in countries:        \n",
    "            leader = requests.get(f\"{root_url}/{leaders_url}\", cookies=cookie, params={\"country\":country})        \n",
    "            leaders_per_country[country] = leader.json()\n",
    "    return leaders_per_country\n",
    "\n"
   ]
  },
  {
   "cell_type": "markdown",
   "metadata": {
    "id": "I76-InoKuuV8"
   },
   "source": [
    "Test your function, save the result in the `leaders_per_country` dictionary and check its ouput."
   ]
  },
  {
   "cell_type": "code",
   "execution_count": 42,
   "metadata": {
    "id": "eXwd8o7Gu8yG"
   },
   "outputs": [
    {
     "name": "stdout",
     "output_type": "stream",
     "text": [
      "\"Alive\"\n"
     ]
    }
   ],
   "source": [
    "# 2 lines\n",
    "leaders_per_country = get_leaders()"
   ]
  },
  {
   "cell_type": "markdown",
   "metadata": {
    "id": "D1Fc1mHySn9g"
   },
   "source": [
    "## Extracting data from Wikipedia\n",
    "\n",
    "Query one of the leaders' Wikipedia urls and display its `text` (not JSON)."
   ]
  },
  {
   "cell_type": "code",
   "execution_count": 43,
   "metadata": {
    "id": "cEKKqyTHr3fD"
   },
   "outputs": [],
   "source": [
    "first_leader = next(iter(leaders_per_country.values()))[0]\n",
    "wiki_url = first_leader.get(\"wikipedia_url\")\n",
    "r = requests.get(wiki_url)\n",
    "# print(r.text)\n"
   ]
  },
  {
   "attachments": {},
   "cell_type": "markdown",
   "metadata": {
    "id": "ZlsqjiTYr8sK"
   },
   "source": [
    "Ouch! You get the raw HTML code of the webpage. If you try to deal with it without tools, you will be there all night. Instead, use the [beautiful soup 4](https://www.crummy.com/software/BeautifulSoup/bs4/doc/) *external* library. You will find more info about it [here](../../2.python/2.python_advanced/05.Scraping/1.beautifulsoup_basic.ipynb) and [here](../../2.python/2.python_advanced/05.Scraping/2.beautifulsoup_advanced.ipynb)\n",
    "\n",
    "Using the Quickstart section, start by importing the library and loading the output of your `get_text()` function.\n",
    "\n",
    "Use the `prettify()` function and print it to take a look. You will start the actual parsing in the next step."
   ]
  },
  {
   "cell_type": "code",
   "execution_count": 44,
   "metadata": {
    "id": "h79ahwJvr7p-"
   },
   "outputs": [],
   "source": [
    "# 3 lines\n"
   ]
  },
  {
   "cell_type": "markdown",
   "metadata": {
    "id": "aQsLjaig7_dY"
   },
   "source": [
    "That looks better but you need to extract the right part of the webpage: the text of the first paragraph.\n",
    "\n",
    "It is a bit tricky because Wikipedia pages slightly differ in structure from one language to the next. We cannot simply get the text for the first HTML paragraph.\n",
    "\n",
    "You will start by getting all the HTML paragraphs from the HTML source and saving them in the `paragraphs` variable.\n",
    "\n",
    "Use the documentation or google the appropriate keywords."
   ]
  },
  {
   "cell_type": "code",
   "execution_count": 45,
   "metadata": {
    "id": "Vs8HeBx19oyC"
   },
   "outputs": [],
   "source": [
    "from bs4 import BeautifulSoup\n",
    "soup = BeautifulSoup(r.text, 'html.parser')\n",
    "paragraphs = soup.find_all('p')\n",
    "# print(paragraphs)"
   ]
  },
  {
   "cell_type": "markdown",
   "metadata": {
    "id": "3tlaL3aM9zoo"
   },
   "source": [
    "If you try different urls, you might find that the paragraph you want may be at a different index each time.\n",
    "\n",
    "That is where you need to be clever and ask yourself what would be a reliable way to identify the right index ie. which string matches only the first paragraph whatever the language...\n",
    "\n",
    "Spend a good 30 minutes on the problem and brainstorm with your fellow learners. If you come out empty handed, ask your coach.\n",
    "\n",
    "1. Loop over the HTML paragraphs\n",
    "2. When you have identified the correct one\n",
    "  * store the [text](https://www.crummy.com/software/BeautifulSoup/bs4/doc/#output) inside the `first_paragraph` variable\n",
    "  * exit the loop"
   ]
  },
  {
   "cell_type": "code",
   "execution_count": 46,
   "metadata": {
    "id": "0DduDXaQALau"
   },
   "outputs": [
    {
     "name": "stdout",
     "output_type": "stream",
     "text": [
      "George Washington(February 22, 1732 –December 14, 1799) was aFounding Father of the United States, military officer, and farmer who served as the firstpresident of the United Statesfrom 1789 to 1797. Appointed by theSecond Continental Congressas commander of theContinental Armyin 1775, Washington ledPatriotforces to victory in theAmerican Revolutionary Warand then served as president of theConstitutional Conventionin 1787, which drafted the currentConstitution of the United States. Washington has thus become commonly known as the \"Father of his Country\".\n"
     ]
    }
   ],
   "source": [
    "first_paragraph = None\n",
    "for paragraph in paragraphs:\n",
    "    text = paragraph.get_text(strip=True)\n",
    "    if text:  # Check if the paragraph has non-empty text\n",
    "        first_paragraph = text\n",
    "        break\n",
    "print(first_paragraph)"
   ]
  },
  {
   "cell_type": "markdown",
   "metadata": {
    "id": "KFe-1LlIHBGm"
   },
   "source": [
    "At this stage, you can create a function to maintain consistency in your code. We will give you its *skeleton*, you will copy the code you wrote and make it work inside a function.\n",
    "\n",
    "Don't forget to test your function."
   ]
  },
  {
   "cell_type": "code",
   "execution_count": 47,
   "metadata": {
    "id": "wQORoweDHARO"
   },
   "outputs": [],
   "source": [
    "def get_first_paragraph(wikipedia_url):\n",
    "    print(wikipedia_url)        \n",
    "    r = requests.get(wikipedia_url)   \n",
    "    soup = BeautifulSoup(r.text, 'html.parser')\n",
    "    paragraphs = soup.find_all('p')    \n",
    "    first_paragraph = None\n",
    "    for paragraph in paragraphs:\n",
    "        text = paragraph.get_text(strip=True)\n",
    "        if text:  #check non-empty paragraphs\n",
    "            first_paragraph = text\n",
    "            break    \n",
    "    return first_paragraph"
   ]
  },
  {
   "cell_type": "code",
   "execution_count": 48,
   "metadata": {},
   "outputs": [
    {
     "name": "stdout",
     "output_type": "stream",
     "text": [
      "https://en.wikipedia.org/wiki/George_Washington\n",
      "George Washington(February 22, 1732 –December 14, 1799) was aFounding Father of the United States, military officer, and farmer who served as the firstpresident of the United Statesfrom 1789 to 1797. Appointed by theSecond Continental Congressas commander of theContinental Armyin 1775, Washington ledPatriotforces to victory in theAmerican Revolutionary Warand then served as president of theConstitutional Conventionin 1787, which drafted the currentConstitution of the United States. Washington has thus become commonly known as the \"Father of his Country\".\n"
     ]
    }
   ],
   "source": [
    "# Test: 3 lines\n",
    "first_paragraph = get_first_paragraph(wiki_url)\n",
    "print(first_paragraph)"
   ]
  },
  {
   "cell_type": "markdown",
   "metadata": {
    "id": "UtoM4dgsBVoD"
   },
   "source": [
    "### Regular expressions to the rescue\n",
    "\n",
    "Now that you have extracted the content of the first paragraph, the only thing that remains to finish your Wikipedia scraper is to sanitize the output.\n",
    "\n",
    "Indeed some Wikipedia references, HTML code, phonetic pronunciation etc. may linger. You might find *regular expressions* handy to get rid of them and obtain pristine text. You will find some useful documentation about regular expressions [here](../../2.python/2.python_advanced/03.Regex/regex.ipynb)\n",
    "\n",
    "Once you have one of your regex working online, try it in the cell below. \n",
    "\n",
    "Hints: \n",
    "* Check the `sub()` method documentation.\n",
    "* Make sure to test urls in different languages. Some may look good but other do not."
   ]
  },
  {
   "cell_type": "code",
   "execution_count": 49,
   "metadata": {
    "id": "7DHEAb6oBUxd"
   },
   "outputs": [
    {
     "name": "stdout",
     "output_type": "stream",
     "text": [
      "George Washington(February 22, 1732 –December 14, 1799) was a Founding Father of the United States, military officer, and farmer who served as the firstpresident of the United Statesfrom 1789 to 1797. Appointed by the Second Continental Congressas commander of the Continental Armyin 1775, Washington led Patriotforces to victory in the American Revolutionary Warand then served as president of the Constitutional Conventionin 1787, which drafted the current Constitution of the United States. Washington has thus become commonly known as the \"Father of his Country\".\n"
     ]
    }
   ],
   "source": [
    "import re    \n",
    "first_paragraph = re.sub(r'\\s+', ' ', first_paragraph)    \n",
    "first_paragraph = re.sub(r'([a-zA-Z])\\s?\\(', r'\\1(', first_paragraph)\n",
    "first_paragraph = re.sub(r'\\.([A-Za-z])', r'. \\1', first_paragraph)\n",
    "first_paragraph = re.sub(r'([a-z])([A-Z])', r'\\1 \\2', first_paragraph)\n",
    "\n",
    "print(first_paragraph)\n",
    "\n"
   ]
  },
  {
   "cell_type": "markdown",
   "metadata": {
    "id": "QekqWs-4E0bK"
   },
   "source": [
    "Overwrite the `get_first_paragraph()` function by applying your regex to the first paragraph before returning it."
   ]
  },
  {
   "cell_type": "code",
   "execution_count": 50,
   "metadata": {
    "id": "voT-jzd7FMOc"
   },
   "outputs": [
    {
     "name": "stdout",
     "output_type": "stream",
     "text": [
      "https://en.wikipedia.org/wiki/George_Washington\n",
      "George Washington(February 22, 1732 –December 14, 1799) was a Founding Father of the United States, military officer, and farmer who served as the firstpresident of the United Statesfrom 1789 to 1797. Appointed by the Second Continental Congressas commander of the Continental Armyin 1775, Washington led Patriotforces to victory in the American Revolutionary Warand then served as president of the Constitutional Conventionin 1787, which drafted the current Constitution of the United States. Washington has thus become commonly known as the \"Father of his Country\".\n"
     ]
    }
   ],
   "source": [
    "# 10 lines\n",
    "\n",
    "def get_first_paragraph(wikipedia_url):\n",
    "    print(wikipedia_url)   \n",
    "    r = requests.get(wikipedia_url)    \n",
    "    soup = BeautifulSoup(r.text, 'html.parser')\n",
    "    paragraphs = soup.find_all('p')\n",
    "\n",
    "    first_paragraph = None\n",
    "    for paragraph in paragraphs:\n",
    "        text = paragraph.get_text(strip=True)\n",
    "        if text:  #check non-empty paragraphs\n",
    "            first_paragraph = text\n",
    "            break\n",
    "\n",
    "    first_paragraph = re.sub(r'\\s+', ' ', first_paragraph)    \n",
    "    first_paragraph = re.sub(r'([a-zA-Z])\\s?\\(', r'\\1(', first_paragraph)\n",
    "    first_paragraph = re.sub(r'\\.([A-Za-z])', r'. \\1', first_paragraph)\n",
    "    first_paragraph = re.sub(r'([a-z])([A-Z])', r'\\1 \\2', first_paragraph)\n",
    "    return first_paragraph\n",
    "\n",
    "# Test:\n",
    "first_paragraph = get_first_paragraph(wiki_url)\n",
    "print(first_paragraph)\n",
    "\n"
   ]
  },
  {
   "cell_type": "markdown",
   "metadata": {
    "id": "gyZkffTEFR0z"
   },
   "source": [
    "Come up with other regexes to capture other patterns and sanitize the outputs completely. Modify your `get_first_paragraph()` function accordingly."
   ]
  },
  {
   "cell_type": "code",
   "execution_count": 51,
   "metadata": {
    "id": "NOmkLM9JFRCp"
   },
   "outputs": [],
   "source": [
    "# < 20 lines\n"
   ]
  },
  {
   "cell_type": "markdown",
   "metadata": {
    "id": "VY7bM7Z1Nr0K"
   },
   "source": [
    "## Putting it all together\n",
    "\n",
    "Let's go back to your `get_leaders()` function and update it with an *inner* loop over each leader. You will query the url provided and extract the first paragraph using the `get_first_paragraph()` function you just finished. You will then update that `leader`'s dictionary and move on to the next one.\n",
    "\n",
    "Notice, the rest of the code should not change since you modify the leader's data one by one."
   ]
  },
  {
   "cell_type": "code",
   "execution_count": 52,
   "metadata": {},
   "outputs": [
    {
     "name": "stdout",
     "output_type": "stream",
     "text": [
      "\"Alive\"\n",
      "Leader of us: George Washington, Wikipedia URL: https://en.wikipedia.org/wiki/George_Washington\n",
      "Leader of us: Barack Obama, Wikipedia URL: https://en.wikipedia.org/wiki/Barack_Obama\n",
      "Leader of us: Abraham Lincoln, Wikipedia URL: https://en.wikipedia.org/wiki/Abraham_Lincoln\n",
      "Leader of us: George Bush, Wikipedia URL: https://en.wikipedia.org/wiki/George_W._Bush\n",
      "Leader of us: Bill Clinton, Wikipedia URL: https://en.wikipedia.org/wiki/Bill_Clinton\n",
      "Leader of us: Joe Biden, Wikipedia URL: https://en.wikipedia.org/wiki/Joe_Biden\n",
      "Leader of us: Franklin Roosevelt, Wikipedia URL: https://en.wikipedia.org/wiki/Franklin_D._Roosevelt\n",
      "Leader of us: Andrew Johnson, Wikipedia URL: https://en.wikipedia.org/wiki/Andrew_Johnson\n",
      "Leader of us: Gerald Ford, Wikipedia URL: https://en.wikipedia.org/wiki/Gerald_Ford\n",
      "Leader of us: Richard Nixon, Wikipedia URL: https://en.wikipedia.org/wiki/Richard_Nixon\n",
      "Leader of us: Lyndon Johnson, Wikipedia URL: https://en.wikipedia.org/wiki/Lyndon_B._Johnson\n",
      "Leader of us: John Kennedy, Wikipedia URL: https://en.wikipedia.org/wiki/John_F._Kennedy\n",
      "Leader of us: Dwight Eisenhower, Wikipedia URL: https://en.wikipedia.org/wiki/Dwight_D._Eisenhower\n",
      "Leader of us: Ronald Reagan, Wikipedia URL: https://en.wikipedia.org/wiki/Ronald_Reagan\n",
      "Leader of us: Harry Truman, Wikipedia URL: https://en.wikipedia.org/wiki/Harry_S._Truman\n",
      "Leader of us: John Adams, Wikipedia URL: https://en.wikipedia.org/wiki/John_Adams\n",
      "Leader of us: Thomas Jefferson, Wikipedia URL: https://en.wikipedia.org/wiki/Thomas_Jefferson\n",
      "Leader of us: James Madison, Wikipedia URL: https://en.wikipedia.org/wiki/James_Madison\n",
      "Leader of us: James Monroe, Wikipedia URL: https://en.wikipedia.org/wiki/James_Monroe\n",
      "Leader of us: John Adams, Wikipedia URL: https://en.wikipedia.org/wiki/John_Quincy_Adams\n",
      "Leader of us: Andrew Jackson, Wikipedia URL: https://en.wikipedia.org/wiki/Andrew_Jackson\n",
      "Leader of us: Martin Van Buren, Wikipedia URL: https://en.wikipedia.org/wiki/Martin_Van_Buren\n",
      "Leader of us: William Harrison, Wikipedia URL: https://en.wikipedia.org/wiki/William_Henry_Harrison\n",
      "Leader of us: John Tyler, Wikipedia URL: https://en.wikipedia.org/wiki/John_Tyler\n",
      "Leader of us: James Polk, Wikipedia URL: https://en.wikipedia.org/wiki/James_K._Polk\n",
      "Leader of us: Zachary Taylor, Wikipedia URL: https://en.wikipedia.org/wiki/Zachary_Taylor\n",
      "Leader of us: Millard Fillmore, Wikipedia URL: https://en.wikipedia.org/wiki/Millard_Fillmore\n",
      "Leader of us: Franklin Pierce, Wikipedia URL: https://en.wikipedia.org/wiki/Franklin_Pierce\n",
      "Leader of us: James Buchanan, Wikipedia URL: https://en.wikipedia.org/wiki/James_Buchanan\n",
      "Leader of us: Donald Trump, Wikipedia URL: https://en.wikipedia.org/wiki/Donald_Trump\n",
      "Leader of us: George Bush, Wikipedia URL: https://en.wikipedia.org/wiki/George_H._W._Bush\n",
      "Leader of us: Jimmy Carter, Wikipedia URL: https://en.wikipedia.org/wiki/Jimmy_Carter\n",
      "Leader of us: Theodore Roosevelt, Wikipedia URL: https://en.wikipedia.org/wiki/Theodore_Roosevelt\n",
      "Leader of us: Woodrow Wilson, Wikipedia URL: https://en.wikipedia.org/wiki/Woodrow_Wilson\n",
      "Leader of us: James Garfield, Wikipedia URL: https://en.wikipedia.org/wiki/James_A._Garfield\n",
      "Leader of us: Ulysses Grant, Wikipedia URL: https://en.wikipedia.org/wiki/Ulysses_S._Grant\n",
      "Leader of us: William McKinley, Wikipedia URL: https://en.wikipedia.org/wiki/William_McKinley\n",
      "Leader of us: Stephen Cleveland, Wikipedia URL: https://en.wikipedia.org/wiki/Grover_Cleveland\n",
      "Leader of us: Herbert Hoover, Wikipedia URL: https://en.wikipedia.org/wiki/Herbert_Hoover\n",
      "Leader of us: Warren Harding, Wikipedia URL: https://en.wikipedia.org/wiki/Warren_G._Harding\n",
      "Leader of us: Chester Arthur, Wikipedia URL: https://en.wikipedia.org/wiki/Chester_A._Arthur\n",
      "Leader of us: William Taft, Wikipedia URL: https://en.wikipedia.org/wiki/William_Howard_Taft\n",
      "Leader of us: Benjamin Harrison, Wikipedia URL: https://en.wikipedia.org/wiki/Benjamin_Harrison\n",
      "Leader of us: Rutherford Hayes, Wikipedia URL: https://en.wikipedia.org/wiki/Rutherford_B._Hayes\n",
      "Leader of us: John Coolidge, Wikipedia URL: https://en.wikipedia.org/wiki/Calvin_Coolidge\n",
      "Leader of be: Guy Verhofstadt, Wikipedia URL: https://nl.wikipedia.org/wiki/Guy_Verhofstadt\n",
      "Leader of be: Yves Leterme, Wikipedia URL: https://nl.wikipedia.org/wiki/Yves_Leterme\n",
      "Leader of be: Herman None, Wikipedia URL: https://nl.wikipedia.org/wiki/Herman_Van_Rompuy\n",
      "Leader of be: Léon Delacroix, Wikipedia URL: https://nl.wikipedia.org/wiki/L%C3%A9on_Delacroix\n",
      "Leader of be: Henry Carton, Wikipedia URL: https://nl.wikipedia.org/wiki/Henri_Carton_de_Wiart\n",
      "Leader of be: Georges Theunis, Wikipedia URL: https://nl.wikipedia.org/wiki/Georges_Theunis\n",
      "Leader of be: Aloïs Van de Vyvere, Wikipedia URL: https://nl.wikipedia.org/wiki/Aloys_Van_de_Vyvere\n",
      "Leader of be: Prosper Poullet, Wikipedia URL: https://nl.wikipedia.org/wiki/Prosper_Poullet\n",
      "Leader of be: Henri Jaspar, Wikipedia URL: https://nl.wikipedia.org/wiki/Henri_Jaspar\n",
      "Leader of be: Jules None, Wikipedia URL: https://nl.wikipedia.org/wiki/Jules_Renkin\n",
      "Leader of be: Paul Van Zeeland, Wikipedia URL: https://nl.wikipedia.org/wiki/Paul_van_Zeeland\n",
      "Leader of be: Achille Van Acker, Wikipedia URL: https://nl.wikipedia.org/wiki/Achiel_Van_Acker\n",
      "Leader of be: Camille Huysmans, Wikipedia URL: https://nl.wikipedia.org/wiki/Camille_Huysmans\n",
      "Leader of be: Gaston Eyskens, Wikipedia URL: https://nl.wikipedia.org/wiki/Gaston_Eyskens\n",
      "Leader of be: Leo Tindemans, Wikipedia URL: https://nl.wikipedia.org/wiki/Leo_Tindemans\n",
      "Leader of be: Elio Di Rupo, Wikipedia URL: https://nl.wikipedia.org/wiki/Elio_Di_Rupo\n",
      "Leader of be: Jean-Luc Dehaene, Wikipedia URL: https://nl.wikipedia.org/wiki/Jean-Luc_Dehaene\n",
      "Leader of be: Frans Schollaert, Wikipedia URL: https://nl.wikipedia.org/wiki/Frans_Schollaert\n",
      "Leader of be: Pieter Decker, Wikipedia URL: https://nl.wikipedia.org/wiki/Pieter_de_Decker\n",
      "Leader of be: Paul-Henri Spaak, Wikipedia URL: https://nl.wikipedia.org/wiki/Paul-Henri_Spaak\n",
      "Leader of be: Auguste Beernaert, Wikipedia URL: https://nl.wikipedia.org/wiki/Auguste_Beernaert\n",
      "Leader of be: Théodore Lefèvre, Wikipedia URL: https://nl.wikipedia.org/wiki/Th%C3%A9o_Lef%C3%A8vre\n",
      "Leader of be: Paul None, Wikipedia URL: https://nl.wikipedia.org/wiki/Paul_Vanden_Boeynants\n",
      "Leader of be: Étienne Gerlache, Wikipedia URL: https://nl.wikipedia.org/wiki/Etienne_de_Gerlache\n",
      "Leader of be: Wilfried Martens, Wikipedia URL: https://nl.wikipedia.org/wiki/Wilfried_Martens\n",
      "Leader of be: Mark Eyskens, Wikipedia URL: https://nl.wikipedia.org/wiki/Mark_Eyskens\n",
      "Leader of be: Pierre Harmel, Wikipedia URL: https://nl.wikipedia.org/wiki/Pierre_Harmel\n",
      "Leader of be: Hubert Pierlot, Wikipedia URL: https://nl.wikipedia.org/wiki/Hubert_Pierlot\n",
      "Leader of be: Jean-Baptiste Nothomb, Wikipedia URL: https://nl.wikipedia.org/wiki/Jean-Baptiste_Nothomb\n",
      "Leader of be: Edmond None, Wikipedia URL: https://nl.wikipedia.org/wiki/Edmond_Leburton\n",
      "Leader of be: Jean None, Wikipedia URL: https://nl.wikipedia.org/wiki/Jean_Duvieusart\n",
      "Leader of be: Joseph Lebeau, Wikipedia URL: https://nl.wikipedia.org/wiki/Joseph_Lebeau\n",
      "Leader of be: Charles Rogier, Wikipedia URL: https://nl.wikipedia.org/wiki/Charles_Rogier\n",
      "Leader of be: Barthélemy None, Wikipedia URL: https://nl.wikipedia.org/wiki/Barth%C3%A9lemy_de_Theux_de_Meylandt\n",
      "Leader of be: Felix None, Wikipedia URL: https://nl.wikipedia.org/wiki/Felix_de_M%C3%BBelenaere\n",
      "Leader of be: Alexander De Croo, Wikipedia URL: https://nl.wikipedia.org/wiki/Alexander_De_Croo\n",
      "Leader of be: Henri de Brouckère, Wikipedia URL: https://nl.wikipedia.org/wiki/Henri_de_Brouck%C3%A8re\n",
      "Leader of be: Albert None, Wikipedia URL: https://nl.wikipedia.org/wiki/Albert_Goblet_d%27Alviella\n",
      "Leader of be: Sylvain Weyer, Wikipedia URL: https://nl.wikipedia.org/wiki/Sylvain_Van_de_Weyer\n",
      "Leader of be: Jules Burlet, Wikipedia URL: https://nl.wikipedia.org/wiki/Jules_de_Burlet\n",
      "Leader of be: Paul-Émile None, Wikipedia URL: https://nl.wikipedia.org/wiki/Paul-Emile_Janson\n",
      "Leader of be: Jules Malou, Wikipedia URL: https://nl.wikipedia.org/wiki/Jules_Malou\n",
      "Leader of be: Charles Broqueville, Wikipedia URL: https://nl.wikipedia.org/wiki/Charles_de_Broqueville\n",
      "Leader of be: Joseph Pholien, Wikipedia URL: https://nl.wikipedia.org/wiki/Joseph_Pholien\n",
      "Leader of be: Jean Van Houtte, Wikipedia URL: https://nl.wikipedia.org/wiki/Jean_Van_Houtte\n",
      "Leader of be: Walthère Frère, Wikipedia URL: https://nl.wikipedia.org/wiki/Walth%C3%A8re_Fr%C3%A8re-Orban\n",
      "Leader of be: Gérard Cooreman, Wikipedia URL: https://nl.wikipedia.org/wiki/Gerard_Cooreman\n",
      "Leader of be: Jules Vandenpeereboom, Wikipedia URL: https://nl.wikipedia.org/wiki/Jules_Vandenpeereboom\n",
      "Leader of be: Paul None, Wikipedia URL: https://nl.wikipedia.org/wiki/Paul_de_Smet_de_Naeyer\n",
      "Leader of be: Jules Trooz, Wikipedia URL: https://nl.wikipedia.org/wiki/Jules_de_Trooz\n",
      "Leader of be: Jules d'Anethan, Wikipedia URL: https://nl.wikipedia.org/wiki/Jules_Joseph_d%27Anethan\n",
      "Leader of be: Charles Michel, Wikipedia URL: https://nl.wikipedia.org/wiki/Charles_Michel\n",
      "Leader of be: Sophie Wilmès, Wikipedia URL: https://nl.wikipedia.org/wiki/Sophie_Wilm%C3%A8s\n",
      "Leader of ma: Mohammed None, Wikipedia URL: https://ar.wikipedia.org/wiki/%D9%85%D8%AD%D9%85%D8%AF_%D8%A7%D9%84%D8%B3%D8%A7%D8%AF%D8%B3_%D8%A8%D9%86_%D8%A7%D9%84%D8%AD%D8%B3%D9%86\n",
      "Leader of ma: Hassan None, Wikipedia URL: https://ar.wikipedia.org/wiki/%D8%A7%D9%84%D8%AD%D8%B3%D9%86_%D8%A7%D9%84%D8%AB%D8%A7%D9%86%D9%8A_%D8%A8%D9%86_%D9%85%D8%AD%D9%85%D8%AF\n",
      "Leader of ma: Mohammed None, Wikipedia URL: https://ar.wikipedia.org/wiki/%D9%85%D8%AD%D9%85%D8%AF_%D8%A7%D9%84%D8%AE%D8%A7%D9%85%D8%B3_%D8%A8%D9%86_%D9%8A%D9%88%D8%B3%D9%81\n",
      "Leader of ma: Mohammed None, Wikipedia URL: https://ar.wikipedia.org/wiki/%D8%A7%D9%84%D9%82%D8%A7%D8%A6%D9%85_%D8%A8%D8%A3%D9%85%D8%B1_%D8%A7%D9%84%D9%84%D9%87_%D8%A7%D9%84%D8%B3%D8%B9%D8%AF%D9%8A\n",
      "Leader of ru: Vladimir Putin, Wikipedia URL: https://ru.wikipedia.org/wiki/%D0%9F%D1%83%D1%82%D0%B8%D0%BD,_%D0%92%D0%BB%D0%B0%D0%B4%D0%B8%D0%BC%D0%B8%D1%80_%D0%92%D0%BB%D0%B0%D0%B4%D0%B8%D0%BC%D0%B8%D1%80%D0%BE%D0%B2%D0%B8%D1%87\n",
      "Leader of ru: Dmitry Medvedev, Wikipedia URL: https://ru.wikipedia.org/wiki/%D0%9C%D0%B5%D0%B4%D0%B2%D0%B5%D0%B4%D0%B5%D0%B2,_%D0%94%D0%BC%D0%B8%D1%82%D1%80%D0%B8%D0%B9_%D0%90%D0%BD%D0%B0%D1%82%D0%BE%D0%BB%D1%8C%D0%B5%D0%B2%D0%B8%D1%87\n",
      "Leader of ru: Boris Yeltsin, Wikipedia URL: https://ru.wikipedia.org/wiki/%D0%95%D0%BB%D1%8C%D1%86%D0%B8%D0%BD,_%D0%91%D0%BE%D1%80%D0%B8%D1%81_%D0%9D%D0%B8%D0%BA%D0%BE%D0%BB%D0%B0%D0%B5%D0%B2%D0%B8%D1%87\n",
      "Leader of fr: François Hollande, Wikipedia URL: https://fr.wikipedia.org/wiki/Fran%C3%A7ois_Hollande\n",
      "Leader of fr: Nicolas Sarkozy, Wikipedia URL: https://fr.wikipedia.org/wiki/Nicolas_Sarkozy\n",
      "Leader of fr: François Mitterrand, Wikipedia URL: https://fr.wikipedia.org/wiki/Fran%C3%A7ois_Mitterrand\n",
      "Leader of fr: Charles de Gaulle, Wikipedia URL: https://fr.wikipedia.org/wiki/Charles_de_Gaulle\n",
      "Leader of fr: Jacques Chirac, Wikipedia URL: https://fr.wikipedia.org/wiki/Jacques_Chirac\n",
      "Leader of fr: Valéry Giscard d'Estaing, Wikipedia URL: https://fr.wikipedia.org/wiki/Val%C3%A9ry_Giscard_d%27Estaing\n",
      "Leader of fr: Georges Pompidou, Wikipedia URL: https://fr.wikipedia.org/wiki/Georges_Pompidou\n",
      "Leader of fr: Adolphe Thiers, Wikipedia URL: https://fr.wikipedia.org/wiki/Adolphe_Thiers\n",
      "Leader of fr: Napoléon Bonaparte, Wikipedia URL: https://fr.wikipedia.org/wiki/Napol%C3%A9on_III\n",
      "Leader of fr: Paul Doumer, Wikipedia URL: https://fr.wikipedia.org/wiki/Paul_Doumer\n",
      "Leader of fr: Alain Poher, Wikipedia URL: https://fr.wikipedia.org/wiki/Alain_Poher\n",
      "Leader of fr: Albert Lebrun, Wikipedia URL: https://fr.wikipedia.org/wiki/Albert_Lebrun\n",
      "Leader of fr: René Coty, Wikipedia URL: https://fr.wikipedia.org/wiki/Ren%C3%A9_Coty\n",
      "Leader of fr: Vincent Auriol, Wikipedia URL: https://fr.wikipedia.org/wiki/Vincent_Auriol\n",
      "Leader of fr: Patrice de Mac Mahon, Wikipedia URL: https://fr.wikipedia.org/wiki/Patrice_de_Mac_Mahon\n",
      "Leader of fr: Émile Loubet, Wikipedia URL: https://fr.wikipedia.org/wiki/%C3%89mile_Loubet\n",
      "Leader of fr: Raymond Poincaré, Wikipedia URL: https://fr.wikipedia.org/wiki/Raymond_Poincar%C3%A9\n",
      "Leader of fr: Marie Carnot, Wikipedia URL: https://fr.wikipedia.org/wiki/Sadi_Carnot_(homme_d%27%C3%89tat)\n",
      "Leader of fr: Alexandre Millerand, Wikipedia URL: https://fr.wikipedia.org/wiki/Alexandre_Millerand\n",
      "Leader of fr: Gaston Doumergue, Wikipedia URL: https://fr.wikipedia.org/wiki/Gaston_Doumergue\n",
      "Leader of fr: Félix Faure, Wikipedia URL: https://fr.wikipedia.org/wiki/F%C3%A9lix_Faure\n",
      "Leader of fr: Jules Grévy, Wikipedia URL: https://fr.wikipedia.org/wiki/Jules_Gr%C3%A9vy\n",
      "Leader of fr: Clément Fallières, Wikipedia URL: https://fr.wikipedia.org/wiki/Armand_Falli%C3%A8res\n",
      "Leader of fr: Paul Deschanel, Wikipedia URL: https://fr.wikipedia.org/wiki/Paul_Deschanel\n",
      "Leader of fr: Georges Bidault, Wikipedia URL: https://fr.wikipedia.org/wiki/Georges_Bidault\n",
      "Leader of fr: Jean Casimir-Perier, Wikipedia URL: https://fr.wikipedia.org/wiki/Jean_Casimir-Perier\n",
      "Leader of fr: Charles Dupuy, Wikipedia URL: https://fr.wikipedia.org/wiki/Charles_Dupuy\n",
      "Leader of fr: Louis Cavaignac, Wikipedia URL: https://fr.wikipedia.org/wiki/Eug%C3%A8ne_Cavaignac\n",
      "Leader of fr: Louis None, Wikipedia URL: https://fr.wikipedia.org/wiki/Louis_Jules_Trochu\n",
      "Leader of fr: Frédéric None, Wikipedia URL: https://fr.wikipedia.org/wiki/Fr%C3%A9d%C3%A9ric_Fran%C3%A7ois-Marsal\n",
      "Leader of fr: Emmanuel Macron, Wikipedia URL: https://fr.wikipedia.org/wiki/Emmanuel_Macron\n"
     ]
    }
   ],
   "source": [
    "\n",
    "def get_leaders():\n",
    "    root_url = \"https://country-leaders.onrender.com\" \n",
    "    status_url = \"status\"\n",
    "    req = requests.get(f\"{root_url}/{status_url}\")\n",
    "    if req.status_code == 200:    \n",
    "        print(req.text) \n",
    "    else:\n",
    "        print(f\"Error to access the website: {req.status_code}\")        \n",
    "    #get the cookie and countries\n",
    "    countries_url = \"countries\"\n",
    "    cookie_url = \"cookie\"    \n",
    "    cookie = requests.get(f\"{root_url}/{cookie_url}\").cookies\n",
    "    r = requests.get(f\"{root_url}/{countries_url}\", cookies=cookie)\n",
    "    countries = r.json()    \n",
    "    # leaders\n",
    "    leaders_url = 'leaders'\n",
    "    leaders_per_country = {}\n",
    "    for country in countries:        \n",
    "            leader_r = requests.get(f\"{root_url}/{leaders_url}\", cookies=cookie, params={\"country\":country})        \n",
    "            if leader_r.status_code == 200:\n",
    "                leaders = leader_r.json()            \n",
    "            leaders_per_country[country] = leaders\n",
    "            for leader in leaders:\n",
    "                print(f\"Leader of {country}: {leader.get('first_name')} {leader.get('last_name')}, Wikipedia URL: {leader.get('wikipedia_url')}\")\n",
    "         \n",
    "    return leaders_per_country\n",
    "\n",
    "# Test:\n",
    "leaders_data = get_leaders()\n"
   ]
  },
  {
   "cell_type": "code",
   "execution_count": 53,
   "metadata": {
    "id": "RICG4T3DPZ1b"
   },
   "outputs": [],
   "source": [
    "# Check the output of your function (2 lines)\n"
   ]
  },
  {
   "attachments": {},
   "cell_type": "markdown",
   "metadata": {
    "id": "8sCKxGrnJCxv"
   },
   "source": [
    "Does the function crash in the middle of the loop? Chances are the cookies have expired while looping over the leaders.\n",
    "\n",
    "Modify your function with an *exception* or check if the `status_code` is a cookie error. In either case, get new cookies and query the api again.\n",
    "\n",
    "If your code did not crash,"
   ]
  },
  {
   "cell_type": "code",
   "execution_count": 54,
   "metadata": {
    "id": "rgPd2dxgJiW1"
   },
   "outputs": [],
   "source": [
    "# < 25 lines\n",
    "\n"
   ]
  },
  {
   "cell_type": "markdown",
   "metadata": {
    "id": "3JvV-kPsKLl0"
   },
   "source": [
    "Check the output of your function again."
   ]
  },
  {
   "cell_type": "code",
   "execution_count": 55,
   "metadata": {
    "id": "mPXT-cxgKQof"
   },
   "outputs": [],
   "source": [
    "# Check the output of your function (1 line)\n"
   ]
  },
  {
   "cell_type": "markdown",
   "metadata": {
    "id": "Y9lgxh_NMSO3"
   },
   "source": [
    "Well done! It took a while however... Let's speed things up. The main *bottleneck* is the loop. We call on the Wikipedia website many times.\n",
    "\n",
    "You will use the same *session* to call all the wikipedia pages. Check the *Advanced Usage* section of the Requests module's documentation.\n",
    "\n",
    "Start by modifying the `get_first_paragraph()` function to accept a session parameter and adjust the `get()` method call."
   ]
  },
  {
   "cell_type": "code",
   "execution_count": 56,
   "metadata": {
    "id": "XTEVLIJ-V7z1"
   },
   "outputs": [],
   "source": [
    "# < 20 lines\n"
   ]
  },
  {
   "cell_type": "markdown",
   "metadata": {
    "id": "3gcgHMkeWK5-"
   },
   "source": [
    "Modify your `get_leaders()` function to make use of a single session for all the Wikipedia calls.\n",
    "1. create a `Session` object outside of the loop over countries.\n",
    "2. pass it to the `get_first_paragraph()` function as an argument."
   ]
  },
  {
   "cell_type": "code",
   "execution_count": 57,
   "metadata": {
    "id": "Kt6JtKDpOAIe"
   },
   "outputs": [],
   "source": [
    "# <25 lines\n"
   ]
  },
  {
   "cell_type": "markdown",
   "metadata": {
    "id": "fy09nMG9VOaI"
   },
   "source": [
    "Test your new functions.\n",
    "\n"
   ]
  },
  {
   "cell_type": "code",
   "execution_count": null,
   "metadata": {
    "id": "p5wFE6ivRf-Z"
   },
   "outputs": [],
   "source": []
  },
  {
   "attachments": {},
   "cell_type": "markdown",
   "metadata": {
    "id": "LtLTvw3wPqe0"
   },
   "source": [
    "## Saving your hard work\n",
    "\n",
    "The final step is to save the ``leaders_per_country`` dictionary in the `leaders.json` file using the [json](https://docs.python.org/3/library/json.html) module. Check out the `with` statement."
   ]
  },
  {
   "cell_type": "code",
   "execution_count": 58,
   "metadata": {
    "id": "pTNGKKrOjNDk"
   },
   "outputs": [],
   "source": [
    "# 3 lines\n"
   ]
  },
  {
   "attachments": {},
   "cell_type": "markdown",
   "metadata": {
    "id": "v7uf_kfGCWmM"
   },
   "source": [
    "Make sure the file can be read back. Write the code to read the file. And check the variables are the same."
   ]
  },
  {
   "cell_type": "code",
   "execution_count": 59,
   "metadata": {
    "id": "4VwNjBYyjPzs"
   },
   "outputs": [],
   "source": [
    "# 3 lines\n"
   ]
  },
  {
   "cell_type": "markdown",
   "metadata": {
    "id": "1fW_U7gXktyv"
   },
   "source": [
    "Make a function `save(leaders_per_country)` to call this code easily."
   ]
  },
  {
   "cell_type": "code",
   "execution_count": 60,
   "metadata": {
    "id": "EfknpnTljqUd"
   },
   "outputs": [],
   "source": [
    "# 3 lines\n"
   ]
  },
  {
   "cell_type": "code",
   "execution_count": 61,
   "metadata": {
    "id": "lWQ6bbn31cix"
   },
   "outputs": [],
   "source": [
    "# Call the function (1 line)\n"
   ]
  },
  {
   "cell_type": "markdown",
   "metadata": {
    "id": "W5W6nPihlQo9"
   },
   "source": [
    "## Tidy things up in a stand-alone python script\n",
    "\n",
    "Congratulations! You now have a working scraper! However, your code is scattered throughout this notebook along side the tutorials. Hardly production ready...\n",
    "\n",
    "Copy and paste what you need in a separate `leaders_scraper.py` file.\n",
    "Make sure it works by calling `python3 leaders_scraper.py`"
   ]
  },
  {
   "cell_type": "markdown",
   "metadata": {
    "id": "D0cvv193mlxY"
   },
   "source": [
    "## To go further\n",
    "\n",
    "If you want to practice scraping, you can read this section and tackle the exercise.\n",
    "\n",
    "You have noticed the API returns very partial results for country leaders. Many are missing. Overwrite the `get_leaders()` function to get its list from Wikipedia and extract their *personal details* from the frame on the side.\n",
    "\n",
    "Good luck!"
   ]
  }
 ],
 "metadata": {
  "colab": {
   "collapsed_sections": [],
   "provenance": [],
   "toc_visible": true
  },
  "kernelspec": {
   "display_name": "wikipedia_scrapper_env",
   "language": "python",
   "name": "python3"
  },
  "language_info": {
   "codemirror_mode": {
    "name": "ipython",
    "version": 3
   },
   "file_extension": ".py",
   "mimetype": "text/x-python",
   "name": "python",
   "nbconvert_exporter": "python",
   "pygments_lexer": "ipython3",
   "version": "3.12.7"
  }
 },
 "nbformat": 4,
 "nbformat_minor": 0
}
