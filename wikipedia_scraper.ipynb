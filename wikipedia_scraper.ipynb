{
 "cells": [
  {
   "cell_type": "markdown",
   "metadata": {
    "id": "rru15J6cT0aF"
   },
   "source": [
    "# Your first scraper\n",
    "In this project, we will guide you step by step through the process of:\n",
    "\n",
    "1. creating a self-contained development environment.\n",
    "1. retrieving some information from an API (a website for computers)\n",
    "2. leveraging it to scrape a website that does not provide an API\n",
    "3. saving the output for later processing\n",
    "\n",
    "Here we query an API for a list of countries and their past leaders. We then extract and sanitize their short bio from Wikipedia. Finally, we save the data to disk.\n",
    "\n",
    "This task is often the first (coding) step of a datascience project and you will often come back to it in the future.\n",
    "\n",
    "You will study topics such as *scraping*, *data structures*, *regular expressions*, *concurrency* and *file handling*. We will point out useful resources at the appropriate time. \n",
    "\n",
    "Let's dive in!"
   ]
  },
  {
   "attachments": {},
   "cell_type": "markdown",
   "metadata": {},
   "source": [
    "## Creating a clean environment\n",
    "\n",
    "Use the [`venv`](https://docs.python.org/3/library/venv.html) command to create a new environment called `wikipedia_scraper_env`.\n",
    "\n",
    "Activate it.\n",
    "\n",
    "You will find more info about virtual environments in the course content and on the web."
   ]
  },
  {
   "cell_type": "markdown",
   "metadata": {
    "id": "48qvKH56a1Wy"
   },
   "source": [
    "## API Scraping\n",
    "\n",
    "### A simple API query\n",
    "You will start with the basics: how to do a simple request to an [API endpoint](../../2.python/2.python_advanced/05.Scraping/5.apis.ipynb).\n",
    "\n",
    "You will use the [requests](https://requests.readthedocs.io/en/latest/) external library through the `import` keyword.\n",
    "\n",
    "NOTE: external libraries need to be installed first. Check their documentation.\n",
    "\n",
    "Check the [Quickstart](https://requests.readthedocs.io/en/latest/user/quickstart/) section of the Requests documentation to:\n",
    "1. use the `get()` method to connect to this endpoint: https://country-leaders.onrender.com/status\n",
    "2. check if the `status_code` is equal to 200, which means OK.\n",
    "    * if OK, `print()` the `text`` of the response.\n",
    "    * if not, `print()` the `status_code`. \n",
    "\n",
    "Here is the signification of [HTTP status codes](https://en.wikipedia.org/wiki/List_of_HTTP_status_codes).\n"
   ]
  },
  {
   "cell_type": "code",
   "execution_count": 1,
   "metadata": {
    "id": "9baoMWgIcK3E"
   },
   "outputs": [
    {
     "name": "stdout",
     "output_type": "stream",
     "text": [
      "\"Alive\"\n"
     ]
    }
   ],
   "source": [
    "import requests\n",
    "root_url = \"https://country-leaders.onrender.com\" \n",
    "status_url = \"status\"\n",
    "req = requests.get(f\"{root_url}/{status_url}\")\n",
    "\n",
    "if req.status_code == 200:    \n",
    "    print(req.text) \n",
    "else:\n",
    "    print(f\"Error to access the website: {req.status_code}\") "
   ]
  },
  {
   "cell_type": "markdown",
   "metadata": {
    "id": "TL72ovJUcZTA"
   },
   "source": [
    "### Dealing with JSON\n",
    "\n",
    "[JSON](https://quickref.me/json) is the preferred format to deal with data over the web. You cannot avoid it so you would better get acquainted.\n",
    "\n",
    "Connect to another endpoint called `/countries` but this time the API will return data in the JSON format. Check what to do in the Requests [Quickstart](https://requests.readthedocs.io/en/latest/user/quickstart/).\n"
   ]
  },
  {
   "cell_type": "code",
   "execution_count": 2,
   "metadata": {
    "id": "Y0DLiYCWcg5W"
   },
   "outputs": [
    {
     "name": "stdout",
     "output_type": "stream",
     "text": [
      "{'message': 'The cookie is missing'}\n"
     ]
    }
   ],
   "source": [
    "countries_url = \"countries\"\n",
    "req = requests.get(f\"{root_url}/{countries_url}\")\n",
    "countries = req.json()\n",
    "print(countries)\n"
   ]
  },
  {
   "cell_type": "markdown",
   "metadata": {
    "id": "1x25JA6vaRBi"
   },
   "source": [
    "### Cookies anyone?\n",
    "\n",
    "It looks like the access to this API is restricted...\n",
    "Query the `/cookie` endpoint and extract the appropriate field to access your cookie.\n",
    "\n",
    "You will need to use this cookie in each of the following API requests."
   ]
  },
  {
   "cell_type": "code",
   "execution_count": 3,
   "metadata": {
    "id": "dTDwpN9Q3nk_"
   },
   "outputs": [
    {
     "name": "stdout",
     "output_type": "stream",
     "text": [
      "<RequestsCookieJar[<Cookie user_cookie=92bb6a73-bd33-48bf-9f68-5f7c2667dfd0 for country-leaders.onrender.com/>]>\n"
     ]
    }
   ],
   "source": [
    "cookie_url = \"cookie\"    \n",
    "cookie = requests.get(f\"{root_url}/{cookie_url}\").cookies\n",
    "print(cookie)"
   ]
  },
  {
   "cell_type": "markdown",
   "metadata": {
    "id": "DHBNaFJo2M9e"
   },
   "source": [
    "Try to query the countries endpoint using the cookie, save the output and print it."
   ]
  },
  {
   "cell_type": "code",
   "execution_count": 4,
   "metadata": {
    "id": "9Y63sTXY7ppT"
   },
   "outputs": [
    {
     "name": "stdout",
     "output_type": "stream",
     "text": [
      "['us', 'be', 'ma', 'ru', 'fr']\n"
     ]
    }
   ],
   "source": [
    "r = requests.get(f\"{root_url}/{countries_url}\", cookies=cookie)\n",
    "countries = r.json()\n",
    "print(countries)"
   ]
  },
  {
   "cell_type": "markdown",
   "metadata": {
    "id": "I3HmuGTT9lU1"
   },
   "source": [
    "Chances are the cookie has expired... Thanksfully, you got a nice error message. For now, simply execute the last 2 cells quickly so you get a result."
   ]
  },
  {
   "cell_type": "markdown",
   "metadata": {
    "id": "Egv40GBV8rSH"
   },
   "source": [
    "### Getting the actual data from the API\n",
    "\n",
    "Query the `/leaders` endpoint."
   ]
  },
  {
   "cell_type": "code",
   "execution_count": 5,
   "metadata": {
    "id": "ZwLFqcBA8PaD"
   },
   "outputs": [
    {
     "name": "stdout",
     "output_type": "stream",
     "text": [
      "<Response [404]>\n"
     ]
    }
   ],
   "source": [
    "leaders_url = 'leaders'\n",
    "leaders = requests.get(f\"{root_url}/{leaders_url}\", cookies=cookie) \n",
    "print(leaders)"
   ]
  },
  {
   "cell_type": "markdown",
   "metadata": {
    "id": "1QyM7vWBAlY4"
   },
   "source": [
    "It looks like this endpoint requires additional information in order to return its result. Check the API [*documentation*](https://country-leaders.onrender.com/docs) in your web browser.\n",
    "\n",
    "Change the query to accept *parameters*. You should know where to find help by now."
   ]
  },
  {
   "cell_type": "code",
   "execution_count": 6,
   "metadata": {
    "id": "gIEFBhBeAkzf"
   },
   "outputs": [],
   "source": [
    "    \n",
    "leader = requests.get(f\"{root_url}/{leaders_url}\", cookies=cookie, params={\"country\":countries}) \n",
    "# print (leader.json())"
   ]
  },
  {
   "attachments": {},
   "cell_type": "markdown",
   "metadata": {
    "id": "uW3k5uquCirA"
   },
   "source": [
    "### A sneak peak at the data (finally)\n",
    "\n",
    "Look inside a few examples. Notice the dictionary keys available for each entry. You have your first example of *structured data*. This data was sanitized for your benefit, meaning it is readily exploitable without modification.\n",
    "\n",
    "You will also notice there is a Wikipedia link for each entry. You will need to extract additional information there. This will be a case of *semi-structured* data.\n",
    "\n",
    "The /countries endpoint returns a `list` of several country codes.\n",
    "\n",
    "You need to loop through this list and query the /leaders endpoint for each one. Save each `json` result in a dictionary called `leaders_per_country`."
   ]
  },
  {
   "cell_type": "code",
   "execution_count": 7,
   "metadata": {
    "id": "H8EdK2S9rvPJ"
   },
   "outputs": [],
   "source": [
    "leaders_per_country = {}\n",
    "for country in countries:        \n",
    "        leader = requests.get(f\"{root_url}/{leaders_url}\", cookies=cookie, params={\"country\":country})        \n",
    "        leaders_per_country[country] = leader.json()\n",
    "# print (leaders_per_country)\n"
   ]
  },
  {
   "cell_type": "code",
   "execution_count": 8,
   "metadata": {},
   "outputs": [],
   "source": [
    "# or 1 line\n"
   ]
  },
  {
   "cell_type": "markdown",
   "metadata": {
    "id": "WsA2j7s_RMgy"
   },
   "source": [
    "It is finally time to create a `get_leaders()` function for the above code. You will build on it later-on. This function takes no parameter. Inside it, you will need to:\n",
    "1. define the urls\n",
    "2. get the cookies\n",
    "2. get the countries\n",
    "3. loop over them and save their leaders in a dictionary\n",
    "4. return the dictionary"
   ]
  },
  {
   "cell_type": "code",
   "execution_count": 9,
   "metadata": {
    "id": "p6C7BgWQMxV2"
   },
   "outputs": [],
   "source": [
    "import requests\n",
    "def get_leaders():\n",
    "    root_url = \"https://country-leaders.onrender.com\" \n",
    "    status_url = \"status\"\n",
    "    req = requests.get(f\"{root_url}/{status_url}\")\n",
    "    if req.status_code == 200:    \n",
    "        print(req.text) \n",
    "    else:\n",
    "        print(f\"Error to access the website: {req.status_code}\")       \n",
    "    \n",
    "    countries_url = \"countries\"\n",
    "    cookie_url = \"cookie\"    \n",
    "    cookie = requests.get(f\"{root_url}/{cookie_url}\").cookies\n",
    "    r = requests.get(f\"{root_url}/{countries_url}\", cookies=cookie)\n",
    "    countries = r.json()   \n",
    "   \n",
    "    leaders_url = 'leaders'\n",
    "    leaders_per_country = {}\n",
    "    for country in countries:        \n",
    "            leader = requests.get(f\"{root_url}/{leaders_url}\", cookies=cookie, params={\"country\":country})        \n",
    "            leaders_per_country[country] = leader.json()\n",
    "    return leaders_per_country\n",
    "\n"
   ]
  },
  {
   "cell_type": "markdown",
   "metadata": {
    "id": "I76-InoKuuV8"
   },
   "source": [
    "Test your function, save the result in the `leaders_per_country` dictionary and check its ouput."
   ]
  },
  {
   "cell_type": "code",
   "execution_count": 10,
   "metadata": {
    "id": "eXwd8o7Gu8yG"
   },
   "outputs": [
    {
     "name": "stdout",
     "output_type": "stream",
     "text": [
      "\"Alive\"\n"
     ]
    }
   ],
   "source": [
    "# 2 lines\n",
    "leaders_per_country = get_leaders()"
   ]
  },
  {
   "cell_type": "markdown",
   "metadata": {
    "id": "D1Fc1mHySn9g"
   },
   "source": [
    "## Extracting data from Wikipedia\n",
    "\n",
    "Query one of the leaders' Wikipedia urls and display its `text` (not JSON)."
   ]
  },
  {
   "cell_type": "code",
   "execution_count": 11,
   "metadata": {
    "id": "cEKKqyTHr3fD"
   },
   "outputs": [],
   "source": [
    "first_leader = next(iter(leaders_per_country.values()))[0]\n",
    "wiki_url = first_leader.get(\"wikipedia_url\")\n",
    "r = requests.get(wiki_url)\n",
    "# print(r.text)\n"
   ]
  },
  {
   "attachments": {},
   "cell_type": "markdown",
   "metadata": {
    "id": "ZlsqjiTYr8sK"
   },
   "source": [
    "Ouch! You get the raw HTML code of the webpage. If you try to deal with it without tools, you will be there all night. Instead, use the [beautiful soup 4](https://www.crummy.com/software/BeautifulSoup/bs4/doc/) *external* library. You will find more info about it [here](../../2.python/2.python_advanced/05.Scraping/1.beautifulsoup_basic.ipynb) and [here](../../2.python/2.python_advanced/05.Scraping/2.beautifulsoup_advanced.ipynb)\n",
    "\n",
    "Using the Quickstart section, start by importing the library and loading the output of your `get_text()` function.\n",
    "\n",
    "Use the `prettify()` function and print it to take a look. You will start the actual parsing in the next step."
   ]
  },
  {
   "cell_type": "code",
   "execution_count": 12,
   "metadata": {
    "id": "h79ahwJvr7p-"
   },
   "outputs": [],
   "source": [
    "# 3 lines\n"
   ]
  },
  {
   "cell_type": "markdown",
   "metadata": {
    "id": "aQsLjaig7_dY"
   },
   "source": [
    "That looks better but you need to extract the right part of the webpage: the text of the first paragraph.\n",
    "\n",
    "It is a bit tricky because Wikipedia pages slightly differ in structure from one language to the next. We cannot simply get the text for the first HTML paragraph.\n",
    "\n",
    "You will start by getting all the HTML paragraphs from the HTML source and saving them in the `paragraphs` variable.\n",
    "\n",
    "Use the documentation or google the appropriate keywords."
   ]
  },
  {
   "cell_type": "code",
   "execution_count": 13,
   "metadata": {
    "id": "Vs8HeBx19oyC"
   },
   "outputs": [],
   "source": [
    "from bs4 import BeautifulSoup\n",
    "soup = BeautifulSoup(r.text, 'html.parser')\n",
    "paragraphs = soup.find_all('p')\n",
    "# print(paragraphs)"
   ]
  },
  {
   "cell_type": "markdown",
   "metadata": {
    "id": "3tlaL3aM9zoo"
   },
   "source": [
    "If you try different urls, you might find that the paragraph you want may be at a different index each time.\n",
    "\n",
    "That is where you need to be clever and ask yourself what would be a reliable way to identify the right index ie. which string matches only the first paragraph whatever the language...\n",
    "\n",
    "Spend a good 30 minutes on the problem and brainstorm with your fellow learners. If you come out empty handed, ask your coach.\n",
    "\n",
    "1. Loop over the HTML paragraphs\n",
    "2. When you have identified the correct one\n",
    "  * store the [text](https://www.crummy.com/software/BeautifulSoup/bs4/doc/#output) inside the `first_paragraph` variable\n",
    "  * exit the loop"
   ]
  },
  {
   "cell_type": "code",
   "execution_count": 14,
   "metadata": {
    "id": "0DduDXaQALau"
   },
   "outputs": [
    {
     "name": "stdout",
     "output_type": "stream",
     "text": [
      "George Washington(February 22, 1732 –December 14, 1799) was aFounding Father of the United States, military officer, and farmer who served as the firstpresident of the United Statesfrom 1789 to 1797. Appointed by theSecond Continental Congressas commander of theContinental Armyin 1775, Washington ledPatriotforces to victory in theAmerican Revolutionary Warand then served as president of theConstitutional Conventionin 1787, which drafted the currentConstitution of the United States. Washington has thus become commonly known as the \"Father of his Country\".\n"
     ]
    }
   ],
   "source": [
    "first_paragraph = None\n",
    "for paragraph in paragraphs:\n",
    "    text = paragraph.get_text(strip=True)\n",
    "    if text:  # Check if the paragraph has non-empty text\n",
    "        first_paragraph = text\n",
    "        break\n",
    "print(first_paragraph)"
   ]
  },
  {
   "cell_type": "markdown",
   "metadata": {
    "id": "KFe-1LlIHBGm"
   },
   "source": [
    "At this stage, you can create a function to maintain consistency in your code. We will give you its *skeleton*, you will copy the code you wrote and make it work inside a function.\n",
    "\n",
    "Don't forget to test your function."
   ]
  },
  {
   "cell_type": "code",
   "execution_count": 15,
   "metadata": {
    "id": "wQORoweDHARO"
   },
   "outputs": [],
   "source": [
    "def get_first_paragraph(wikipedia_url):\n",
    "    print(wikipedia_url)        \n",
    "    r = requests.get(wikipedia_url)   \n",
    "    soup = BeautifulSoup(r.text, 'html.parser')\n",
    "    paragraphs = soup.find_all('p')    \n",
    "    first_paragraph = None\n",
    "    for paragraph in paragraphs:\n",
    "        text = paragraph.get_text(strip=True)\n",
    "        if text:  #check non-empty paragraphs\n",
    "            first_paragraph = text\n",
    "            break    \n",
    "    return first_paragraph"
   ]
  },
  {
   "cell_type": "code",
   "execution_count": 16,
   "metadata": {},
   "outputs": [
    {
     "name": "stdout",
     "output_type": "stream",
     "text": [
      "https://en.wikipedia.org/wiki/George_Washington\n",
      "George Washington(February 22, 1732 –December 14, 1799) was aFounding Father of the United States, military officer, and farmer who served as the firstpresident of the United Statesfrom 1789 to 1797. Appointed by theSecond Continental Congressas commander of theContinental Armyin 1775, Washington ledPatriotforces to victory in theAmerican Revolutionary Warand then served as president of theConstitutional Conventionin 1787, which drafted the currentConstitution of the United States. Washington has thus become commonly known as the \"Father of his Country\".\n"
     ]
    }
   ],
   "source": [
    "# Test: 3 lines\n",
    "first_paragraph = get_first_paragraph(wiki_url)\n",
    "print(first_paragraph)"
   ]
  },
  {
   "cell_type": "markdown",
   "metadata": {
    "id": "UtoM4dgsBVoD"
   },
   "source": [
    "### Regular expressions to the rescue\n",
    "\n",
    "Now that you have extracted the content of the first paragraph, the only thing that remains to finish your Wikipedia scraper is to sanitize the output.\n",
    "\n",
    "Indeed some Wikipedia references, HTML code, phonetic pronunciation etc. may linger. You might find *regular expressions* handy to get rid of them and obtain pristine text. You will find some useful documentation about regular expressions [here](../../2.python/2.python_advanced/03.Regex/regex.ipynb)\n",
    "\n",
    "Once you have one of your regex working online, try it in the cell below. \n",
    "\n",
    "Hints: \n",
    "* Check the `sub()` method documentation.\n",
    "* Make sure to test urls in different languages. Some may look good but other do not."
   ]
  },
  {
   "cell_type": "code",
   "execution_count": 17,
   "metadata": {
    "id": "7DHEAb6oBUxd"
   },
   "outputs": [
    {
     "name": "stdout",
     "output_type": "stream",
     "text": [
      "George Washington(February 22, 1732 –December 14, 1799) was a Founding Father of the United States, military officer, and farmer who served as the firstpresident of the United Statesfrom 1789 to 1797. Appointed by the Second Continental Congressas commander of the Continental Armyin 1775, Washington led Patriotforces to victory in the American Revolutionary Warand then served as president of the Constitutional Conventionin 1787, which drafted the current Constitution of the United States. Washington has thus become commonly known as the \"Father of his Country\".\n"
     ]
    }
   ],
   "source": [
    "import re    \n",
    "first_paragraph = re.sub(r'\\s+', ' ', first_paragraph)    \n",
    "first_paragraph = re.sub(r'([a-zA-Z])\\s?\\(', r'\\1(', first_paragraph)\n",
    "first_paragraph = re.sub(r'\\.([A-Za-z])', r'. \\1', first_paragraph)\n",
    "first_paragraph = re.sub(r'([a-z])([A-Z])', r'\\1 \\2', first_paragraph)\n",
    "\n",
    "print(first_paragraph)\n",
    "\n"
   ]
  },
  {
   "cell_type": "markdown",
   "metadata": {
    "id": "QekqWs-4E0bK"
   },
   "source": [
    "Overwrite the `get_first_paragraph()` function by applying your regex to the first paragraph before returning it."
   ]
  },
  {
   "cell_type": "code",
   "execution_count": 18,
   "metadata": {
    "id": "voT-jzd7FMOc"
   },
   "outputs": [
    {
     "name": "stdout",
     "output_type": "stream",
     "text": [
      "https://en.wikipedia.org/wiki/George_Washington\n",
      "George Washington(February 22, 1732 –December 14, 1799) was a Founding Father of the United States, military officer, and farmer who served as the firstpresident of the United Statesfrom 1789 to 1797. Appointed by the Second Continental Congressas commander of the Continental Armyin 1775, Washington led Patriotforces to victory in the American Revolutionary Warand then served as president of the Constitutional Conventionin 1787, which drafted the current Constitution of the United States. Washington has thus become commonly known as the \"Father of his Country\".\n"
     ]
    }
   ],
   "source": [
    "# 10 lines\n",
    "\n",
    "def get_first_paragraph(wikipedia_url):\n",
    "    print(wikipedia_url)   \n",
    "    r = requests.get(wikipedia_url)    \n",
    "    soup = BeautifulSoup(r.text, 'html.parser')\n",
    "    paragraphs = soup.find_all('p')\n",
    "\n",
    "    first_paragraph = None\n",
    "    for paragraph in paragraphs:\n",
    "        text = paragraph.get_text(strip=True)\n",
    "        if text:  #check non-empty paragraphs\n",
    "            first_paragraph = text\n",
    "            break\n",
    "\n",
    "    first_paragraph = re.sub(r'\\s+', ' ', first_paragraph)    \n",
    "    first_paragraph = re.sub(r'([a-zA-Z])\\s?\\(', r'\\1(', first_paragraph)\n",
    "    first_paragraph = re.sub(r'\\.([A-Za-z])', r'. \\1', first_paragraph)\n",
    "    first_paragraph = re.sub(r'([a-z])([A-Z])', r'\\1 \\2', first_paragraph)\n",
    "    return first_paragraph\n",
    "\n",
    "# Test:\n",
    "first_paragraph = get_first_paragraph(wiki_url)\n",
    "print(first_paragraph)\n",
    "\n"
   ]
  },
  {
   "cell_type": "markdown",
   "metadata": {
    "id": "gyZkffTEFR0z"
   },
   "source": [
    "Come up with other regexes to capture other patterns and sanitize the outputs completely. Modify your `get_first_paragraph()` function accordingly."
   ]
  },
  {
   "cell_type": "code",
   "execution_count": 19,
   "metadata": {
    "id": "NOmkLM9JFRCp"
   },
   "outputs": [],
   "source": [
    "# < 20 lines\n"
   ]
  },
  {
   "cell_type": "markdown",
   "metadata": {
    "id": "VY7bM7Z1Nr0K"
   },
   "source": [
    "## Putting it all together\n",
    "\n",
    "Let's go back to your `get_leaders()` function and update it with an *inner* loop over each leader. You will query the url provided and extract the first paragraph using the `get_first_paragraph()` function you just finished. You will then update that `leader`'s dictionary and move on to the next one.\n",
    "\n",
    "Notice, the rest of the code should not change since you modify the leader's data one by one."
   ]
  },
  {
   "cell_type": "code",
   "execution_count": 20,
   "metadata": {},
   "outputs": [
    {
     "name": "stdout",
     "output_type": "stream",
     "text": [
      "\"Alive\"\n",
      "Leader of us: George Washington, Wikipedia URL: https://en.wikipedia.org/wiki/George_Washington\n",
      "Leader of us: Barack Obama, Wikipedia URL: https://en.wikipedia.org/wiki/Barack_Obama\n",
      "Leader of us: Abraham Lincoln, Wikipedia URL: https://en.wikipedia.org/wiki/Abraham_Lincoln\n",
      "Leader of us: George Bush, Wikipedia URL: https://en.wikipedia.org/wiki/George_W._Bush\n",
      "Leader of us: Bill Clinton, Wikipedia URL: https://en.wikipedia.org/wiki/Bill_Clinton\n",
      "Leader of us: Joe Biden, Wikipedia URL: https://en.wikipedia.org/wiki/Joe_Biden\n",
      "Leader of us: Franklin Roosevelt, Wikipedia URL: https://en.wikipedia.org/wiki/Franklin_D._Roosevelt\n",
      "Leader of us: Andrew Johnson, Wikipedia URL: https://en.wikipedia.org/wiki/Andrew_Johnson\n",
      "Leader of us: Gerald Ford, Wikipedia URL: https://en.wikipedia.org/wiki/Gerald_Ford\n",
      "Leader of us: Richard Nixon, Wikipedia URL: https://en.wikipedia.org/wiki/Richard_Nixon\n",
      "Leader of us: Lyndon Johnson, Wikipedia URL: https://en.wikipedia.org/wiki/Lyndon_B._Johnson\n",
      "Leader of us: John Kennedy, Wikipedia URL: https://en.wikipedia.org/wiki/John_F._Kennedy\n",
      "Leader of us: Dwight Eisenhower, Wikipedia URL: https://en.wikipedia.org/wiki/Dwight_D._Eisenhower\n",
      "Leader of us: Ronald Reagan, Wikipedia URL: https://en.wikipedia.org/wiki/Ronald_Reagan\n",
      "Leader of us: Harry Truman, Wikipedia URL: https://en.wikipedia.org/wiki/Harry_S._Truman\n",
      "Leader of us: John Adams, Wikipedia URL: https://en.wikipedia.org/wiki/John_Adams\n",
      "Leader of us: Thomas Jefferson, Wikipedia URL: https://en.wikipedia.org/wiki/Thomas_Jefferson\n",
      "Leader of us: James Madison, Wikipedia URL: https://en.wikipedia.org/wiki/James_Madison\n",
      "Leader of us: James Monroe, Wikipedia URL: https://en.wikipedia.org/wiki/James_Monroe\n",
      "Leader of us: John Adams, Wikipedia URL: https://en.wikipedia.org/wiki/John_Quincy_Adams\n",
      "Leader of us: Andrew Jackson, Wikipedia URL: https://en.wikipedia.org/wiki/Andrew_Jackson\n",
      "Leader of us: Martin Van Buren, Wikipedia URL: https://en.wikipedia.org/wiki/Martin_Van_Buren\n",
      "Leader of us: William Harrison, Wikipedia URL: https://en.wikipedia.org/wiki/William_Henry_Harrison\n",
      "Leader of us: John Tyler, Wikipedia URL: https://en.wikipedia.org/wiki/John_Tyler\n",
      "Leader of us: James Polk, Wikipedia URL: https://en.wikipedia.org/wiki/James_K._Polk\n",
      "Leader of us: Zachary Taylor, Wikipedia URL: https://en.wikipedia.org/wiki/Zachary_Taylor\n",
      "Leader of us: Millard Fillmore, Wikipedia URL: https://en.wikipedia.org/wiki/Millard_Fillmore\n",
      "Leader of us: Franklin Pierce, Wikipedia URL: https://en.wikipedia.org/wiki/Franklin_Pierce\n",
      "Leader of us: James Buchanan, Wikipedia URL: https://en.wikipedia.org/wiki/James_Buchanan\n",
      "Leader of us: Donald Trump, Wikipedia URL: https://en.wikipedia.org/wiki/Donald_Trump\n",
      "Leader of us: George Bush, Wikipedia URL: https://en.wikipedia.org/wiki/George_H._W._Bush\n",
      "Leader of us: Jimmy Carter, Wikipedia URL: https://en.wikipedia.org/wiki/Jimmy_Carter\n",
      "Leader of us: Theodore Roosevelt, Wikipedia URL: https://en.wikipedia.org/wiki/Theodore_Roosevelt\n",
      "Leader of us: Woodrow Wilson, Wikipedia URL: https://en.wikipedia.org/wiki/Woodrow_Wilson\n",
      "Leader of us: James Garfield, Wikipedia URL: https://en.wikipedia.org/wiki/James_A._Garfield\n",
      "Leader of us: Ulysses Grant, Wikipedia URL: https://en.wikipedia.org/wiki/Ulysses_S._Grant\n",
      "Leader of us: William McKinley, Wikipedia URL: https://en.wikipedia.org/wiki/William_McKinley\n",
      "Leader of us: Stephen Cleveland, Wikipedia URL: https://en.wikipedia.org/wiki/Grover_Cleveland\n",
      "Leader of us: Herbert Hoover, Wikipedia URL: https://en.wikipedia.org/wiki/Herbert_Hoover\n",
      "Leader of us: Warren Harding, Wikipedia URL: https://en.wikipedia.org/wiki/Warren_G._Harding\n",
      "Leader of us: Chester Arthur, Wikipedia URL: https://en.wikipedia.org/wiki/Chester_A._Arthur\n",
      "Leader of us: William Taft, Wikipedia URL: https://en.wikipedia.org/wiki/William_Howard_Taft\n",
      "Leader of us: Benjamin Harrison, Wikipedia URL: https://en.wikipedia.org/wiki/Benjamin_Harrison\n",
      "Leader of us: Rutherford Hayes, Wikipedia URL: https://en.wikipedia.org/wiki/Rutherford_B._Hayes\n",
      "Leader of us: John Coolidge, Wikipedia URL: https://en.wikipedia.org/wiki/Calvin_Coolidge\n",
      "Leader of be: Guy Verhofstadt, Wikipedia URL: https://nl.wikipedia.org/wiki/Guy_Verhofstadt\n",
      "Leader of be: Yves Leterme, Wikipedia URL: https://nl.wikipedia.org/wiki/Yves_Leterme\n",
      "Leader of be: Herman None, Wikipedia URL: https://nl.wikipedia.org/wiki/Herman_Van_Rompuy\n",
      "Leader of be: Léon Delacroix, Wikipedia URL: https://nl.wikipedia.org/wiki/L%C3%A9on_Delacroix\n",
      "Leader of be: Henry Carton, Wikipedia URL: https://nl.wikipedia.org/wiki/Henri_Carton_de_Wiart\n",
      "Leader of be: Georges Theunis, Wikipedia URL: https://nl.wikipedia.org/wiki/Georges_Theunis\n",
      "Leader of be: Aloïs Van de Vyvere, Wikipedia URL: https://nl.wikipedia.org/wiki/Aloys_Van_de_Vyvere\n",
      "Leader of be: Prosper Poullet, Wikipedia URL: https://nl.wikipedia.org/wiki/Prosper_Poullet\n",
      "Leader of be: Henri Jaspar, Wikipedia URL: https://nl.wikipedia.org/wiki/Henri_Jaspar\n",
      "Leader of be: Jules None, Wikipedia URL: https://nl.wikipedia.org/wiki/Jules_Renkin\n",
      "Leader of be: Paul Van Zeeland, Wikipedia URL: https://nl.wikipedia.org/wiki/Paul_van_Zeeland\n",
      "Leader of be: Achille Van Acker, Wikipedia URL: https://nl.wikipedia.org/wiki/Achiel_Van_Acker\n",
      "Leader of be: Camille Huysmans, Wikipedia URL: https://nl.wikipedia.org/wiki/Camille_Huysmans\n",
      "Leader of be: Gaston Eyskens, Wikipedia URL: https://nl.wikipedia.org/wiki/Gaston_Eyskens\n",
      "Leader of be: Leo Tindemans, Wikipedia URL: https://nl.wikipedia.org/wiki/Leo_Tindemans\n",
      "Leader of be: Elio Di Rupo, Wikipedia URL: https://nl.wikipedia.org/wiki/Elio_Di_Rupo\n",
      "Leader of be: Jean-Luc Dehaene, Wikipedia URL: https://nl.wikipedia.org/wiki/Jean-Luc_Dehaene\n",
      "Leader of be: Frans Schollaert, Wikipedia URL: https://nl.wikipedia.org/wiki/Frans_Schollaert\n",
      "Leader of be: Pieter Decker, Wikipedia URL: https://nl.wikipedia.org/wiki/Pieter_de_Decker\n",
      "Leader of be: Paul-Henri Spaak, Wikipedia URL: https://nl.wikipedia.org/wiki/Paul-Henri_Spaak\n",
      "Leader of be: Auguste Beernaert, Wikipedia URL: https://nl.wikipedia.org/wiki/Auguste_Beernaert\n",
      "Leader of be: Théodore Lefèvre, Wikipedia URL: https://nl.wikipedia.org/wiki/Th%C3%A9o_Lef%C3%A8vre\n",
      "Leader of be: Paul None, Wikipedia URL: https://nl.wikipedia.org/wiki/Paul_Vanden_Boeynants\n",
      "Leader of be: Étienne Gerlache, Wikipedia URL: https://nl.wikipedia.org/wiki/Etienne_de_Gerlache\n",
      "Leader of be: Wilfried Martens, Wikipedia URL: https://nl.wikipedia.org/wiki/Wilfried_Martens\n",
      "Leader of be: Mark Eyskens, Wikipedia URL: https://nl.wikipedia.org/wiki/Mark_Eyskens\n",
      "Leader of be: Pierre Harmel, Wikipedia URL: https://nl.wikipedia.org/wiki/Pierre_Harmel\n",
      "Leader of be: Hubert Pierlot, Wikipedia URL: https://nl.wikipedia.org/wiki/Hubert_Pierlot\n",
      "Leader of be: Jean-Baptiste Nothomb, Wikipedia URL: https://nl.wikipedia.org/wiki/Jean-Baptiste_Nothomb\n",
      "Leader of be: Edmond None, Wikipedia URL: https://nl.wikipedia.org/wiki/Edmond_Leburton\n",
      "Leader of be: Jean None, Wikipedia URL: https://nl.wikipedia.org/wiki/Jean_Duvieusart\n",
      "Leader of be: Joseph Lebeau, Wikipedia URL: https://nl.wikipedia.org/wiki/Joseph_Lebeau\n",
      "Leader of be: Charles Rogier, Wikipedia URL: https://nl.wikipedia.org/wiki/Charles_Rogier\n",
      "Leader of be: Barthélemy None, Wikipedia URL: https://nl.wikipedia.org/wiki/Barth%C3%A9lemy_de_Theux_de_Meylandt\n",
      "Leader of be: Felix None, Wikipedia URL: https://nl.wikipedia.org/wiki/Felix_de_M%C3%BBelenaere\n",
      "Leader of be: Alexander De Croo, Wikipedia URL: https://nl.wikipedia.org/wiki/Alexander_De_Croo\n",
      "Leader of be: Henri de Brouckère, Wikipedia URL: https://nl.wikipedia.org/wiki/Henri_de_Brouck%C3%A8re\n",
      "Leader of be: Albert None, Wikipedia URL: https://nl.wikipedia.org/wiki/Albert_Goblet_d%27Alviella\n",
      "Leader of be: Sylvain Weyer, Wikipedia URL: https://nl.wikipedia.org/wiki/Sylvain_Van_de_Weyer\n",
      "Leader of be: Jules Burlet, Wikipedia URL: https://nl.wikipedia.org/wiki/Jules_de_Burlet\n",
      "Leader of be: Paul-Émile None, Wikipedia URL: https://nl.wikipedia.org/wiki/Paul-Emile_Janson\n",
      "Leader of be: Jules Malou, Wikipedia URL: https://nl.wikipedia.org/wiki/Jules_Malou\n",
      "Leader of be: Charles Broqueville, Wikipedia URL: https://nl.wikipedia.org/wiki/Charles_de_Broqueville\n",
      "Leader of be: Joseph Pholien, Wikipedia URL: https://nl.wikipedia.org/wiki/Joseph_Pholien\n",
      "Leader of be: Jean Van Houtte, Wikipedia URL: https://nl.wikipedia.org/wiki/Jean_Van_Houtte\n",
      "Leader of be: Walthère Frère, Wikipedia URL: https://nl.wikipedia.org/wiki/Walth%C3%A8re_Fr%C3%A8re-Orban\n",
      "Leader of be: Gérard Cooreman, Wikipedia URL: https://nl.wikipedia.org/wiki/Gerard_Cooreman\n",
      "Leader of be: Jules Vandenpeereboom, Wikipedia URL: https://nl.wikipedia.org/wiki/Jules_Vandenpeereboom\n",
      "Leader of be: Paul None, Wikipedia URL: https://nl.wikipedia.org/wiki/Paul_de_Smet_de_Naeyer\n",
      "Leader of be: Jules Trooz, Wikipedia URL: https://nl.wikipedia.org/wiki/Jules_de_Trooz\n",
      "Leader of be: Jules d'Anethan, Wikipedia URL: https://nl.wikipedia.org/wiki/Jules_Joseph_d%27Anethan\n",
      "Leader of be: Charles Michel, Wikipedia URL: https://nl.wikipedia.org/wiki/Charles_Michel\n",
      "Leader of be: Sophie Wilmès, Wikipedia URL: https://nl.wikipedia.org/wiki/Sophie_Wilm%C3%A8s\n",
      "Leader of ma: Mohammed None, Wikipedia URL: https://ar.wikipedia.org/wiki/%D9%85%D8%AD%D9%85%D8%AF_%D8%A7%D9%84%D8%B3%D8%A7%D8%AF%D8%B3_%D8%A8%D9%86_%D8%A7%D9%84%D8%AD%D8%B3%D9%86\n",
      "Leader of ma: Hassan None, Wikipedia URL: https://ar.wikipedia.org/wiki/%D8%A7%D9%84%D8%AD%D8%B3%D9%86_%D8%A7%D9%84%D8%AB%D8%A7%D9%86%D9%8A_%D8%A8%D9%86_%D9%85%D8%AD%D9%85%D8%AF\n",
      "Leader of ma: Mohammed None, Wikipedia URL: https://ar.wikipedia.org/wiki/%D9%85%D8%AD%D9%85%D8%AF_%D8%A7%D9%84%D8%AE%D8%A7%D9%85%D8%B3_%D8%A8%D9%86_%D9%8A%D9%88%D8%B3%D9%81\n",
      "Leader of ma: Mohammed None, Wikipedia URL: https://ar.wikipedia.org/wiki/%D8%A7%D9%84%D9%82%D8%A7%D8%A6%D9%85_%D8%A8%D8%A3%D9%85%D8%B1_%D8%A7%D9%84%D9%84%D9%87_%D8%A7%D9%84%D8%B3%D8%B9%D8%AF%D9%8A\n",
      "Leader of ru: Vladimir Putin, Wikipedia URL: https://ru.wikipedia.org/wiki/%D0%9F%D1%83%D1%82%D0%B8%D0%BD,_%D0%92%D0%BB%D0%B0%D0%B4%D0%B8%D0%BC%D0%B8%D1%80_%D0%92%D0%BB%D0%B0%D0%B4%D0%B8%D0%BC%D0%B8%D1%80%D0%BE%D0%B2%D0%B8%D1%87\n",
      "Leader of ru: Dmitry Medvedev, Wikipedia URL: https://ru.wikipedia.org/wiki/%D0%9C%D0%B5%D0%B4%D0%B2%D0%B5%D0%B4%D0%B5%D0%B2,_%D0%94%D0%BC%D0%B8%D1%82%D1%80%D0%B8%D0%B9_%D0%90%D0%BD%D0%B0%D1%82%D0%BE%D0%BB%D1%8C%D0%B5%D0%B2%D0%B8%D1%87\n",
      "Leader of ru: Boris Yeltsin, Wikipedia URL: https://ru.wikipedia.org/wiki/%D0%95%D0%BB%D1%8C%D1%86%D0%B8%D0%BD,_%D0%91%D0%BE%D1%80%D0%B8%D1%81_%D0%9D%D0%B8%D0%BA%D0%BE%D0%BB%D0%B0%D0%B5%D0%B2%D0%B8%D1%87\n",
      "Leader of fr: François Hollande, Wikipedia URL: https://fr.wikipedia.org/wiki/Fran%C3%A7ois_Hollande\n",
      "Leader of fr: Nicolas Sarkozy, Wikipedia URL: https://fr.wikipedia.org/wiki/Nicolas_Sarkozy\n",
      "Leader of fr: François Mitterrand, Wikipedia URL: https://fr.wikipedia.org/wiki/Fran%C3%A7ois_Mitterrand\n",
      "Leader of fr: Charles de Gaulle, Wikipedia URL: https://fr.wikipedia.org/wiki/Charles_de_Gaulle\n",
      "Leader of fr: Jacques Chirac, Wikipedia URL: https://fr.wikipedia.org/wiki/Jacques_Chirac\n",
      "Leader of fr: Valéry Giscard d'Estaing, Wikipedia URL: https://fr.wikipedia.org/wiki/Val%C3%A9ry_Giscard_d%27Estaing\n",
      "Leader of fr: Georges Pompidou, Wikipedia URL: https://fr.wikipedia.org/wiki/Georges_Pompidou\n",
      "Leader of fr: Adolphe Thiers, Wikipedia URL: https://fr.wikipedia.org/wiki/Adolphe_Thiers\n",
      "Leader of fr: Napoléon Bonaparte, Wikipedia URL: https://fr.wikipedia.org/wiki/Napol%C3%A9on_III\n",
      "Leader of fr: Paul Doumer, Wikipedia URL: https://fr.wikipedia.org/wiki/Paul_Doumer\n",
      "Leader of fr: Alain Poher, Wikipedia URL: https://fr.wikipedia.org/wiki/Alain_Poher\n",
      "Leader of fr: Albert Lebrun, Wikipedia URL: https://fr.wikipedia.org/wiki/Albert_Lebrun\n",
      "Leader of fr: René Coty, Wikipedia URL: https://fr.wikipedia.org/wiki/Ren%C3%A9_Coty\n",
      "Leader of fr: Vincent Auriol, Wikipedia URL: https://fr.wikipedia.org/wiki/Vincent_Auriol\n",
      "Leader of fr: Patrice de Mac Mahon, Wikipedia URL: https://fr.wikipedia.org/wiki/Patrice_de_Mac_Mahon\n",
      "Leader of fr: Émile Loubet, Wikipedia URL: https://fr.wikipedia.org/wiki/%C3%89mile_Loubet\n",
      "Leader of fr: Raymond Poincaré, Wikipedia URL: https://fr.wikipedia.org/wiki/Raymond_Poincar%C3%A9\n",
      "Leader of fr: Marie Carnot, Wikipedia URL: https://fr.wikipedia.org/wiki/Sadi_Carnot_(homme_d%27%C3%89tat)\n",
      "Leader of fr: Alexandre Millerand, Wikipedia URL: https://fr.wikipedia.org/wiki/Alexandre_Millerand\n",
      "Leader of fr: Gaston Doumergue, Wikipedia URL: https://fr.wikipedia.org/wiki/Gaston_Doumergue\n",
      "Leader of fr: Félix Faure, Wikipedia URL: https://fr.wikipedia.org/wiki/F%C3%A9lix_Faure\n",
      "Leader of fr: Jules Grévy, Wikipedia URL: https://fr.wikipedia.org/wiki/Jules_Gr%C3%A9vy\n",
      "Leader of fr: Clément Fallières, Wikipedia URL: https://fr.wikipedia.org/wiki/Armand_Falli%C3%A8res\n",
      "Leader of fr: Paul Deschanel, Wikipedia URL: https://fr.wikipedia.org/wiki/Paul_Deschanel\n",
      "Leader of fr: Georges Bidault, Wikipedia URL: https://fr.wikipedia.org/wiki/Georges_Bidault\n",
      "Leader of fr: Jean Casimir-Perier, Wikipedia URL: https://fr.wikipedia.org/wiki/Jean_Casimir-Perier\n",
      "Leader of fr: Charles Dupuy, Wikipedia URL: https://fr.wikipedia.org/wiki/Charles_Dupuy\n",
      "Leader of fr: Louis Cavaignac, Wikipedia URL: https://fr.wikipedia.org/wiki/Eug%C3%A8ne_Cavaignac\n",
      "Leader of fr: Louis None, Wikipedia URL: https://fr.wikipedia.org/wiki/Louis_Jules_Trochu\n",
      "Leader of fr: Frédéric None, Wikipedia URL: https://fr.wikipedia.org/wiki/Fr%C3%A9d%C3%A9ric_Fran%C3%A7ois-Marsal\n",
      "Leader of fr: Emmanuel Macron, Wikipedia URL: https://fr.wikipedia.org/wiki/Emmanuel_Macron\n"
     ]
    }
   ],
   "source": [
    "\n",
    "def get_leaders():\n",
    "    root_url = \"https://country-leaders.onrender.com\" \n",
    "    status_url = \"status\"\n",
    "    req = requests.get(f\"{root_url}/{status_url}\")\n",
    "    if req.status_code == 200:    \n",
    "        print(req.text) \n",
    "    else:\n",
    "        print(f\"Error to access the website: {req.status_code}\")        \n",
    "    #get the cookie and countries\n",
    "    countries_url = \"countries\"\n",
    "    cookie_url = \"cookie\"    \n",
    "    cookie = requests.get(f\"{root_url}/{cookie_url}\").cookies\n",
    "    r = requests.get(f\"{root_url}/{countries_url}\", cookies=cookie)\n",
    "    countries = r.json()    \n",
    "    # leaders\n",
    "    leaders_url = 'leaders'\n",
    "    leaders_per_country = {}\n",
    "    for country in countries:        \n",
    "            leader_r = requests.get(f\"{root_url}/{leaders_url}\", cookies=cookie, params={\"country\":country})        \n",
    "            if leader_r.status_code == 200:\n",
    "                leaders = leader_r.json()            \n",
    "            leaders_per_country[country] = leaders\n",
    "            for leader in leaders:\n",
    "                print(f\"Leader of {country}: {leader.get('first_name')} {leader.get('last_name')}, Wikipedia URL: {leader.get('wikipedia_url')}\")\n",
    "         \n",
    "    return leaders_per_country\n",
    "\n",
    "# Test:\n",
    "leaders_data = get_leaders()\n"
   ]
  },
  {
   "cell_type": "code",
   "execution_count": 21,
   "metadata": {
    "id": "RICG4T3DPZ1b"
   },
   "outputs": [],
   "source": [
    "# Check the output of your function (2 lines)\n"
   ]
  },
  {
   "attachments": {},
   "cell_type": "markdown",
   "metadata": {
    "id": "8sCKxGrnJCxv"
   },
   "source": [
    "Does the function crash in the middle of the loop? Chances are the cookies have expired while looping over the leaders.\n",
    "\n",
    "Modify your function with an *exception* or check if the `status_code` is a cookie error. In either case, get new cookies and query the api again.\n",
    "\n",
    "If your code did not crash,"
   ]
  },
  {
   "cell_type": "code",
   "execution_count": 22,
   "metadata": {
    "id": "rgPd2dxgJiW1"
   },
   "outputs": [],
   "source": [
    "def get_leaders():\n",
    "    root_url = \"https://country-leaders.onrender.com\" \n",
    "    status_url = \"status\"\n",
    "    req = requests.get(f\"{root_url}/{status_url}\")\n",
    "    if req.status_code == 200:    \n",
    "        print(req.text) \n",
    "    else:\n",
    "        print(f\"Error to access the website: {req.status_code}\")        \n",
    "    #get the cookie and countries\n",
    "    countries_url = \"countries\"\n",
    "    cookie_url = \"cookie\"    \n",
    "    cookie = requests.get(f\"{root_url}/{cookie_url}\").cookies\n",
    "    r = requests.get(f\"{root_url}/{countries_url}\", cookies=cookie)\n",
    "    countries = r.json()    \n",
    "    # leaders\n",
    "    leaders_url = 'leaders'\n",
    "    leaders_per_country = {}\n",
    "    for country in countries:        \n",
    "            leader_r = requests.get(f\"{root_url}/{leaders_url}\", cookies=cookie, params={\"country\":country})        \n",
    "            if leader_r.status_code == 200:\n",
    "                leaders = leader_r.json() \n",
    "                country_leaders = {}\n",
    "                for leader in leaders:\n",
    "                    full_name = f\"{leader.get('first_name')} {leader.get('last_name')}\"\n",
    "                    wikipedia_url = leader.get('wikipedia_url')\n",
    "                    if wikipedia_url:                        \n",
    "                        first_paragraph = get_first_paragraph(wikipedia_url)\n",
    "                        country_leaders[full_name] = first_paragraph\n",
    "                        print(f\"Leader of {country}: {full_name}, First Paragraph: {first_paragraph}\")\n",
    "            leaders_per_country[country] = country_leaders         \n",
    "    return leaders_per_country\n",
    "\n",
    "\n",
    "def get_first_paragraph(wikipedia_url):\n",
    "    print(wikipedia_url)    \n",
    "    r = requests.get(wikipedia_url)     \n",
    "    # all paragraphs\n",
    "    soup = BeautifulSoup(r.text, 'html.parser')\n",
    "    paragraphs = soup.find_all('p')\n",
    "    #get the 1st paragraph\n",
    "    first_paragraph = None\n",
    "    for paragraph in paragraphs:\n",
    "        text = paragraph.get_text(strip=True)\n",
    "        if text:  #check non-empty paragraphs\n",
    "            first_paragraph = text\n",
    "            break\n",
    "        # clean up the text\n",
    "    first_paragraph = re.sub(r'\\s+', ' ', first_paragraph)    \n",
    "    first_paragraph = re.sub(r'([a-zA-Z])\\s?\\(', r'\\1(', first_paragraph)\n",
    "    first_paragraph = re.sub(r'\\.([A-Za-z])', r'. \\1', first_paragraph)\n",
    "    first_paragraph = re.sub(r'([a-z])([A-Z])', r'\\1 \\2', first_paragraph)\n",
    "    \n",
    "    return first_paragraph\n"
   ]
  },
  {
   "cell_type": "markdown",
   "metadata": {
    "id": "3JvV-kPsKLl0"
   },
   "source": [
    "Check the output of your function again."
   ]
  },
  {
   "cell_type": "code",
   "execution_count": 23,
   "metadata": {
    "id": "mPXT-cxgKQof"
   },
   "outputs": [
    {
     "name": "stdout",
     "output_type": "stream",
     "text": [
      "\"Alive\"\n",
      "https://en.wikipedia.org/wiki/George_Washington\n",
      "Leader of us: George Washington, First Paragraph: George Washington(February 22, 1732 –December 14, 1799) was a Founding Father of the United States, military officer, and farmer who served as the firstpresident of the United Statesfrom 1789 to 1797. Appointed by the Second Continental Congressas commander of the Continental Armyin 1775, Washington led Patriotforces to victory in the American Revolutionary Warand then served as president of the Constitutional Conventionin 1787, which drafted the current Constitution of the United States. Washington has thus become commonly known as the \"Father of his Country\".\n",
      "https://en.wikipedia.org/wiki/Barack_Obama\n",
      "Leader of us: Barack Obama, First Paragraph: Barack Hussein Obama II[a](born August 4, 1961) is an American politician who served as the 44thpresident of the United Statesfrom 2009 to 2017. As a member of the Democratic Party, he was the first African-Americanpresident in U. S. history. Obama previously served as a U. S. senatorrepresenting Illinoisfrom 2005 to 2008 and as an Illinois state senatorfrom 1997 to 2004.\n",
      "https://en.wikipedia.org/wiki/Abraham_Lincoln\n",
      "Leader of us: Abraham Lincoln, First Paragraph: Abraham Lincoln(/ˈlɪŋkən/LINK-ən; February 12, 1809 – April 15, 1865) was the 16thpresident of the United States, serving from 1861 untilhis assassinationin 1865. He led the United States through the American Civil War, defending the nation as a constitutionalunion, defeating the Confederacy, playing a major role in theabolition ofslavery, expanding the power of thefederal government, and modernizing the U. S. economy.\n",
      "https://en.wikipedia.org/wiki/George_W._Bush\n",
      "Leader of us: George Bush, First Paragraph: George Walker Bush[a](born July 6, 1946) is an American politician and businessman who served as the 43rdpresident of the United Statesfrom 2001 to 2009. A member of the Bush familyand Republican Party, he was the 46thgovernor of Texasfrom 1995 to 2000.\n",
      "https://en.wikipedia.org/wiki/Bill_Clinton\n",
      "Leader of us: Bill Clinton, First Paragraph: William Jefferson Clinton(néBlythe; born August 19, 1946) is an American lawyer and politician who served as the 42ndpresident of the United Statesfrom 1993 to 2001. A member of the Democratic Party, he previously served asgovernor of Arkansasfrom 1979 to 1981 and again from 1983 to 1992. Clinton, whose policies reflected a centrist \"Third Way\"political philosophy, became known as a New Democrat.\n",
      "https://en.wikipedia.org/wiki/Joe_Biden\n",
      "Leader of us: Joe Biden, First Paragraph: Joseph Robinette Biden Jr.[b](born November 20, 1942) is an American politician who has been the 46th and currentpresident of the United Statessince 2021. A member of the Democratic Party, he served as the 47thvice presidentfrom 2009 to 2017 under President Barack Obamaand represented Delawarein the U. S. Senatefrom 1973 to 2009.\n",
      "https://en.wikipedia.org/wiki/Franklin_D._Roosevelt\n",
      "Leader of us: Franklin Roosevelt, First Paragraph: Franklin Delano Roosevelt[a](January 30, 1882 – April 12, 1945), commonly known by his initials FDR, was the 32ndpresident of the United States, serving from 1933 until his death in 1945. The longest-serving U. S. president, he is the only president to have served more than two terms. Hisinitial two termswere centered on combating the Great Depression, while histhird and fourthsaw him shift his focus to America's involvement in World War II.\n",
      "https://en.wikipedia.org/wiki/Andrew_Johnson\n",
      "Leader of us: Andrew Johnson, First Paragraph: Andrew Johnson(December 29, 1808 – July 31, 1875) was the 17thpresident of the United States, serving from 1865 to 1869. He assumed the presidency following theassassination of Abraham Lincoln, as he wasvice presidentat that time. Johnson was a Democratwho ran with Abraham Lincolnon the National Union Partyticket, coming to office as the Civil Warconcluded. He favored quick restoration of theseceded states to the Unionwithout protection for thenewly freed peoplewho were formerlyenslavedas well as pardoning ex-Confederates. This led to conflict with the Republican-dominated Congress, culminating inhis impeachmentby the House of Representatives in 1868. He wasacquitted in the Senateby one vote.\n",
      "https://en.wikipedia.org/wiki/Gerald_Ford\n",
      "Leader of us: Gerald Ford, First Paragraph: Gerald Rudolph Ford Jr.[a](born Leslie Lynch King Jr.; July 14, 1913 – December 26, 2006) was the 38thpresident of the United States, serving from 1974 to 1977. A member of the Republican Party, Ford assumed the presidency after President Richard Nixonresigned, under whom he had served as the 40thvice presidentfrom 1973 to 1974. Prior to that, he served as a member of the United States House of Representativesfrom 1949 to 1973.\n",
      "https://en.wikipedia.org/wiki/Richard_Nixon\n",
      "Leader of us: Richard Nixon, First Paragraph: Richard Milhous Nixon(January 9, 1913 – April 22, 1994) was the 37thpresident of the United States, serving from 1969 until hisresignationin 1974. A member of the Republican Party, he previously served as arepresentativeandsenatorfrom Californiaand as the 36thvice presidentfrom 1953 to 1961 under President Dwight D. Eisenhower. His presidencysaw the reduction of U. S. involvement in the Vietnam War,détentewith the Soviet Unionand China, the Apollo 11Moon landing, and the establishment of the Environmental Protection Agencyand Occupational Safety and Health Administration. Nixon's second term ended early when he became the only U. S. president to resign from office, as a result of the Watergate scandal.\n",
      "https://en.wikipedia.org/wiki/Lyndon_B._Johnson\n",
      "Leader of us: Lyndon Johnson, First Paragraph: Lyndon Baines Johnson(/ˈlɪndənˈbeɪnz/; August 27, 1908 – January 22, 1973), often referred to as LBJ, was the 36thpresident of the United States, serving from 1963 to 1969. He became president afterthe assassinationof John F. Kennedy, under whom he had served as the 37thvice presidentfrom 1961 to 1963. ADemocratfrom Texas, Johnson previously served as a U. S. representativeand U. S. senator.\n",
      "https://en.wikipedia.org/wiki/John_F._Kennedy\n",
      "Leader of us: John Kennedy, First Paragraph: John Fitzgerald Kennedy(May 29, 1917 – November 22, 1963), often referred to as JFK, was the 35thpresident of the United States, serving from 1961 untilhis assassinationin 1963. He was theyoungestpersonelectedpresident.[a]Kennedy served at the height of the Cold War, and the majority of his foreign policy concerned relations with the Soviet Unionand Cuba. ADemocrat, Kennedy represented Massachusettsin both houses of the United States Congressprior to his presidency.\n",
      "https://en.wikipedia.org/wiki/Dwight_D._Eisenhower\n",
      "Leader of us: Dwight Eisenhower, First Paragraph: Dwight David Eisenhower[a](born David Dwight Eisenhower; October 14, 1890 – March 28, 1969) was the 34thpresident of the United States, serving from 1953 to 1961. During World War II, he was Supreme Commander of the Allied Expeditionary Forcein Europe and achieved thefive-star rankas General of the Army. Eisenhower planned and supervised two of the most consequential military campaigns of World War II:Operation Torchin the North Africa campaignin 1942–1943 and theinvasion of Normandyin 1944.\n",
      "https://en.wikipedia.org/wiki/Ronald_Reagan\n",
      "Leader of us: Ronald Reagan, First Paragraph: Ronald Wilson Reagan[a](February 6, 1911 – June 5, 2004) was an American politician and actor who served as the 40thpresident of the United Statesfrom 1981 to 1989. A member of the Republican Party, he became an important figure in the American conservative movement, andhis presidencyis known as the Reagan era.\n",
      "https://en.wikipedia.org/wiki/Harry_S._Truman\n",
      "Leader of us: Harry Truman, First Paragraph: Harry S. Truman(May 8, 1884 – December 26, 1972) was an American lawyer and politician who was the 33rdpresident of the United States, serving from 1945 to 1953. A member of the Democratic Party, he served as a United States senatorfrom Missourifrom 1935 to 1945 and briefly in 1945 as the 34thvice president of the United Statesunder Franklin D. Roosevelt. Assuming the presidency after Roosevelt's death, Truman implemented the Marshall Planin the wake of World War IIto rebuild the economy of Western Europe and established both the Truman Doctrineand NATOto contain the expansion of Soviet communism. He proposed numerous liberal domestic reforms, but few were enacted by theconservative coalitionthat dominated Congress.\n",
      "https://en.wikipedia.org/wiki/John_Adams\n",
      "Leader of us: John Adams, First Paragraph: John Adams(October 30, 1735 – July 4, 1826) was an American statesman, attorney, diplomat, writer, and Founding Fatherwho served as the secondpresident of the United Statesfrom 1797 to 1801. Beforehis presidency, he was a leader of the American Revolutionthat achieved independence from Great Britain. During the latter part of the Revolutionary Warand in the early years of the new nation, he served the U. S. governmentas a senior diplomat in Europe. Adams was the first person to hold the office ofvice president of the United States, serving from 1789 to 1797. He was a dedicated diarist and regularly corresponded with important contemporaries, including his wife and adviser Abigail Adamsand his friend and political rival Thomas Jefferson.\n",
      "https://en.wikipedia.org/wiki/Thomas_Jefferson\n",
      "Leader of us: Thomas Jefferson, First Paragraph: Thomas Jefferson(April 13, 1743[b]– July 4, 1826) was an American statesman, planter, diplomat, lawyer, architect, philosopher, and Founding Fatherwho served as the thirdpresident of the United Statesfrom 1801 to 1809.[6]He was the primary author of the Declaration of Independence. Following the American Revolutionary Warand before becoming president in 1801, Jefferson was the nation's first U. S. secretary of stateunder George Washingtonand then the nation's secondvice presidentunder John Adams. Jefferson was a leading proponent of democracy,republicanism, andnatural rights, and he produced formative documents and decisions at the state, national, and international levels.\n",
      "https://en.wikipedia.org/wiki/James_Madison\n",
      "Leader of us: James Madison, First Paragraph: James Madison(March 16, 1751[b]– June 28, 1836) was an American statesman, diplomat, and Founding Fatherwho served as the fourthpresident of the United Statesfrom 1809 to 1817. Madison was popularly acclaimed the \"Father of the Constitution\" for his pivotal role in drafting and promoting the Constitution of the United Statesand the Bill of Rights.\n",
      "https://en.wikipedia.org/wiki/James_Monroe\n",
      "Leader of us: James Monroe, First Paragraph: James Monroe(/mənˈroʊ/mən-ROH; April 28, 1758 – July 4, 1831), a Founding Father of the United States, served as the fifthpresident of the United Statesfrom 1817 to 1825. He was the last Founding Father to serve as president as well as the last president of the Virginia dynasty. He was a member of the Democratic-Republican Party, andhis presidencycoincided with the Era of Good Feelings, concluding the First Party Systemera of American politics. He issued the Monroe Doctrine, a policy of limiting European colonialism in the Americas. Monroe previously served as governor of Virginia, a member of the United States Senate, U. S. ambassador to France and Britain, the seventh secretary of state, and the eighth secretary of war.\n",
      "https://en.wikipedia.org/wiki/John_Quincy_Adams\n",
      "Leader of us: John Adams, First Paragraph: John Quincy Adams(/ˈkwɪnzi/ⓘ;[a]July 11, 1767 – February 23, 1848) was the sixthpresident of the United States, serving from 1825 to 1829. He previously served as the eighth United States secretary of statefrom 1817 to 1825. During his long diplomatic and political career, Adams served as an ambassador and also as a member of the United States Congressrepresenting Massachusettsin both chambers. He was the eldest son of John Adams, who served as the second president of the United States from 1797 to 1801, and First Lady Abigail Adams. Initially a Federalistlike his father, he won election to the presidency as a member of the Democratic-Republican Party, and later, in the mid-1830s, became affiliated with the Whig Party.\n",
      "https://en.wikipedia.org/wiki/Andrew_Jackson\n",
      "Leader of us: Andrew Jackson, First Paragraph: Andrew Jackson(March 15, 1767 – June 8, 1845) was the seventhpresident of the United States, serving from 1829 to 1837. Beforehis presidency, he gained fame as a general in the U. S. Armyand served in both houses of the U. S. Congress. Often praised as an advocate for ordinary Americans and for his work inpreserving the union of states, Jackson has also been criticized for his racial policies, particularly his treatment of Native Americans.\n",
      "https://en.wikipedia.org/wiki/Martin_Van_Buren\n",
      "Leader of us: Martin Van Buren, First Paragraph: Martin Van Buren(/vænˈbjʊərən/van BURE-ən;Dutch:Maarten van Buren[ˈmaːrtə(ɱ)vɑmˈbyːrə(n)]ⓘ; December 5, 1782 – July 24, 1862) was the eighthpresident of the United States, serving from 1837 to 1841. A primary founder of the Democratic Party, he served as New York's attorney generaland U. S. senator, then briefly as the ninthgovernor of New Yorkbefore joining Andrew Jackson's administration as the tenth United States secretary of state, minister to Great Britain, and ultimately the eighthvice presidentfrom 1833 to 1837, after being elected on Jackson's ticket in1832. Van Buren won the presidency in1836against divided Whig opponents. Van Buren lost re-election in1840, and failed to win the Democratic nomination in1844. Later in his life, Van Buren emerged as an elder statesman and ananti-slaveryleader who led the Free Soil Partyticket in the1848 presidential election.\n",
      "https://en.wikipedia.org/wiki/William_Henry_Harrison\n",
      "Leader of us: William Harrison, First Paragraph: William Henry Harrison(February 9, 1773 – April 4, 1841) served as the ninthpresident of the United Statesfrom March 4 to April 4, 1841, the shortest presidency in U. S. history. He was also the first U. S. president to die in office, causing a briefconstitutional crisissincepresidential successionwas not then fully defined in the U. S. Constitution. Harrison was the last president born as a British subject in the Thirteen Coloniesand was the grandfather of Benjamin Harrison, the 23rd U. S. president.\n",
      "https://en.wikipedia.org/wiki/John_Tyler\n",
      "Leader of us: John Tyler, First Paragraph: John Tyler(March 29, 1790 – January 18, 1862) was the tenthpresident of the United States, serving from 1841 to 1845, after briefly holding office as the tenthvice presidentin 1841. He was elected vice president on the1840Whigticket with President William Henry Harrison, succeeding to the presidency following Harrison's death 31 days after assuming office. Tyler was a stalwart supporter and advocate ofstates' rights, including regardingslavery, and he adoptednationalisticpolicies as president only when they did not infringe on the states' powers. His unexpected rise to the presidency posed a threat to the presidential ambitions of Henry Clayand other Whig politicians and left Tyler estranged from both of the nation's major political parties at the time.\n",
      "https://en.wikipedia.org/wiki/James_K._Polk\n",
      "Leader of us: James Polk, First Paragraph: James Knox Polk(/poʊk/;[1]November 2, 1795 – June 15, 1849) was the 11thpresident of the United States, serving from 1845 to 1849. A protégé of Andrew Jacksonand a member of the Democratic Party, he was an advocate of Jacksonian democracyand extending the territory of the United States. Polk led the U. S. into the Mexican–American War, and after winning the war heannexedthe Republic of Texas, the Oregon Territory, and the Mexican Cession.\n",
      "https://en.wikipedia.org/wiki/Zachary_Taylor\n",
      "Leader of us: Zachary Taylor, First Paragraph: Zachary Taylor(November 24, 1784 – July 9, 1850) was the 12thpresident of the United States, serving from 1849 until his death in 1850. Taylor was a career officer in the United States Army, rising to the rank ofmajor generaland becoming a national hero for his victories in the Mexican–American War. As a result, he won election to the White Housedespite his vague political beliefs. His top priority as president was to preserve the Union. He died 16 months into his term from astomach disease. Taylor had the third-shortest presidential term in U. S. history.\n",
      "https://en.wikipedia.org/wiki/Millard_Fillmore\n",
      "Leader of us: Millard Fillmore, First Paragraph: Millard Fillmore(January 7, 1800 – March 8, 1874) was the 13thpresident of the United States, serving from 1850 to 1853, and was the last president to have been a member of the Whig Partywhile in office. A former member of the U. S. House of Representatives, Fillmore was elected the 12thvice presidentin1848, and succeeded to the presidency when Zachary Taylordied in July 1850. Fillmore was instrumental in passing the Compromise of 1850, which led to a brief truce in the battle over the expansion ofslavery.\n",
      "https://en.wikipedia.org/wiki/Franklin_Pierce\n",
      "Leader of us: Franklin Pierce, First Paragraph: Franklin Pierce(November 23, 1804 – October 8, 1869) was the 14thpresident of the United States, serving from 1853 to 1857. A northern Democratwho believed that theabolitionist movementwas a fundamental threat to the nation's unity, he alienated anti-slavery groups by signing the Kansas–Nebraska Actand enforcing the Fugitive Slave Act. Conflict between North and South continued after Pierce's presidency, and, after Abraham Lincolnwaselected president in 1860, the Southern states seceded, resulting in the American Civil War.\n",
      "https://en.wikipedia.org/wiki/James_Buchanan\n",
      "Leader of us: James Buchanan, First Paragraph: James Buchanan Jr.(/bjuːˈkænən/bew-KAN-ən;[3]April 23, 1791 – June 1, 1868) was the 15thpresident of the United States, serving from 1857 to 1861. Buchanan also served as thesecretary of statefrom 1845 to 1849 and represented Pennsylvaniain both houses of the U. S. Congress. He was an advocate forstates' rights, particularly regardingslavery, and minimized the role of thefederal governmentpreceding the Civil War.\n",
      "https://en.wikipedia.org/wiki/Donald_Trump\n",
      "Leader of us: Donald Trump, First Paragraph: Donald John Trump(born June 14, 1946) is an American politician, media personality, and businessman who served as the 45thpresident of the United Statesfrom 2017 to 2021. A member of the Republican Party, he is thepresident-electafter winning the2024 presidential electionand is scheduled to beinaugurated as the 47th presidenton January 20, 2025.\n",
      "https://en.wikipedia.org/wiki/George_H._W._Bush\n",
      "Leader of us: George Bush, First Paragraph: George Herbert Walker Bush[a](June 12, 1924 – November 30, 2018) was an American politician, diplomat, and businessman who served as the 41stpresident of the United Statesfrom 1989 to 1993. A member of the Republican Party, he also served as the 43rdvice presidentfrom 1981 to 1989 under Ronald Reaganand previously in various otherfederal positions.[2]\n",
      "https://en.wikipedia.org/wiki/Jimmy_Carter\n",
      "Leader of us: Jimmy Carter, First Paragraph: James Earl Carter Jr.(born October 1, 1924) is an American politician and humanitarian who served from 1977 to 1981 as the 39thpresident of the United States. A member of the Democratic Party, he served from 1963 to 1967 in the Georgia State Senateand from 1971 to 1975 as the 76thgovernor of Georgia. Carter is thelongest-lived president in U. S. historyand the first to live to100 years of age.\n",
      "https://en.wikipedia.org/wiki/Theodore_Roosevelt\n",
      "Leader of us: Theodore Roosevelt, First Paragraph: Theodore Roosevelt Jr.[b](October 27, 1858 – January 6, 1919), often referred to as Teddyor T. R., was the 26thpresident of the United States, serving from 1901 to 1909. He previously was involved in New Yorkpolitics, including serving as the state's33rd governorfor two years. He was thevice presidentunder President William Mc Kinleyfor six months in 1901, assuming the presidency after Mc Kinley's assassination. As president, Roosevelt emerged as a leader of the Republican Partyand became a driving force foranti-trustand Progressivepolicies.\n",
      "https://en.wikipedia.org/wiki/Woodrow_Wilson\n",
      "Leader of us: Woodrow Wilson, First Paragraph: Thomas Woodrow Wilson(December 28, 1856 – February 3, 1924) was the 28thpresident of the United States, serving from 1913 to 1921. He was the only Democratto serve as president during the Progressive Erawhen Republicans dominated the presidency andlegislative branches. As president, Wilson changed the nation's economic policies and led the United States into World War I. He was the leading architect of the League of Nations, and his stance on foreign policy came to be known as Wilsonianism.\n",
      "https://en.wikipedia.org/wiki/James_A._Garfield\n",
      "Leader of us: James Garfield, First Paragraph: James Abram Garfield(November 19, 1831 – September 19, 1881) was the 20thpresident of the United States, serving from March 1881 untilhis assassinationin September that year. A preacher, lawyer, and Civil Wargeneral, Garfield served nine terms in the United States House of Representativesand is the only sitting member of the House to be elected president. Before his candidacy for the presidency, he had been elected to the U. S. Senateby the Ohio General Assembly—a position he declined when he becamepresident-elect.\n",
      "https://en.wikipedia.org/wiki/Ulysses_S._Grant\n",
      "Leader of us: Ulysses Grant, First Paragraph: Ulysses S. Grant(born Hiram Ulysses Grant;[a]April 27, 1822 – July 23, 1885) was the 18thpresident of the United States, serving from 1869 to 1877. Ascommanding general, Grant led the Union Armyto victory in the American Civil Warin 1865.\n",
      "https://en.wikipedia.org/wiki/William_McKinley\n",
      "Leader of us: William McKinley, First Paragraph: William Mc Kinley(January 29, 1843 – September 14, 1901) was the 25thpresident of the United States, serving from 1897 untilhis assassinationin 1901. A member of the Republican Party, he led a realignment that made Republicanslargely dominant in the industrial states and nationwidefor decades. He presided over victory in the Spanish–American Warof 1898; gained control of Hawaii, Puerto Rico, Guam, and the Philippines; restored prosperity after a deep depression; rejected the inflationarymonetary policyoffree silver, keeping the nation on thegold standard; and raisedprotective tariffs.\n",
      "https://en.wikipedia.org/wiki/Grover_Cleveland\n",
      "Leader of us: Stephen Cleveland, First Paragraph: Stephen Grover Cleveland(March 18, 1837 – June 24, 1908) was an American politician and lawyer who served as the 22nd and 24thpresident of the United Statesfrom 1885 to 1889 and again from 1893 to 1897. He was the first Democratto win the presidency following the end of the Civil Warand was the first of only two presidents to be elected to non-consecutive terms in office.[b]\n",
      "https://en.wikipedia.org/wiki/Herbert_Hoover\n",
      "Leader of us: Herbert Hoover, First Paragraph: Herbert Clark Hoover(August 10, 1874 – October 20, 1964) was the 31stpresident of the United States, serving from 1929 to 1933. A wealthy mining engineer before his presidency, Hoover led the wartime Commission for Relief in Belgiumand was the director of the U. S. Food Administration, followed by post-war relief of Europe. A member of the Republican Party, he served as the U. S. Secretary of Commercefrom 1921 to 1928 before beingelected president in 1928. His presidency was dominated by the Great Depression, and his policies and methods to combat it were seen as lackluster. Amid his unpopularity, he decisively lost reelection to Franklin D. Rooseveltin1932.\n",
      "https://en.wikipedia.org/wiki/Warren_G._Harding\n",
      "Leader of us: Warren Harding, First Paragraph: Warren Gamaliel Harding(November 2, 1865 – August 2, 1923) was the 29thpresident of the United States, serving from 1921 until his death in 1923. A member of the Republican Party, he was one of the most popular sitting U. S. presidents while in office. After his death, a number of scandals were exposed, including Teapot Dome, as well as an extramarital affair with Nan Britton, which tarnished his reputation.\n",
      "https://en.wikipedia.org/wiki/Chester_A._Arthur\n",
      "Leader of us: Chester Arthur, First Paragraph: Chester Alan Arthur(October 5, 1829[b]– November 18, 1886) was the 21stpresident of the United States, serving from 1881 to 1885. He was a Republicanlawyer from New Yorkwho previously served as the 20thvice presidentunder President James A. Garfield. Assuming the presidency after Garfield'sassassination, Arthur's presidency saw the largest expansion of the U. S. Navy, the end of the so-called \"spoils system\", and the implementation of harsher restrictions for migrants entering from abroad.\n",
      "https://en.wikipedia.org/wiki/William_Howard_Taft\n",
      "Leader of us: William Taft, First Paragraph: Defunct\n",
      "https://en.wikipedia.org/wiki/Benjamin_Harrison\n",
      "Leader of us: Benjamin Harrison, First Paragraph: Benjamin Harrison(August 20, 1833 – March 13, 1901) was the 23rdpresident of the United States, serving from 1889 to 1893. He was a member of the Harrison family of Virginia—a grandson of the ninth president,William Henry Harrison, and a great-grandson of Benjamin Harrison V, a Founding Father. A Union Army veteran and a Republican, he defeated incumbent Grover Clevelandto win the presidency in 1888; however, was defeated for a second term by Cleveland in 1892.\n",
      "https://en.wikipedia.org/wiki/Rutherford_B._Hayes\n",
      "Leader of us: Rutherford Hayes, First Paragraph: Rutherford Birchard Hayes(/ˈrʌðərfərd/ⓘ; October 4, 1822 – January 17, 1893) was the 19thpresident of the United States, serving from 1877 to 1881. A staunchabolitionistfrom Ohio, he was also abrevetmajor generalfor the Union armyduring the American Civil War.\n",
      "https://en.wikipedia.org/wiki/Calvin_Coolidge\n",
      "Leader of us: John Coolidge, First Paragraph: Calvin Coolidge(born John Calvin Coolidge Jr.[1]/ˈkuːlɪdʒ/KOOL-ij; July 4, 1872 – January 5, 1933) was the 30thpresident of the United States, serving from 1923 to 1929. ARepublicanlawyer from Massachusetts, he previously served as the 29thvice presidentfrom 1921 to 1923 and as the 48thgovernor of Massachusettsfrom 1919 to 1921. Elected vice presidentin 1920, he succeeded to the presidency upon the sudden death of President Warren G. Hardingin August 1923. Elected in his own right in1924, Coolidge gained a reputation as asmall-governmentconservative with a taciturn personality and dry sense of humor that earned him the nickname \"Silent Cal\". His widespread popularity enabled him to run for a second full term, but Coolidge chose not to run again in1928, remarking that ten years as president would be \"longer than any other man has had it—too long!\"[b]\n",
      "https://nl.wikipedia.org/wiki/Guy_Verhofstadt\n",
      "Leader of be: Guy Verhofstadt, First Paragraph: Guy Maurice Marie-Louise Verhofstadt[5](uitspraakⓘ) (Dendermonde,11 april1953) is een Belgischpoliticusvoor de Open Vlaamse Liberalen en Democraten(Open Vld). Hij waspremier van Belgiëvan 12 juli 1999 tot 20 maart 2008 in drie regeringen. Hij beëindigde zijn actieve politieke carrière in het Europees Parlement, waar hij van 2009 tot 2019 fractieleider van de Alliantie van Liberalen en Democraten voor Europa(ALDE) was.[6]\n",
      "https://nl.wikipedia.org/wiki/Yves_Leterme\n",
      "Leader of be: Yves Leterme, First Paragraph: Yves Camille Désiré Leterme(Wervik,6 oktober1960) is een Belgischpoliticus. Hij was onder meer Vlaams minister-presidentenpremier van België. Hij was lang boegbeeld van de CD&Ven boegbeeld van het toenmalige kartel CD&V/N-VA.\n",
      "https://nl.wikipedia.org/wiki/Herman_Van_Rompuy\n",
      "Leader of be: Herman None, First Paragraph: Herman Achille graaf Van Rompuy(Etterbeek,31 oktober1947) is een Belgischepoliticus van de christendemocratische partij CD&V. Hij was tussen 30 december 2008 en 25 november 2009 depremier van Belgiëen van 1 januari 2010[2]tot en met 30 november 2014voorzitter van de Europese Raad, in de media vaak incorrect 'president van Europa' genoemd.[3]Op 19 november 2009 werd bekendgemaakt dat hij was verkozen tot de eerste permanente voorzitter en op 1 maart 2012 werd Van Rompuy met algemene stemmen door de 27 staatshoofden en regeringsleiders van de EU voor een tweede mandaat benoemd. Na deze termijn was hij niet meer herkiesbaar.\n",
      "https://nl.wikipedia.org/wiki/L%C3%A9on_Delacroix\n",
      "Leader of be: Léon Delacroix, First Paragraph: Léon Fréderic Gustave Delacroix(Sint-Joost-ten-Node,27 december1867–Baden-Baden,15 oktober1929) was een Belgischkatholiekpoliticus. De Léon Delacroixstraat in Anderlechten hetmetrostation Delacroixwerden naar hem vernoemd.\n",
      "https://nl.wikipedia.org/wiki/Henri_Carton_de_Wiart\n",
      "Leader of be: Henry Carton, First Paragraph: Henri Victor Marie Ghislain graaf Carton de Wiart(Brussel,31 januari1869–Ukkel,6 mei1951) (ook als \"Henry\" vermeld) was een Belgischepoliticus. Hij was Eerste Ministervan 1920 tot 1921.\n",
      "https://nl.wikipedia.org/wiki/Georges_Theunis\n",
      "Leader of be: Georges Theunis, First Paragraph: Georges Emile Pierre Léonard Theunis(Montegnée,28 februari1873–Brussel,4 januari1966) was een Belgischindustrieelenpoliticusvan de Katholieke Partij.\n",
      "https://nl.wikipedia.org/wiki/Aloys_Van_de_Vyvere\n",
      "Leader of be: Aloïs Van de Vyvere, First Paragraph: Aloys Jean Maria Joseph Van de Vyvere(Tielt,8 juni1871-Parijs,22 oktober1961) was een Belgischkatholiekvolksvertegenwoordigerenminister.\n",
      "https://nl.wikipedia.org/wiki/Prosper_Poullet\n",
      "Leader of be: Prosper Poullet, First Paragraph: Prosper Antoine Marie Joseph burggraaf Poullet(Leuven,5 maart1868-3 december1937) was een Belgischpoliticus.\n",
      "https://nl.wikipedia.org/wiki/Henri_Jaspar\n",
      "Leader of be: Henri Jaspar, First Paragraph: Henri Jaspar(Schaarbeek,28 juli1870-Sint-Gillis,15 februari1939[1]) was een Belgischkatholiekpoliticus, die twee keer premier van België was.\n",
      "https://nl.wikipedia.org/wiki/Jules_Renkin\n",
      "Leader of be: Jules None, First Paragraph: Jules Laurent Jean Louis Renkin(Elsene,3 december1862-Brussel,15 juli1934) was een Belgischkatholiekpoliticus.\n",
      "https://nl.wikipedia.org/wiki/Paul_van_Zeeland\n",
      "Leader of be: Paul Van Zeeland, First Paragraph: Paul Guillaume van Zeeland(Zinnik,11 november1893–Brussel,22 september1973) was een Belgischadvocaat, econoom, katholiek politicus en staatsman.\n",
      "https://nl.wikipedia.org/wiki/Achiel_Van_Acker\n",
      "Leader of be: Achille Van Acker, First Paragraph: Achille Honoré (Achiel) Van Ackeruitspraakⓘ(Brugge,8 april1898– aldaar,10 juli1975) was een Belgischsocialistischpoliticus. Hij was viermaalpremier van België.\n",
      "https://nl.wikipedia.org/wiki/Camille_Huysmans\n",
      "Leader of be: Camille Huysmans, First Paragraph: Jean Joseph Camille Huysmans(ook Kamiel Huysmansgenoemd) (Bilzen,26 mei1871-Antwerpen,25 februari1968), geboren als Camiel Hansen, was een Belgischjournalistensocialistischpoliticusvoor de BWP/BSP.\n",
      "https://nl.wikipedia.org/wiki/Gaston_Eyskens\n",
      "Leader of be: Gaston Eyskens, First Paragraph: Gaston François Marie burggraaf Eyskens(Lier,1 april1905–Leuven,3 januari1988) was drie maalchristendemocratischeerste ministervan Belgiëin de periode tussen1949en1973. Hij was de eerste Belgische regeringsleider die geboren was in de20e eeuw.\n",
      "https://nl.wikipedia.org/wiki/Leo_Tindemans\n",
      "Leader of be: Leo Tindemans, First Paragraph: Leonard Clemence(Leo) Tindemans(Zwijndrecht,16 april1922–Edegem,26 december2014) was een Belgischpoliticusvoor de CVPenminister van staat. Hij waseerste ministervan twee regeringen in België(periode van25 april1974tot20 oktober1978) en behaalde het grootste aantal voorkeurstemmen in de Belgische geschiedenis bij de Europese verkiezingenvan 1979. Daardoor kreeg hij de bijnaam \"de man van 1 miljoen stemmen\".[1]\n",
      "https://nl.wikipedia.org/wiki/Elio_Di_Rupo\n",
      "Leader of be: Elio Di Rupo, First Paragraph: Elio Di Rupo(Morlanwelz,18 juli1951) is een Belgischepoliticusvoor de Parti Socialiste(PS). Van 6 december 2011 tot 11 oktober 2014 was hijpremier van Belgiëen werd meermaals minister en minister-president van de Waalse Regering.\n",
      "https://nl.wikipedia.org/wiki/Jean-Luc_Dehaene\n",
      "Leader of be: Jean-Luc Dehaene, First Paragraph: Jean Luc Joseph Marie Dehaene[5]uitspraakⓘ(Montpellier,7 augustus1940–Quimper,15 mei2014) was van 1992 tot 1999 premier van België. Hij was lid van de toenmalige CVP(nu CD&V). Onder zijn regering werd België een volwaardigefederalestaat. Dehaene leidde twee coalitieregeringen met desocialistenen bekleedde verschillende ministerposten voor hij in 1992 eerste minister werd. Van 2000 tot 2007 was hijburgemeestervan Vilvoorde. In 2002 werd hij voorgedragen alsvicevoorzittervan de Europese Conventie.\n",
      "https://nl.wikipedia.org/wiki/Frans_Schollaert\n",
      "Leader of be: Frans Schollaert, First Paragraph: François Victor Marie Ghislain(Frans) Schollaert(Wilsele,19 augustus1851-Sainte-Adresse,25 juni1917)[1]was een Belgischkatholiekpoliticus.\n",
      "https://nl.wikipedia.org/wiki/Pieter_de_Decker\n",
      "Leader of be: Pieter Decker, First Paragraph: Pierre Jacques François(Pieter) de Decker(Zele,25 januari1812-Schaarbeek,4 januari1891) was een Belgischpoliticusenauteur.\n",
      "https://nl.wikipedia.org/wiki/Paul-Henri_Spaak\n",
      "Leader of be: Paul-Henri Spaak, First Paragraph: Paul-Henri Charles Spaakuitspraakⓘ(Schaarbeek,25 januari1899-Eigenbrakel,31 juli1972) was een Belgischsocialistischpoliticusen regeringsleider.\n",
      "https://nl.wikipedia.org/wiki/Auguste_Beernaert\n",
      "Leader of be: Auguste Beernaert, First Paragraph: Auguste Marie François(August) Beernaert(Oostende,26 juli1829–Luzern,6 oktober1912) was een Belgischkatholiekpoliticusenmensenrechtenactivist. In 1909 won hij de Nobelprijs voor de Vrede.\n",
      "https://nl.wikipedia.org/wiki/Th%C3%A9o_Lef%C3%A8vre\n",
      "Leader of be: Théodore Lefèvre, First Paragraph: Théodore Joseph Albéric Marie Lefèvre(Gent,17 januari1914–Sint-Lambrechts-Woluwe,18 september1973) was een Belgischpoliticus. Hij was premier van België van 1961 tot 1965, aan het hoofd van deregering Lefèvre-Spaak.\n",
      "https://nl.wikipedia.org/wiki/Paul_Vanden_Boeynants\n",
      "Leader of be: Paul None, First Paragraph: Paul Emile François Henri Vanden Boeynants(Vorst,22 mei1919–Aalst,8 januari2001), in de media en door hemzelf bijgenaamd 'VDB', was een Belgischvolksvertegenwoordiger, minister enpremier. Alsondernemerwas hij actief in de vleesindustrie.\n",
      "https://nl.wikipedia.org/wiki/Etienne_de_Gerlache\n",
      "Leader of be: Étienne Gerlache, First Paragraph: Etienne Constantin baron de Gerlache(Biourge,25 december1785-Elsene,10 februari1871) wasadvocaat, politicus en magistraat in het Verenigd Koninkrijk der Nederlandenen in België.\n",
      "https://nl.wikipedia.org/wiki/Wilfried_Martens\n",
      "Leader of be: Wilfried Martens, First Paragraph: Wilfried Achiel Emma Martensuitspraakⓘ(Sleidinge,19 april1936–Lokeren,9 oktober2013) was een Vlaams-Belgische politicus voor de CD&V(vroeger CVP) en was van april 1979 tot maart 1992 (met een korte onderbreking)eerste ministervan België.\n",
      "https://nl.wikipedia.org/wiki/Mark_Eyskens\n",
      "Leader of be: Mark Eyskens, First Paragraph: Marc Maria Frans burggraaf Eyskens(uitspraakⓘ) (Leuven,29 april1933) is een Belgischeemeritushoogleraar,econoom,politicusenessayist. Van april tot december 1981 was hijpremier van België.\n",
      "https://nl.wikipedia.org/wiki/Pierre_Harmel\n",
      "Leader of be: Pierre Harmel, First Paragraph: Pierre Charles José Marie graaf Harmel(Ukkel,16 maart1911–Brussel,15 november2009) was een Belgischadvocaat,hoogleraaren christendemocratischstaatsman.\n",
      "https://nl.wikipedia.org/wiki/Hubert_Pierlot\n",
      "Leader of be: Hubert Pierlot, First Paragraph: Hubert Marie Eugène Pierlot(Cugnon,23 december1883–Ukkel,13 december1963) was de Belgischeeerste ministervan1939tot1945.\n",
      "https://nl.wikipedia.org/wiki/Jean-Baptiste_Nothomb\n",
      "Leader of be: Jean-Baptiste Nothomb, First Paragraph: Jean Baptiste Nothomb(Messancy,3 juli1805–Berlijn,16 september1881) was een Belgischstaatsman en diplomaat die een belangrijke rol speelde bij het tot stand komen van de Belgische staat. Zo was hij een van de opstellers van de Belgische grondweten onderhandelde hij over de verdragen die de Belgische onafhankelijkheidgarandeerden.\n",
      "https://nl.wikipedia.org/wiki/Edmond_Leburton\n",
      "Leader of be: Edmond None, First Paragraph: Edmond Jules Isidore Leburton(Lantremange,18 april1915–Borgworm,15 juni1997) was een Belgischpoliticusvoor de PSB.\n",
      "https://nl.wikipedia.org/wiki/Jean_Duvieusart\n",
      "Leader of be: Jean None, First Paragraph: Jean Pierre Armand Ghislain Marie Duvieusart(Frasnes-lez-Gosselies,10 april1900–Couillet,11 oktober1977) was een Belgischadvocaatenkatholiekpoliticus.\n",
      "https://nl.wikipedia.org/wiki/Joseph_Lebeau\n",
      "Leader of be: Joseph Lebeau, First Paragraph: Jean Louis Joseph Lebeau(Hoei,2 januari1794– aldaar,19 maart1865) was lid van het Nationaal Congres,Belgischliberaalvolksvertegenwoordigereneerste minister.\n",
      "https://nl.wikipedia.org/wiki/Charles_Rogier\n",
      "Leader of be: Charles Rogier, First Paragraph: Charles Latour Rogier(Nederlands, verouderd: Karel Rogier;Saint-Quentin17 augustus1800–Sint-Joost-ten-Node,27 mei1885) was een Belgischpoliticus en een van de grondleggers van de Belgische staat.\n",
      "https://nl.wikipedia.org/wiki/Barth%C3%A9lemy_de_Theux_de_Meylandt\n",
      "Leader of be: Barthélemy None, First Paragraph: Barthélemy-Théodore graaf de Theux de Meylandt(Sint-Truiden,26 februari1794–Heusden,21 augustus1874) was een Belgischstaatsman, eerste minister en lid van het Nationaal Congres.\n",
      "https://nl.wikipedia.org/wiki/Felix_de_M%C3%BBelenaere\n",
      "Leader of be: Felix None, First Paragraph: Felix Amandus de Mûelenaere(Pittem,9 april1793– aldaar,5 augustus1862) was een Belgischunionistischpoliticus.\n",
      "https://nl.wikipedia.org/wiki/Alexander_De_Croo\n",
      "Leader of be: Alexander De Croo, First Paragraph: Alexander Francis Herman De Croo(Vilvoorde,[3]3 november1975) is een Belgischpoliticus voor Open Vld.[4]Sedert 1 oktober 2020 is De Croopremier van Belgiëvan de zogenaamde Vivaldicoalitie. Hij volgde Sophie Wilmèsop en is de eerste Vlaamse premier in iets minder dan 10 jaar.\n",
      "https://nl.wikipedia.org/wiki/Henri_de_Brouck%C3%A8re\n",
      "Leader of be: Henri de Brouckère, First Paragraph: Henri Ghislain Joseph Marie Hyacinthe de Brouckère(Brugge,25 januari1801-Brussel,25 januari1891) was een Belgischliberaalpoliticus. Hij was onder meer eerste minister,volksvertegenwoordigeren lid van het Belgisch Nationaal Congres.\n",
      "https://nl.wikipedia.org/wiki/Albert_Goblet_d%27Alviella\n",
      "Leader of be: Albert None, First Paragraph: Albert Joseph Goblet, sinds 1838graaf Goblet d'Alviella(Doornik,26 mei1790–Brussel,5 mei1873) was een Belgischpoliticus en officier.\n",
      "https://nl.wikipedia.org/wiki/Sylvain_Van_de_Weyer\n",
      "Leader of be: Sylvain Weyer, First Paragraph: Jean-Sylvain Van de Weyer(Leuven,19 januari1802–Londen,23 mei1874), beter bekend als Sylvain Van de Weyer, was een van de grondleggers van de Belgische Staat, en later ookeerste minister.\n",
      "https://nl.wikipedia.org/wiki/Jules_de_Burlet\n",
      "Leader of be: Jules Burlet, First Paragraph: Jules Philippe Marie de Burlet(Elsene,10 april1844-Nijvel,1 maart1897) was een Belgischkatholiekpoliticus.\n",
      "https://nl.wikipedia.org/wiki/Paul-Emile_Janson\n",
      "Leader of be: Paul-Émile None, First Paragraph: Paul-Emile Janson(Brussel,30 mei1872- concentratiekamp Buchenwald,3 maart1944) was de Belgischeeerste ministervan november 1937 tot mei 1938.\n",
      "https://nl.wikipedia.org/wiki/Jules_Malou\n",
      "Leader of be: Jules Malou, First Paragraph: Jules Edouard François-Xavier Malou(Ieper,19 oktober1810-Sint-Lambrechts-Woluwe,11 juli1886) was een Belgischpoliticus. Hij was onder meer leider van de Katholieke Partij,volksvertegenwoordiger,senatoreneerste minister.\n",
      "https://nl.wikipedia.org/wiki/Charles_de_Broqueville\n",
      "Leader of be: Charles Broqueville, First Paragraph: Charles Marie Pierre Albert graaf de Broqueville(Postel(Mol),4 december1860-Brussel,5 september1940) was de Belgischekabinetsleider[1]tijdens de Eerste Wereldoorlog(van17 juni1911tot1 juni1918) en eerste minister van22 oktober1932tot20 november1934. Hij was lid van de Katholieke Partij.\n",
      "https://nl.wikipedia.org/wiki/Joseph_Pholien\n",
      "Leader of be: Joseph Pholien, First Paragraph: Joseph Clovis Louis Marie Emmanuel Pholien(Luik,28 december1884–Brussel,4 januari1968) was een Belgischpoliticusvan de PSC.\n",
      "https://nl.wikipedia.org/wiki/Jean_Van_Houtte\n",
      "Leader of be: Jean Van Houtte, First Paragraph: Jean Maria Josephus baron Van Houtte(Gent,17 maart1907–Brussel,23 mei1991) was een Belgischadvocaat,hoogleraarenpoliticusvan de CVP.\n",
      "https://nl.wikipedia.org/wiki/Walth%C3%A8re_Fr%C3%A8re-Orban\n",
      "Leader of be: Walthère Frère, First Paragraph: Hubert Joseph Walthère Frère-Orban(Luik,24 april1812–Brussel,2 januari1896) was een Belgischliberaalpoliticusdie zijn stempel heeft gedrukt op de eerste halve eeuw onafhankelijkheid van België.\n",
      "https://nl.wikipedia.org/wiki/Gerard_Cooreman\n",
      "Leader of be: Gérard Cooreman, First Paragraph: Gérard François Marie(Gerard) Cooreman(Gent,25 maart1852–Brussel,2 december1926) was een Belgischadvocaatenpoliticusvoor dekatholieke Partij.\n",
      "https://nl.wikipedia.org/wiki/Jules_Vandenpeereboom\n",
      "Leader of be: Jules Vandenpeereboom, First Paragraph: Jules Pierre Henri François Xavier Vandenpeereboom(Kortrijk,18 maart1843-Anderlecht,6 maart1917) was een Belgischkatholiekpoliticus.\n",
      "https://nl.wikipedia.org/wiki/Paul_de_Smet_de_Naeyer\n",
      "Leader of be: Paul None, First Paragraph: Paul Joseph graaf de Smet de Naeyer(Gent,13 mei1843–Brussel,9 september1913) was een Belgischkatholiekpoliticus.\n",
      "https://nl.wikipedia.org/wiki/Jules_de_Trooz\n",
      "Leader of be: Jules Trooz, First Paragraph: Baron Jules Henri Ghislain Marie de Trooz(Leuven,21 februari1857-Brussel,31 december1907) was een Belgischkatholiekpoliticus.\n",
      "https://nl.wikipedia.org/wiki/Jules_Joseph_d%27Anethan\n",
      "Leader of be: Jules d'Anethan, First Paragraph: Jules Joseph d'Anethan(Brussel,23 april1803-Schaarbeek,8 oktober1888) was een Belgischpoliticus. Hij waspremiervan 2 juli 1870 tot 7 december 1871.\n",
      "https://nl.wikipedia.org/wiki/Charles_Michel\n",
      "Leader of be: Charles Michel, First Paragraph: Charles Yves Jean Ghislaine Michel(Namen,21 december1975) is een Belgischpoliticus voor de partij Mouvement Réformateur(MR). Van 11 oktober 2014 tot 27 oktober 2019 was hijpremier van Belgiëin de regeringen Michel Ien Michel II. Op 2 juli 2019 werd hij verkozen alsvoorzitter van de Europese Raad, in opvolging van Donald Tusk, een functie die hij sinds 1 december 2019 uitoefent.\n",
      "https://nl.wikipedia.org/wiki/Sophie_Wilm%C3%A8s\n",
      "Leader of be: Sophie Wilmès, First Paragraph: Sophie Wilmès(Elsene,15 januari1975) is een Belgischpoliticavan de MR. Van 27 oktober 2019 tot 1 oktober 2020 was ze de eerste vrouwelijkepremiervan België.[1]Vanaf 1 oktober 2020 was ze vicepremier en minister van Buitenlandse Zaken en Buitenlandse Handel. Om familiale redenen legde ze op 21 april 2022 haar bevoegdheden als minister tijdelijk neer. Op 15 juli 2022 legde ze haar functie definitief neer.\n"
     ]
    }
   ],
   "source": [
    "# Check the output of your function (1 line)\n",
    "leaders_data = get_leaders()\n"
   ]
  },
  {
   "cell_type": "markdown",
   "metadata": {
    "id": "Y9lgxh_NMSO3"
   },
   "source": [
    "Well done! It took a while however... Let's speed things up. The main *bottleneck* is the loop. We call on the Wikipedia website many times.\n",
    "\n",
    "You will use the same *session* to call all the wikipedia pages. Check the *Advanced Usage* section of the Requests module's documentation.\n",
    "\n",
    "Start by modifying the `get_first_paragraph()` function to accept a session parameter and adjust the `get()` method call."
   ]
  },
  {
   "cell_type": "code",
   "execution_count": 24,
   "metadata": {
    "id": "XTEVLIJ-V7z1"
   },
   "outputs": [],
   "source": [
    "# < 20 lines\n"
   ]
  },
  {
   "cell_type": "markdown",
   "metadata": {
    "id": "3gcgHMkeWK5-"
   },
   "source": [
    "Modify your `get_leaders()` function to make use of a single session for all the Wikipedia calls.\n",
    "1. create a `Session` object outside of the loop over countries.\n",
    "2. pass it to the `get_first_paragraph()` function as an argument."
   ]
  },
  {
   "cell_type": "code",
   "execution_count": 25,
   "metadata": {
    "id": "Kt6JtKDpOAIe"
   },
   "outputs": [],
   "source": [
    "from requests import Session\n",
    "import time\n",
    "\n",
    "def session_loop_request(session, url, cookies=None, params=None, retry=False):    \n",
    "    response = session.get(url, cookies=cookies, params=params)\n",
    "    if response.status_code == 403 and not retry:       #this fix the cookie expired problem  \n",
    "        print(\"Cookie expired. Refreshing cookie and retrying...\")\n",
    "        new_cookie = refresh_cookie(session)\n",
    "        return session_loop_request(session, url, cookies=new_cookie, params=params, retry=True)\n",
    "    response.raise_for_status()\n",
    "    if \"json\" in response.headers.get(\"Content-Type\", \"\"):\n",
    "        return response.json()\n",
    "    return response.text\n",
    "\n",
    "def refresh_cookie(session): #this fix the cookie expired problem    \n",
    "    root_url = \"https://country-leaders.onrender.com\"\n",
    "    cookie_url = f\"{root_url}/cookie\"\n",
    "    return session.get(cookie_url).cookies\n",
    "\n",
    "def get_leaders():\n",
    "    root_url = \"https://country-leaders.onrender.com\"    \n",
    "    with Session() as session:        \n",
    "        status_url = f\"{root_url}/status\"\n",
    "        status_response = session.get(status_url)\n",
    "        if status_response.status_code == 200:\n",
    "            print(status_response.text)\n",
    "        else:\n",
    "            print(f\"Error accessing the website: {status_response.status_code}\")        \n",
    "        cookie = refresh_cookie(session)\n",
    "        countries_url = f\"{root_url}/countries\"\n",
    "        countries = session_loop_request(session, countries_url, cookies=cookie)        \n",
    "        leaders_per_country = {}\n",
    "        leaders_url = f\"{root_url}/leaders\"\n",
    "        for country in countries:\n",
    "            country_leaders = {}\n",
    "            leaders_data = session_loop_request(session, leaders_url, cookies=cookie, params={\"country\": country})            \n",
    "            for leader in leaders_data:\n",
    "                full_name = f\"{leader.get('first_name')} {leader.get('last_name')}\"\n",
    "                wikipedia_url = leader.get('wikipedia_url')\n",
    "                if wikipedia_url:                    \n",
    "                    first_paragraph = get_first_paragraph(session, wikipedia_url)\n",
    "                    country_leaders[full_name] = first_paragraph\n",
    "                    print(f\"Leader of {country}: {full_name}, First Paragraph: {first_paragraph}\")            \n",
    "            leaders_per_country[country] = country_leaders\n",
    "            time.sleep(0.5)  # delay between countries to avoid overload\n",
    "            \n",
    "    return leaders_per_country\n",
    "\n",
    "def get_first_paragraph(session, wikipedia_url):    \n",
    "    print(wikipedia_url)\n",
    "    response = session.get(wikipedia_url)\n",
    "    response.raise_for_status()\n",
    "    soup = BeautifulSoup(response.text, 'html.parser')\n",
    "    paragraphs = soup.find_all('p')\n",
    "    first_paragraph = None\n",
    "    for paragraph in paragraphs:\n",
    "        text = paragraph.get_text(separator=\" \",strip=True)# this fix also the wikilinks problem\n",
    "        if text:\n",
    "            first_paragraph = text\n",
    "            break \n",
    "\n",
    "    \n",
    "       \n",
    "    return first_paragraph\n"
   ]
  },
  {
   "cell_type": "markdown",
   "metadata": {
    "id": "fy09nMG9VOaI"
   },
   "source": [
    "Test your new functions.\n",
    "\n"
   ]
  },
  {
   "cell_type": "code",
   "execution_count": 26,
   "metadata": {
    "id": "p5wFE6ivRf-Z"
   },
   "outputs": [
    {
     "name": "stdout",
     "output_type": "stream",
     "text": [
      "\"Alive\"\n",
      "https://en.wikipedia.org/wiki/George_Washington\n",
      "Leader of us: George Washington, First Paragraph: George Washington (February 22, 1732 – December 14 , 1799) was a Founding Father of the United States , military officer, and farmer who served as the first president of the United States from 1789 to 1797. Appointed by the Second Continental Congress as commander of the Continental Army in 1775, Washington led Patriot forces to victory in the American Revolutionary War and then served as president of the Constitutional Convention in 1787, which drafted the current Constitution of the United States . Washington has thus become commonly known as the \" Father of his Country \".\n",
      "https://en.wikipedia.org/wiki/Barack_Obama\n",
      "Leader of us: Barack Obama, First Paragraph: Barack Hussein Obama II [ a ] (born August 4, 1961) is an American politician who served as the 44th president of the United States from 2009 to 2017. As a member of the Democratic Party , he was the first African-American president in U.S. history. Obama previously served as a U.S. senator representing Illinois from 2005 to 2008 and as an Illinois state senator from 1997 to 2004.\n",
      "https://en.wikipedia.org/wiki/Abraham_Lincoln\n",
      "Leader of us: Abraham Lincoln, First Paragraph: Abraham Lincoln ( / ˈ l ɪ ŋ k ən / LINK -ən ; February 12, 1809 – April 15, 1865) was the 16th president of the United States , serving from 1861 until his assassination in 1865. He led the United States through the American Civil War , defending the nation as a constitutional union , defeating the Confederacy , playing a major role in the abolition of slavery , expanding the power of the federal government , and modernizing the U.S. economy .\n",
      "https://en.wikipedia.org/wiki/George_W._Bush\n",
      "Leader of us: George Bush, First Paragraph: George Walker Bush [ a ] (born July 6, 1946) is an American politician and businessman who served as the 43rd president of the United States from 2001 to 2009. A member of the Bush family and Republican Party , he was the 46th governor of Texas from 1995 to 2000.\n",
      "https://en.wikipedia.org/wiki/Bill_Clinton\n",
      "Leader of us: Bill Clinton, First Paragraph: William Jefferson  Clinton ( né Blythe ; born August 19, 1946) is an American lawyer and politician  who served as the 42nd president of the United States from 1993 to 2001. A member of the Democratic Party , he previously served as governor of Arkansas from 1979 to 1981 and again from 1983 to 1992. Clinton, whose policies reflected a centrist \" Third Way \" political philosophy , became known as a New Democrat .\n",
      "https://en.wikipedia.org/wiki/Joe_Biden\n",
      "Leader of us: Joe Biden, First Paragraph: Joseph Robinette Biden Jr. [ b ] (born November 20, 1942) is an American politician who has been the 46th and current president of the United States since 2021. A member of the Democratic Party , he served as the 47th vice president from 2009 to 2017 under President Barack Obama and represented Delaware in the U.S. Senate from 1973 to 2009.\n",
      "https://en.wikipedia.org/wiki/Franklin_D._Roosevelt\n",
      "Leader of us: Franklin Roosevelt, First Paragraph: Franklin Delano Roosevelt [ a ] (January 30, 1882 – April 12, 1945), commonly known by his initials FDR , was the 32nd president of the United States , serving from 1933 until his death in 1945. The longest-serving U.S. president, he is the only president to have served more than two terms. His initial two terms were centered on combating the Great Depression , while his third and fourth saw him shift his focus to America's involvement in World War II .\n",
      "https://en.wikipedia.org/wiki/Andrew_Johnson\n",
      "Leader of us: Andrew Johnson, First Paragraph: Andrew Johnson (December 29, 1808 – July 31, 1875) was the 17th president of the United States , serving from 1865 to 1869. He assumed the presidency following the assassination of Abraham Lincoln , as he was vice president at that time. Johnson was a Democrat who ran with Abraham Lincoln on the National Union Party ticket, coming to office as the Civil War concluded. He favored quick restoration of the seceded states to the Union without protection for the newly freed people who were formerly enslaved as well as pardoning ex-Confederates. This led to conflict with the Republican -dominated Congress, culminating in his impeachment by the House of Representatives in 1868. He was acquitted in the Senate by one vote.\n",
      "https://en.wikipedia.org/wiki/Gerald_Ford\n",
      "Leader of us: Gerald Ford, First Paragraph: Gerald Rudolph Ford Jr. [ a ] (born Leslie Lynch King Jr. ; July 14, 1913 – December 26, 2006) was the 38th president of the United States , serving from 1974 to 1977. A member of the Republican Party , Ford assumed the presidency after President Richard Nixon resigned, under whom he had served as the 40th vice president from 1973 to 1974. Prior to that, he served as a member of the United States House of Representatives from 1949 to 1973.\n",
      "https://en.wikipedia.org/wiki/Richard_Nixon\n",
      "Leader of us: Richard Nixon, First Paragraph: Richard Milhous Nixon (January 9, 1913 – April 22, 1994) was the 37th president of the United States , serving from 1969 until his resignation in 1974. A member of the Republican Party , he previously served as a representative and senator from California and as the 36th vice president from 1953 to 1961 under President Dwight D. Eisenhower . His presidency saw the reduction of U.S. involvement in the Vietnam War , détente with the Soviet Union and China , the Apollo 11 Moon landing, and the establishment of the Environmental Protection Agency and Occupational Safety and Health Administration . Nixon's second term ended early when he became the only U.S. president to resign from office, as a result of the Watergate scandal .\n",
      "https://en.wikipedia.org/wiki/Lyndon_B._Johnson\n",
      "Leader of us: Lyndon Johnson, First Paragraph: Lyndon Baines Johnson ( / ˈ l ɪ n d ə n ˈ b eɪ n z / ; August 27, 1908 – January 22, 1973), often referred to as LBJ , was the 36th president of the United States , serving from 1963 to 1969. He became president after the assassination of John F. Kennedy , under whom he had served as the 37th vice president from 1961 to 1963. A Democrat from Texas , Johnson previously served as a U.S. representative and U.S. senator .\n",
      "https://en.wikipedia.org/wiki/John_F._Kennedy\n",
      "Leader of us: John Kennedy, First Paragraph: John Fitzgerald Kennedy (May 29, 1917 – November 22, 1963), often referred to as JFK , was the 35th president of the United States , serving from 1961 until his assassination in 1963. He was the youngest person elected president. [ a ] Kennedy served at the height of the Cold War , and the majority of his foreign policy concerned relations with the Soviet Union and Cuba . A Democrat , Kennedy represented Massachusetts in both houses of the United States Congress prior to his presidency.\n",
      "https://en.wikipedia.org/wiki/Dwight_D._Eisenhower\n",
      "Leader of us: Dwight Eisenhower, First Paragraph: Dwight David Eisenhower [ a ] (born David Dwight Eisenhower ; October 14, 1890 – March 28, 1969) was the 34th president of the United States , serving from 1953 to 1961. During World War II , he was Supreme Commander of the Allied Expeditionary Force in Europe and achieved the five-star rank as General of the Army . Eisenhower planned and supervised two of the most consequential military campaigns of World War II : Operation Torch in the North Africa campaign in 1942–1943 and the invasion of Normandy in 1944.\n",
      "https://en.wikipedia.org/wiki/Ronald_Reagan\n",
      "Leader of us: Ronald Reagan, First Paragraph: Ronald Wilson Reagan [ a ] (February 6, 1911 – June 5, 2004) was an American politician and actor who served as the 40th president of the United States from 1981 to 1989. A member of the Republican Party , he became an important figure in the American conservative movement , and his presidency is known as the Reagan era .\n",
      "https://en.wikipedia.org/wiki/Harry_S._Truman\n",
      "Leader of us: Harry Truman, First Paragraph: Harry S. Truman (May 8, 1884 – December 26, 1972) was an American lawyer and politician who was the 33rd president of the United States , serving from 1945 to 1953. A member of the Democratic Party , he served as a United States senator from Missouri from 1935 to 1945 and briefly in 1945 as the 34th vice president of the United States under Franklin D. Roosevelt . Assuming the presidency after Roosevelt's death, Truman implemented the Marshall Plan in the wake of World War II to rebuild the economy of Western Europe and established both the Truman Doctrine and NATO to contain the expansion of Soviet communism . He proposed numerous liberal domestic reforms, but few were enacted by the conservative coalition that dominated Congress .\n",
      "https://en.wikipedia.org/wiki/John_Adams\n",
      "Leader of us: John Adams, First Paragraph: John Adams (October 30, 1735 – July 4, 1826) was an American statesman, attorney, diplomat, writer, and Founding Father who served as the second president of the United States from 1797 to 1801. Before his presidency , he was a leader of the American Revolution that achieved independence from Great Britain . During the latter part of the Revolutionary War and in the early years of the new nation, he served the U.S. government as a senior diplomat in Europe. Adams was the first person to hold the office of vice president of the United States , serving from 1789 to 1797. He was a dedicated diarist and regularly corresponded with important contemporaries, including his wife and adviser Abigail Adams and his friend and political rival Thomas Jefferson .\n",
      "https://en.wikipedia.org/wiki/Thomas_Jefferson\n",
      "Leader of us: Thomas Jefferson, First Paragraph: Thomas Jefferson (April 13, 1743 [ b ] – July 4, 1826) was an American statesman, planter, diplomat, lawyer, architect, philosopher, and Founding Father who served as the third president of the United States from 1801 to 1809. [ 6 ] He was the primary author of the Declaration of Independence . Following the American Revolutionary War and before becoming president in 1801, Jefferson was the nation's first U.S. secretary of state under George Washington and then the nation's second vice president under John Adams . Jefferson was a leading proponent of democracy, republicanism , and natural rights , and he produced formative documents and decisions at the state, national, and international levels.\n",
      "https://en.wikipedia.org/wiki/James_Madison\n",
      "Leader of us: James Madison, First Paragraph: James Madison (March 16, 1751 [ b ] – June 28, 1836) was an American statesman, diplomat, and Founding Father who served as the fourth president of the United States from 1809 to 1817. Madison was popularly acclaimed the \" Father of the Constitution \" for his pivotal role in drafting and promoting the Constitution of the United States and the Bill of Rights .\n",
      "https://en.wikipedia.org/wiki/James_Monroe\n",
      "Leader of us: James Monroe, First Paragraph: James Monroe ( / m ə n ˈ r oʊ / mən- ROH ; April 28, 1758 – July 4, 1831), a Founding Father of the United States , served as the fifth president of the United States from 1817 to 1825. He was the last Founding Father to serve as president as well as the last president of the Virginia dynasty . He was a member of the Democratic-Republican Party , and his presidency coincided with the Era of Good Feelings , concluding the First Party System era of American politics. He issued the Monroe Doctrine , a policy of limiting European colonialism in the Americas. Monroe previously served as governor of Virginia , a member of the United States Senate , U.S. ambassador to France and Britain, the seventh secretary of state, and the eighth secretary of war.\n",
      "https://en.wikipedia.org/wiki/John_Quincy_Adams\n",
      "Leader of us: John Adams, First Paragraph: John Quincy Adams ( / ˈ k w ɪ n z i / ⓘ ; [ a ] July 11, 1767 – February 23, 1848) was the sixth president of the United States , serving from 1825 to 1829. He previously served as the eighth United States secretary of state from 1817 to 1825. During his long diplomatic and political career, Adams served as an ambassador and also as a member of the United States Congress representing Massachusetts in both chambers. He was the eldest son of John Adams , who served as the second president of the United States from 1797 to 1801, and First Lady Abigail Adams . Initially a Federalist like his father, he won election to the presidency as a member of the Democratic-Republican Party , and later, in the mid-1830s, became affiliated with the Whig Party .\n",
      "https://en.wikipedia.org/wiki/Andrew_Jackson\n",
      "Leader of us: Andrew Jackson, First Paragraph: Andrew Jackson (March 15, 1767 – June 8, 1845) was the seventh president of the United States , serving from 1829 to 1837. Before his presidency , he gained fame as a general in the U.S. Army and served in both houses of the U.S. Congress . Often praised as an advocate for ordinary Americans and for his work in preserving the union of states , Jackson has also been criticized for his racial policies, particularly his treatment of Native Americans .\n",
      "https://en.wikipedia.org/wiki/Martin_Van_Buren\n",
      "Leader of us: Martin Van Buren, First Paragraph: Martin Van Buren ( / v æ n ˈ b jʊər ən / van BURE -ən ; Dutch : Maarten van Buren [ˈmaːrtə(ɱ) vɑm ˈbyːrə(n)] ⓘ ; December 5, 1782 – July 24, 1862) was the eighth president of the United States , serving from 1837 to 1841. A primary founder of the Democratic Party , he served as New York's attorney general and U.S. senator , then briefly as the ninth governor of New York before joining Andrew Jackson 's administration as the tenth United States secretary of state , minister to Great Britain , and ultimately the eighth vice president from 1833 to 1837, after being elected on Jackson's ticket in 1832 . Van Buren won the presidency in 1836 against divided Whig opponents. Van Buren lost re-election in 1840 , and failed to win the Democratic nomination in 1844 . Later in his life, Van Buren emerged as an elder statesman and an anti-slavery leader who led the Free Soil Party ticket in the 1848 presidential election .\n",
      "https://en.wikipedia.org/wiki/William_Henry_Harrison\n",
      "Leader of us: William Harrison, First Paragraph: William Henry Harrison (February 9, 1773 – April 4, 1841) served as the ninth president of the United States from March 4 to April 4, 1841, the shortest presidency in U.S. history. He was also the first U.S. president to die in office, causing a brief constitutional crisis since presidential succession was not then fully defined in the U.S. Constitution . Harrison was the last president born as a British subject in the Thirteen Colonies and was the grandfather of Benjamin Harrison , the 23rd U.S. president.\n",
      "https://en.wikipedia.org/wiki/John_Tyler\n",
      "Leader of us: John Tyler, First Paragraph: John Tyler (March 29, 1790 – January 18, 1862) was the tenth president of the United States , serving from 1841 to 1845, after briefly holding office as the tenth vice president in 1841. He was elected vice president on the 1840 Whig ticket with President William Henry Harrison , succeeding to the presidency following Harrison's death 31 days after assuming office. Tyler was a stalwart supporter and advocate of states' rights , including regarding slavery , and he adopted nationalistic policies as president only when they did not infringe on the states' powers. His unexpected rise to the presidency posed a threat to the presidential ambitions of Henry Clay and other Whig politicians and left Tyler estranged from both of the nation's major political parties at the time.\n",
      "https://en.wikipedia.org/wiki/James_K._Polk\n",
      "Leader of us: James Polk, First Paragraph: James Knox Polk ( / p oʊ k / ; [ 1 ] November 2, 1795 – June 15, 1849) was the 11th president of the United States , serving from 1845 to 1849. A protégé of Andrew Jackson and a member of the Democratic Party , he was an advocate of Jacksonian democracy and extending the territory of the United States. Polk led the U.S. into the Mexican–American War , and after winning the war he annexed the Republic of Texas , the Oregon Territory , and the Mexican Cession .\n",
      "https://en.wikipedia.org/wiki/Zachary_Taylor\n",
      "Leader of us: Zachary Taylor, First Paragraph: Zachary Taylor (November 24, 1784 – July 9, 1850) was the 12th president of the United States , serving from 1849 until his death in 1850. Taylor was a career officer in the United States Army , rising to the rank of major general and becoming a national hero for his victories in the Mexican–American War . As a result, he won election to the White House despite his vague political beliefs. His top priority as president was to preserve the Union. He died 16 months into his term from a stomach disease . Taylor had the third-shortest presidential term in U.S. history.\n",
      "https://en.wikipedia.org/wiki/Millard_Fillmore\n",
      "Leader of us: Millard Fillmore, First Paragraph: Millard Fillmore (January 7, 1800 – March 8, 1874) was the 13th president of the United States , serving from 1850 to 1853, and was the last president to have been a member of the Whig Party while in office. A former member of the U.S. House of Representatives , Fillmore was elected the 12th vice president in 1848 , and succeeded to the presidency when Zachary Taylor died in July 1850. Fillmore was instrumental in passing the Compromise of 1850 , which led to a brief truce in the battle over the expansion of slavery .\n",
      "https://en.wikipedia.org/wiki/Franklin_Pierce\n",
      "Leader of us: Franklin Pierce, First Paragraph: Franklin Pierce (November 23, 1804 – October 8, 1869) was the 14th president of the United States , serving from 1853 to 1857. A northern Democrat who believed that the abolitionist movement was a fundamental threat to the nation's unity, he alienated anti-slavery groups by signing the Kansas–Nebraska Act and enforcing the Fugitive Slave Act . Conflict between North and South continued after Pierce's presidency , and, after Abraham Lincoln was elected president in 1860 , the Southern states seceded , resulting in the American Civil War .\n",
      "https://en.wikipedia.org/wiki/James_Buchanan\n",
      "Leader of us: James Buchanan, First Paragraph: James Buchanan Jr. ( / b j uː ˈ k æ n ə n / bew- KAN -ən ; [ 3 ] April 23, 1791 – June 1, 1868) was the 15th president of the United States , serving from 1857 to 1861. Buchanan also served as the secretary of state from 1845 to 1849 and represented Pennsylvania in both houses of the U.S. Congress . He was an advocate for states' rights , particularly regarding slavery , and minimized the role of the federal government preceding the Civil War .\n",
      "https://en.wikipedia.org/wiki/Donald_Trump\n",
      "Leader of us: Donald Trump, First Paragraph: Donald John Trump (born June 14, 1946) is an American politician, media personality, and businessman who served as the 45th president of the United States from 2017 to 2021. A member of the Republican Party , he is the president-elect after winning the 2024 presidential election and is scheduled to be inaugurated as the 47th president on January 20, 2025.\n",
      "https://en.wikipedia.org/wiki/George_H._W._Bush\n",
      "Leader of us: George Bush, First Paragraph: George Herbert Walker Bush [ a ] (June 12, 1924 – November 30, 2018) was an American politician, diplomat, and businessman who served as the 41st president of the United States from 1989 to 1993. A member of the Republican Party , he also served as the 43rd vice president from 1981 to 1989 under Ronald Reagan and previously in various other federal positions . [ 2 ]\n",
      "https://en.wikipedia.org/wiki/Jimmy_Carter\n",
      "Leader of us: Jimmy Carter, First Paragraph: James Earl Carter Jr. (born October 1, 1924) is an American politician and humanitarian who served from 1977 to 1981 as the 39th president of the United States . A member of the Democratic Party , he served from 1963 to 1967 in the Georgia State Senate and from 1971 to 1975 as the 76th governor of Georgia . Carter is the longest-lived president in U.S. history and the first to live to 100 years of age .\n",
      "https://en.wikipedia.org/wiki/Theodore_Roosevelt\n",
      "Leader of us: Theodore Roosevelt, First Paragraph: Theodore  Roosevelt Jr. [ b ] (October 27, 1858 – January 6, 1919), often referred to as Teddy or T. R. , was the 26th president of the United States , serving from 1901 to 1909. He previously was involved in New York politics, including serving as the state's 33rd governor for two years. He was the vice president under President William McKinley for six months in 1901, assuming the presidency after McKinley's assassination . As president, Roosevelt emerged as a leader of the Republican Party and became a driving force for anti-trust and Progressive policies.\n",
      "https://en.wikipedia.org/wiki/Woodrow_Wilson\n",
      "Leader of us: Woodrow Wilson, First Paragraph: Thomas Woodrow Wilson (December 28, 1856 – February 3, 1924) was the 28th president of the United States , serving from 1913 to 1921. He was the only Democrat to serve as president during the Progressive Era when Republicans dominated the presidency and legislative branches . As president, Wilson changed the nation's economic policies and led the United States into World War I . He was the leading architect of the League of Nations , and his stance on foreign policy came to be known as Wilsonianism .\n",
      "https://en.wikipedia.org/wiki/James_A._Garfield\n",
      "Leader of us: James Garfield, First Paragraph: James Abram Garfield (November 19, 1831 – September 19, 1881) was the 20th president of the United States , serving from March 1881 until his assassination in September that year. A preacher, lawyer, and Civil War general, Garfield served nine terms in the United States House of Representatives and is the only sitting member of the House to be elected president. Before his candidacy for the presidency, he had been elected to the U.S. Senate by the Ohio General Assembly —a position he declined when he became president-elect .\n",
      "https://en.wikipedia.org/wiki/Ulysses_S._Grant\n",
      "Leader of us: Ulysses Grant, First Paragraph: Ulysses S. Grant (born Hiram Ulysses Grant ; [ a ] April 27, 1822 – July 23, 1885) was the 18th president of the United States , serving from 1869 to 1877. As commanding general , Grant led the Union Army to victory in the American Civil War in 1865.\n",
      "https://en.wikipedia.org/wiki/William_McKinley\n",
      "Leader of us: William McKinley, First Paragraph: William McKinley (January 29, 1843 – September 14, 1901) was the 25th president of the United States , serving from 1897 until his assassination in 1901. A member of the Republican Party , he led a realignment that made Republicans largely dominant in the industrial states and nationwide for decades. He presided over victory in the Spanish–American War of 1898; gained control of Hawaii, Puerto Rico, Guam, and the Philippines; restored prosperity after a deep depression; rejected the inflationary monetary policy of free silver , keeping the nation on the gold standard ; and raised protective tariffs .\n",
      "https://en.wikipedia.org/wiki/Grover_Cleveland\n",
      "Leader of us: Stephen Cleveland, First Paragraph: Stephen Grover Cleveland (March 18, 1837 – June 24, 1908) was an American politician and lawyer who served as the 22nd and 24th president of the United States from 1885 to 1889 and again from 1893 to 1897. He was the first Democrat to win the presidency following the end of the Civil War and was the first of only two presidents to be elected to non-consecutive terms in office. [ b ]\n",
      "https://en.wikipedia.org/wiki/Herbert_Hoover\n",
      "Leader of us: Herbert Hoover, First Paragraph: Herbert Clark Hoover (August 10, 1874 – October 20, 1964) was the 31st president of the United States , serving from 1929 to 1933. A wealthy mining engineer before his presidency, Hoover led the wartime Commission for Relief in Belgium and was the director of the U.S. Food Administration , followed by post-war relief of Europe. A member of the Republican Party , he served as the U.S. Secretary of Commerce from 1921 to 1928 before being elected president in 1928 . His presidency was dominated by the Great Depression , and his policies and methods to combat it were seen as lackluster. Amid his unpopularity, he decisively lost reelection to Franklin D. Roosevelt in 1932 .\n",
      "https://en.wikipedia.org/wiki/Warren_G._Harding\n",
      "Leader of us: Warren Harding, First Paragraph: Warren Gamaliel Harding (November 2, 1865 – August 2, 1923) was the 29th president of the United States , serving from 1921 until his death in 1923. A member of the Republican Party , he was one of the most popular sitting U.S. presidents while in office. After his death, a number of scandals were exposed, including Teapot Dome , as well as an extramarital affair with Nan Britton , which tarnished his reputation.\n",
      "https://en.wikipedia.org/wiki/Chester_A._Arthur\n",
      "Leader of us: Chester Arthur, First Paragraph: Chester Alan Arthur (October 5, 1829 [ b ] – November 18, 1886) was the 21st president of the United States , serving from 1881 to 1885. He was a Republican lawyer from New York who previously served as the 20th vice president under President James A. Garfield . Assuming the presidency after Garfield's assassination , Arthur's presidency saw the largest expansion of the U.S. Navy , the end of the so-called \" spoils system \", and the implementation of harsher restrictions for migrants entering from abroad.\n",
      "https://en.wikipedia.org/wiki/William_Howard_Taft\n",
      "Leader of us: William Taft, First Paragraph: Defunct\n",
      "https://en.wikipedia.org/wiki/Benjamin_Harrison\n",
      "Leader of us: Benjamin Harrison, First Paragraph: Benjamin Harrison (August 20, 1833 – March 13, 1901) was the 23rd president of the United States , serving from 1889 to 1893. He was a member of the Harrison family of Virginia —a grandson of the ninth president, William Henry Harrison , and a great-grandson of Benjamin Harrison V , a Founding Father . A Union Army veteran and a Republican, he defeated incumbent Grover Cleveland to win the presidency in 1888; however, was defeated for a second term by Cleveland in 1892.\n",
      "https://en.wikipedia.org/wiki/Rutherford_B._Hayes\n",
      "Leader of us: Rutherford Hayes, First Paragraph: Rutherford Birchard Hayes ( / ˈ r ʌ ð ər f ər d / ⓘ ; October 4, 1822 – January 17, 1893) was the 19th president of the United States , serving from 1877 to 1881. A staunch abolitionist from Ohio , he was also a brevet major general for the Union army during the American Civil War .\n",
      "https://en.wikipedia.org/wiki/Calvin_Coolidge\n",
      "Leader of us: John Coolidge, First Paragraph: Calvin Coolidge (born John Calvin Coolidge Jr. [ 1 ] / ˈ k uː l ɪ dʒ / KOOL -ij ; July 4, 1872 – January 5, 1933) was the 30th president of the United States , serving from 1923 to 1929. A Republican lawyer from Massachusetts , he previously served as the 29th vice president from 1921 to 1923 and as the 48th governor of Massachusetts from 1919 to 1921. Elected vice president in 1920 , he succeeded to the presidency upon the sudden death of President Warren G. Harding in August 1923. Elected in his own right in 1924 , Coolidge gained a reputation as a small-government conservative with a taciturn personality and dry sense of humor that earned him the nickname \"Silent Cal\". His widespread popularity enabled him to run for a second full term, but Coolidge chose not to run again in 1928 , remarking that ten years as president would be \"longer than any other man has had it—too long!\" [ b ]\n",
      "https://nl.wikipedia.org/wiki/Guy_Verhofstadt\n",
      "Leader of be: Guy Verhofstadt, First Paragraph: Guy Maurice Marie-Louise Verhofstadt [ 5 ] ( uitspraak ⓘ ) ( Dendermonde , 11 april 1953 ) is een Belgisch politicus voor de Open Vlaamse Liberalen en Democraten (Open Vld). Hij was premier van België van 12 juli 1999 tot 20 maart 2008 in drie regeringen. Hij beëindigde zijn actieve politieke carrière in het Europees Parlement , waar hij van 2009 tot 2019 fractieleider van de Alliantie van Liberalen en Democraten voor Europa (ALDE) was. [ 6 ]\n",
      "https://nl.wikipedia.org/wiki/Yves_Leterme\n",
      "Leader of be: Yves Leterme, First Paragraph: Yves Camille Désiré Leterme ( Wervik , 6 oktober 1960 ) is een Belgisch politicus . Hij was onder meer Vlaams minister-president en premier van België . Hij was lang boegbeeld van de CD&V en boegbeeld van het toenmalige kartel CD&V/N-VA .\n",
      "https://nl.wikipedia.org/wiki/Herman_Van_Rompuy\n",
      "Leader of be: Herman None, First Paragraph: Herman Achille graaf Van Rompuy ( Etterbeek , 31 oktober 1947 ) is een Belgische politicus van de christendemocratische partij CD&V . Hij was tussen 30 december 2008 en 25 november 2009 de premier van België en van 1 januari 2010 [ 2 ] tot en met 30 november 2014 voorzitter van de Europese Raad , in de media vaak incorrect ' president van Europa ' genoemd. [ 3 ] Op 19 november 2009 werd bekendgemaakt dat hij was verkozen tot de eerste permanente voorzitter en op 1 maart 2012 werd Van Rompuy met algemene stemmen door de 27 staatshoofden en regeringsleiders van de EU voor een tweede mandaat benoemd. Na deze termijn was hij niet meer herkiesbaar.\n",
      "https://nl.wikipedia.org/wiki/L%C3%A9on_Delacroix\n",
      "Leader of be: Léon Delacroix, First Paragraph: Léon Fréderic Gustave Delacroix ( Sint-Joost-ten-Node , 27 december 1867 – Baden-Baden , 15 oktober 1929 ) was een Belgisch katholiek politicus . De Léon Delacroixstraat in Anderlecht en het metrostation Delacroix werden naar hem vernoemd.\n",
      "https://nl.wikipedia.org/wiki/Henri_Carton_de_Wiart\n",
      "Leader of be: Henry Carton, First Paragraph: Henri Victor Marie Ghislain graaf Carton de Wiart ( Brussel , 31 januari 1869 – Ukkel , 6 mei 1951 ) (ook als \"Henry\" vermeld) was een Belgische politicus . Hij was Eerste Minister van 1920 tot 1921.\n",
      "https://nl.wikipedia.org/wiki/Georges_Theunis\n",
      "Leader of be: Georges Theunis, First Paragraph: Georges Emile Pierre Léonard Theunis ( Montegnée , 28 februari 1873 – Brussel , 4 januari 1966 ) was een Belgisch industrieel en politicus van de Katholieke Partij .\n",
      "https://nl.wikipedia.org/wiki/Aloys_Van_de_Vyvere\n",
      "Leader of be: Aloïs Van de Vyvere, First Paragraph: Aloys Jean Maria Joseph Van de Vyvere ( Tielt , 8 juni 1871 - Parijs , 22 oktober 1961 ) was een Belgisch katholiek volksvertegenwoordiger en minister .\n",
      "https://nl.wikipedia.org/wiki/Prosper_Poullet\n",
      "Leader of be: Prosper Poullet, First Paragraph: Prosper Antoine Marie Joseph burggraaf Poullet ( Leuven , 5 maart 1868 - 3 december 1937 ) was een Belgisch politicus .\n",
      "https://nl.wikipedia.org/wiki/Henri_Jaspar\n",
      "Leader of be: Henri Jaspar, First Paragraph: Henri Jaspar ( Schaarbeek , 28 juli 1870 - Sint-Gillis , 15 februari 1939 [ 1 ] ) was een Belgisch katholiek politicus , die twee keer premier van België was.\n",
      "https://nl.wikipedia.org/wiki/Jules_Renkin\n",
      "Leader of be: Jules None, First Paragraph: Jules Laurent Jean Louis Renkin ( Elsene , 3 december 1862 - Brussel , 15 juli 1934 ) was een Belgisch katholiek politicus .\n",
      "https://nl.wikipedia.org/wiki/Paul_van_Zeeland\n",
      "Leader of be: Paul Van Zeeland, First Paragraph: Paul Guillaume van Zeeland ( Zinnik , 11 november 1893 – Brussel , 22 september 1973 ) was een Belgisch advocaat, econoom, katholiek politicus en staatsman.\n",
      "https://nl.wikipedia.org/wiki/Achiel_Van_Acker\n",
      "Leader of be: Achille Van Acker, First Paragraph: Achille Honoré (Achiel) Van Acker uitspraak ⓘ ( Brugge , 8 april 1898 – aldaar, 10 juli 1975 ) was een Belgisch socialistisch politicus. Hij was viermaal premier van België .\n",
      "https://nl.wikipedia.org/wiki/Camille_Huysmans\n",
      "Leader of be: Camille Huysmans, First Paragraph: Jean Joseph Camille Huysmans (ook Kamiel Huysmans genoemd) ( Bilzen , 26 mei 1871 - Antwerpen , 25 februari 1968 ), geboren als Camiel Hansen , was een Belgisch journalist en socialistisch politicus voor de BWP / BSP .\n",
      "https://nl.wikipedia.org/wiki/Gaston_Eyskens\n",
      "Leader of be: Gaston Eyskens, First Paragraph: Gaston François Marie burggraaf Eyskens ( Lier , 1 april 1905 – Leuven , 3 januari 1988 ) was drie maal christendemocratisch eerste minister van België in de periode tussen 1949 en 1973 . Hij was de eerste Belgische regeringsleider die geboren was in de 20e eeuw .\n",
      "https://nl.wikipedia.org/wiki/Leo_Tindemans\n",
      "Leader of be: Leo Tindemans, First Paragraph: Leonard Clemence (Leo) Tindemans ( Zwijndrecht , 16 april 1922 – Edegem , 26 december 2014 ) was een Belgisch politicus voor de CVP en minister van staat . Hij was eerste minister van twee regeringen in België (periode van 25 april 1974 tot 20 oktober 1978 ) en behaalde het grootste aantal voorkeurstemmen in de Belgische geschiedenis bij de Europese verkiezingen van 1979. Daardoor kreeg hij de bijnaam \"de man van 1 miljoen stemmen\". [ 1 ]\n",
      "https://nl.wikipedia.org/wiki/Elio_Di_Rupo\n",
      "Leader of be: Elio Di Rupo, First Paragraph: Elio Di Rupo ( Morlanwelz , 18 juli 1951 ) is een Belgische politicus voor de Parti Socialiste (PS). Van 6 december 2011 tot 11 oktober 2014 was hij premier van België en werd meermaals minister en minister-president van de Waalse Regering .\n",
      "https://nl.wikipedia.org/wiki/Jean-Luc_Dehaene\n",
      "Leader of be: Jean-Luc Dehaene, First Paragraph: Jean Luc Joseph Marie Dehaene [ 5 ] uitspraak ⓘ ( Montpellier , 7 augustus 1940 – Quimper , 15 mei 2014 ) was van 1992 tot 1999 premier van België . Hij was lid van de toenmalige CVP (nu CD&V ). Onder zijn regering werd België een volwaardige federale staat. Dehaene leidde twee coalitieregeringen met de socialisten en bekleedde verschillende ministerposten voor hij in 1992 eerste minister werd. Van 2000 tot 2007 was hij burgemeester van Vilvoorde . In 2002 werd hij voorgedragen als vicevoorzitter van de Europese Conventie .\n",
      "https://nl.wikipedia.org/wiki/Frans_Schollaert\n",
      "Leader of be: Frans Schollaert, First Paragraph: François Victor Marie Ghislain (Frans) Schollaert ( Wilsele , 19 augustus 1851 - Sainte-Adresse , 25 juni 1917 ) [ 1 ] was een Belgisch katholiek politicus .\n",
      "https://nl.wikipedia.org/wiki/Pieter_de_Decker\n",
      "Leader of be: Pieter Decker, First Paragraph: Pierre Jacques François (Pieter) de Decker ( Zele , 25 januari 1812 - Schaarbeek , 4 januari 1891 ) was een Belgisch politicus en auteur .\n",
      "https://nl.wikipedia.org/wiki/Paul-Henri_Spaak\n",
      "Leader of be: Paul-Henri Spaak, First Paragraph: Paul-Henri Charles Spaak uitspraak ⓘ ( Schaarbeek , 25 januari 1899 - Eigenbrakel , 31 juli 1972 ) was een Belgisch socialistisch politicus en regeringsleider.\n",
      "https://nl.wikipedia.org/wiki/Auguste_Beernaert\n",
      "Leader of be: Auguste Beernaert, First Paragraph: Auguste Marie François (August) Beernaert ( Oostende , 26 juli 1829 – Luzern , 6 oktober 1912 ) was een Belgisch katholiek politicus en mensenrechtenactivist . In 1909 won hij de Nobelprijs voor de Vrede .\n",
      "https://nl.wikipedia.org/wiki/Th%C3%A9o_Lef%C3%A8vre\n",
      "Leader of be: Théodore Lefèvre, First Paragraph: Théodore Joseph Albéric Marie Lefèvre ( Gent , 17 januari 1914 – Sint-Lambrechts-Woluwe , 18 september 1973 ) was een Belgisch politicus . Hij was premier van België van 1961 tot 1965, aan het hoofd van de regering Lefèvre-Spaak .\n",
      "https://nl.wikipedia.org/wiki/Paul_Vanden_Boeynants\n",
      "Leader of be: Paul None, First Paragraph: Paul Emile François Henri Vanden Boeynants ( Vorst , 22 mei 1919 – Aalst , 8 januari 2001 ), in de media en door hemzelf bijgenaamd 'VDB', was een Belgisch volksvertegenwoordiger , minister en premier . Als ondernemer was hij actief in de vleesindustrie.\n",
      "https://nl.wikipedia.org/wiki/Etienne_de_Gerlache\n",
      "Leader of be: Étienne Gerlache, First Paragraph: Etienne Constantin baron de Gerlache ( Biourge , 25 december 1785 - Elsene , 10 februari 1871 ) was advocaat , politicus en magistraat in het Verenigd Koninkrijk der Nederlanden en in België .\n",
      "https://nl.wikipedia.org/wiki/Wilfried_Martens\n",
      "Leader of be: Wilfried Martens, First Paragraph: Wilfried Achiel Emma Martens uitspraak ⓘ ( Sleidinge , 19 april 1936 – Lokeren , 9 oktober 2013 ) was een Vlaams-Belgische politicus voor de CD&V (vroeger CVP) en was van april 1979 tot maart 1992 (met een korte onderbreking) eerste minister van België .\n",
      "https://nl.wikipedia.org/wiki/Mark_Eyskens\n",
      "Leader of be: Mark Eyskens, First Paragraph: Marc Maria Frans burggraaf Eyskens ( uitspraak ⓘ ) ( Leuven , 29 april 1933 ) is een Belgische emeritus hoogleraar , econoom , politicus en essayist . Van april tot december 1981 was hij premier van België .\n",
      "https://nl.wikipedia.org/wiki/Pierre_Harmel\n",
      "Leader of be: Pierre Harmel, First Paragraph: Pierre Charles José Marie graaf Harmel ( Ukkel , 16 maart 1911 – Brussel , 15 november 2009 ) was een Belgisch advocaat , hoogleraar en christendemocratisch staatsman .\n",
      "https://nl.wikipedia.org/wiki/Hubert_Pierlot\n",
      "Leader of be: Hubert Pierlot, First Paragraph: Hubert Marie Eugène Pierlot ( Cugnon , 23 december 1883 – Ukkel , 13 december 1963 ) was de Belgische eerste minister van 1939 tot 1945 .\n",
      "https://nl.wikipedia.org/wiki/Jean-Baptiste_Nothomb\n",
      "Leader of be: Jean-Baptiste Nothomb, First Paragraph: Jean Baptiste Nothomb ( Messancy , 3 juli 1805 – Berlijn , 16 september 1881 ) was een Belgisch staatsman en diplomaat die een belangrijke rol speelde bij het tot stand komen van de Belgische staat. Zo was hij een van de opstellers van de Belgische grondwet en onderhandelde hij over de verdragen die de Belgische onafhankelijkheid garandeerden.\n",
      "https://nl.wikipedia.org/wiki/Edmond_Leburton\n",
      "Leader of be: Edmond None, First Paragraph: Edmond Jules Isidore Leburton ( Lantremange , 18 april 1915 – Borgworm , 15 juni 1997 ) was een Belgisch politicus voor de PSB .\n",
      "https://nl.wikipedia.org/wiki/Jean_Duvieusart\n",
      "Leader of be: Jean None, First Paragraph: Jean Pierre Armand Ghislain Marie Duvieusart ( Frasnes-lez-Gosselies , 10 april 1900 – Couillet , 11 oktober 1977 ) was een Belgisch advocaat en katholiek politicus .\n",
      "https://nl.wikipedia.org/wiki/Joseph_Lebeau\n",
      "Leader of be: Joseph Lebeau, First Paragraph: Jean Louis Joseph Lebeau ( Hoei , 2 januari 1794 – aldaar, 19 maart 1865 ) was lid van het Nationaal Congres , Belgisch liberaal volksvertegenwoordiger en eerste minister .\n",
      "https://nl.wikipedia.org/wiki/Charles_Rogier\n",
      "Leader of be: Charles Rogier, First Paragraph: Charles Latour Rogier (Nederlands, verouderd: Karel Rogier; Saint-Quentin 17 augustus 1800 – Sint-Joost-ten-Node , 27 mei 1885 ) was een Belgisch politicus en een van de grondleggers van de Belgische staat.\n",
      "https://nl.wikipedia.org/wiki/Barth%C3%A9lemy_de_Theux_de_Meylandt\n",
      "Leader of be: Barthélemy None, First Paragraph: Barthélemy-Théodore graaf de Theux de Meylandt ( Sint-Truiden , 26 februari 1794 – Heusden , 21 augustus 1874 ) was een Belgisch staatsman, eerste minister en lid van het Nationaal Congres .\n",
      "https://nl.wikipedia.org/wiki/Felix_de_M%C3%BBelenaere\n",
      "Leader of be: Felix None, First Paragraph: Felix Amandus de Mûelenaere ( Pittem , 9 april 1793 – aldaar, 5 augustus 1862 ) was een Belgisch unionistisch politicus .\n",
      "https://nl.wikipedia.org/wiki/Alexander_De_Croo\n",
      "Leader of be: Alexander De Croo, First Paragraph: Alexander Francis Herman De Croo ( Vilvoorde , [ 3 ] 3 november 1975 ) is een Belgisch politicus voor Open Vld . [ 4 ] Sedert 1 oktober 2020 is De Croo premier van België van de zogenaamde Vivaldicoalitie . Hij volgde Sophie Wilmès op en is de eerste Vlaamse premier in iets minder dan 10 jaar.\n",
      "https://nl.wikipedia.org/wiki/Henri_de_Brouck%C3%A8re\n",
      "Leader of be: Henri de Brouckère, First Paragraph: Henri Ghislain Joseph Marie Hyacinthe de Brouckère ( Brugge , 25 januari 1801 - Brussel , 25 januari 1891 ) was een Belgisch liberaal politicus . Hij was onder meer eerste minister, volksvertegenwoordiger en lid van het Belgisch Nationaal Congres .\n",
      "https://nl.wikipedia.org/wiki/Albert_Goblet_d%27Alviella\n",
      "Leader of be: Albert None, First Paragraph: Albert Joseph Goblet , sinds 1838 graaf Goblet d'Alviella ( Doornik , 26 mei 1790 – Brussel , 5 mei 1873 ) was een Belgisch politicus en officier.\n",
      "https://nl.wikipedia.org/wiki/Sylvain_Van_de_Weyer\n",
      "Leader of be: Sylvain Weyer, First Paragraph: Jean-Sylvain Van de Weyer ( Leuven , 19 januari 1802 – Londen , 23 mei 1874 ), beter bekend als Sylvain Van de Weyer , was een van de grondleggers van de Belgische Staat , en later ook eerste minister .\n",
      "https://nl.wikipedia.org/wiki/Jules_de_Burlet\n",
      "Leader of be: Jules Burlet, First Paragraph: Jules Philippe Marie de Burlet ( Elsene , 10 april 1844 - Nijvel , 1 maart 1897 ) was een Belgisch katholiek politicus .\n",
      "https://nl.wikipedia.org/wiki/Paul-Emile_Janson\n",
      "Leader of be: Paul-Émile None, First Paragraph: Paul-Emile Janson ( Brussel , 30 mei 1872 - concentratiekamp Buchenwald , 3 maart 1944 ) was de Belgische eerste minister van november 1937 tot mei 1938.\n",
      "https://nl.wikipedia.org/wiki/Jules_Malou\n",
      "Leader of be: Jules Malou, First Paragraph: Jules Edouard François-Xavier Malou ( Ieper , 19 oktober 1810 - Sint-Lambrechts-Woluwe , 11 juli 1886 ) was een Belgisch politicus . Hij was onder meer leider van de Katholieke Partij , volksvertegenwoordiger , senator en eerste minister .\n",
      "https://nl.wikipedia.org/wiki/Charles_de_Broqueville\n",
      "Leader of be: Charles Broqueville, First Paragraph: Charles Marie Pierre Albert graaf de Broqueville ( Postel ( Mol ), 4 december 1860 - Brussel , 5 september 1940 ) was de Belgische kabinetsleider [ 1 ] tijdens de Eerste Wereldoorlog (van 17 juni 1911 tot 1 juni 1918 ) en eerste minister van 22 oktober 1932 tot 20 november 1934 . Hij was lid van de Katholieke Partij .\n",
      "https://nl.wikipedia.org/wiki/Joseph_Pholien\n",
      "Leader of be: Joseph Pholien, First Paragraph: Joseph Clovis Louis Marie Emmanuel Pholien ( Luik , 28 december 1884 – Brussel , 4 januari 1968 ) was een Belgisch politicus van de PSC .\n",
      "https://nl.wikipedia.org/wiki/Jean_Van_Houtte\n",
      "Leader of be: Jean Van Houtte, First Paragraph: Jean Maria Josephus baron Van Houtte ( Gent , 17 maart 1907 – Brussel , 23 mei 1991 ) was een Belgisch advocaat , hoogleraar en politicus van de CVP .\n",
      "https://nl.wikipedia.org/wiki/Walth%C3%A8re_Fr%C3%A8re-Orban\n",
      "Leader of be: Walthère Frère, First Paragraph: Hubert Joseph Walthère Frère-Orban ( Luik , 24 april 1812 – Brussel , 2 januari 1896 ) was een Belgisch liberaal politicus die zijn stempel heeft gedrukt op de eerste halve eeuw onafhankelijkheid van België.\n",
      "https://nl.wikipedia.org/wiki/Gerard_Cooreman\n",
      "Leader of be: Gérard Cooreman, First Paragraph: Gérard François Marie (Gerard) Cooreman ( Gent , 25 maart 1852 – Brussel , 2 december 1926 ) was een Belgisch advocaat en politicus voor de katholieke Partij .\n",
      "https://nl.wikipedia.org/wiki/Jules_Vandenpeereboom\n",
      "Leader of be: Jules Vandenpeereboom, First Paragraph: Jules Pierre Henri François Xavier Vandenpeereboom ( Kortrijk , 18 maart 1843 - Anderlecht , 6 maart 1917 ) was een Belgisch katholiek politicus .\n",
      "https://nl.wikipedia.org/wiki/Paul_de_Smet_de_Naeyer\n",
      "Leader of be: Paul None, First Paragraph: Paul Joseph graaf de Smet de Naeyer ( Gent , 13 mei 1843 – Brussel , 9 september 1913 ) was een Belgisch katholiek politicus .\n",
      "https://nl.wikipedia.org/wiki/Jules_de_Trooz\n",
      "Leader of be: Jules Trooz, First Paragraph: Baron Jules Henri Ghislain Marie de Trooz ( Leuven , 21 februari 1857 - Brussel , 31 december 1907 ) was een Belgisch katholiek politicus .\n",
      "https://nl.wikipedia.org/wiki/Jules_Joseph_d%27Anethan\n",
      "Leader of be: Jules d'Anethan, First Paragraph: Jules Joseph d'Anethan ( Brussel , 23 april 1803 - Schaarbeek , 8 oktober 1888 ) was een Belgisch politicus . Hij was premier van 2 juli 1870 tot 7 december 1871.\n",
      "https://nl.wikipedia.org/wiki/Charles_Michel\n",
      "Leader of be: Charles Michel, First Paragraph: Charles Yves Jean Ghislaine Michel ( Namen , 21 december 1975 ) is een Belgisch politicus voor de partij Mouvement Réformateur (MR). Van 11 oktober 2014 tot 27 oktober 2019 was hij premier van België in de regeringen Michel I en Michel II . Op 2 juli 2019 werd hij verkozen als voorzitter van de Europese Raad , in opvolging van Donald Tusk , een functie die hij sinds 1 december 2019 uitoefent.\n",
      "https://nl.wikipedia.org/wiki/Sophie_Wilm%C3%A8s\n",
      "Leader of be: Sophie Wilmès, First Paragraph: Sophie Wilmès ( Elsene , 15 januari 1975 ) is een Belgisch politica van de MR . Van 27 oktober 2019 tot 1 oktober 2020 was ze de eerste vrouwelijke premier van België. [ 1 ] Vanaf 1 oktober 2020 was ze vicepremier en minister van Buitenlandse Zaken en Buitenlandse Handel. Om familiale redenen legde ze op 21 april 2022 haar bevoegdheden als minister tijdelijk neer. Op 15 juli 2022 legde ze haar functie definitief neer.\n",
      "Cookie expired. Refreshing cookie and retrying...\n",
      "https://ar.wikipedia.org/wiki/%D9%85%D8%AD%D9%85%D8%AF_%D8%A7%D9%84%D8%B3%D8%A7%D8%AF%D8%B3_%D8%A8%D9%86_%D8%A7%D9%84%D8%AD%D8%B3%D9%86\n",
      "Leader of ma: Mohammed None, First Paragraph: مُحمد السادس بن الحسن الثاني العلوي (مواليد 21 أغسطس 1963) هو ملك المملكة المغربية منذ عام 1999 والملك الثالث والعشرون للمغرب من سلالة العلويين الفيلاليين ، تولى الحكم خلفًا لوالده الملك الحسن الثاني بعد وفاته، وبويع ملكًا يوم الجمعة 9 ربيع الثاني سنة 1420 هـ الموافق 23 يوليو 1999 بالقصر الملكي بالرباط .\n",
      "https://ar.wikipedia.org/wiki/%D8%A7%D9%84%D8%AD%D8%B3%D9%86_%D8%A7%D9%84%D8%AB%D8%A7%D9%86%D9%8A_%D8%A8%D9%86_%D9%85%D8%AD%D9%85%D8%AF\n",
      "Leader of ma: Hassan None, First Paragraph: هذه نسخة متحقق منها من هذه الصفحة\n",
      "https://ar.wikipedia.org/wiki/%D9%85%D8%AD%D9%85%D8%AF_%D8%A7%D9%84%D8%AE%D8%A7%D9%85%D8%B3_%D8%A8%D9%86_%D9%8A%D9%88%D8%B3%D9%81\n",
      "Leader of ma: Mohammed None, First Paragraph: محمد الخامس بن يوسف بن الحسن بن محمد بن عبد الرحمن بن هشام بن محمد بن عبد الله بن إسماعيل بن إسماعيل بن الشريف بن علي العلوي وُلد ( 1327 هـ / 10 أغسطس 1909م بالقصر السلطاني بفاس ) [ 1 ] وتوفي ( 1381 هـ / 26 فبراير 1961م بالرباط ) خَلَف والده السلطان مولاي يوسف الذي توفي بُكرة يوم الخميس 22 جمادى الأولى سنة 1346 هـ موافق 17 نوفمبر سنة 1927م [ 2 ] فبويع ابنه سيدي محمد سلطانا للمغرب في اليوم الموالي بعد صلاة الجمعة 23 جمادى الأولى سنة 1346 هـ موافق 18 نوفمبر سنة 1927م في القصر السلطاني بفاس [ 3 ] ولم يزل سلطان المغرب إلى سنة 1957م ، قضى منها المنفى بين ( 1953 - 1955 )، ثم اتخذ لقب الملك سنة 1957م ولم يزل ملكا إلى وفاته سنة 1961م ، ساند السلطان محمد الخامس نضالات الحركة الوطنية المغربية المطالبة بتحقيق الاستقلال ، الشيء الذي دفعه إلى الاصطدام بسلطات الحماية . وكانت النتيجة قيام سلطات الحماية بنفيه إلى مدغشقر . وعلى إثر ذلك اندلعت مظاهرات مطالبة بعودته إلى وطنه. وأمام اشتداد حدة المظاهرات، قبلت السلطات الفرنسية بإرجاع السلطان إلى عرشه يوم 16 نوفمبر 1955 . وبعد بضعة شهور تم إعلان استقلال المغرب . كان الملك محمد الخامس يكنى: أبا عبد الله. [ 1 ] [ 4 ]\n",
      "https://ar.wikipedia.org/wiki/%D8%A7%D9%84%D9%82%D8%A7%D8%A6%D9%85_%D8%A8%D8%A3%D9%85%D8%B1_%D8%A7%D9%84%D9%84%D9%87_%D8%A7%D9%84%D8%B3%D8%B9%D8%AF%D9%8A\n",
      "Leader of ma: Mohammed None, First Paragraph: هذه نسخة متحقق منها من هذه الصفحة\n",
      "Cookie expired. Refreshing cookie and retrying...\n",
      "https://ru.wikipedia.org/wiki/%D0%9F%D1%83%D1%82%D0%B8%D0%BD,_%D0%92%D0%BB%D0%B0%D0%B4%D0%B8%D0%BC%D0%B8%D1%80_%D0%92%D0%BB%D0%B0%D0%B4%D0%B8%D0%BC%D0%B8%D1%80%D0%BE%D0%B2%D0%B8%D1%87\n",
      "Leader of ru: Vladimir Putin, First Paragraph: Влади́мир Влади́мирович Пу́тин (род. 7 октября 1952 , Ленинград , СССР ) — российский государственный и политический деятель. Действующий президент Российской Федерации , председатель Государственного Совета Российской Федерации и Совета Безопасности Российской Федерации ; Верховный главнокомандующий Вооружёнными силами Российской Федерации с 7 мая 2012 года. Ранее занимал должность президента с 7 мая 2000 по 7 мая 2008 года, также в 1999—2000 и 2008—2012 годах занимал должность председателя правительства Российской Федерации . Фактически руководит Россией, согласно разным оценкам, с 1999 [ 7 ] или с 2000 года [ 8 ] . В сентябре 2017 года Путин стал самым долго правящим российским лидером после Иосифа Сталина [ 9 ] [ 10 ] , а после окончания пятого президентского срока станет таковым со времён Екатерины II [ 11 ] .\n",
      "https://ru.wikipedia.org/wiki/%D0%9C%D0%B5%D0%B4%D0%B2%D0%B5%D0%B4%D0%B5%D0%B2,_%D0%94%D0%BC%D0%B8%D1%82%D1%80%D0%B8%D0%B9_%D0%90%D0%BD%D0%B0%D1%82%D0%BE%D0%BB%D1%8C%D0%B5%D0%B2%D0%B8%D1%87\n",
      "Leader of ru: Dmitry Medvedev, First Paragraph: иностранные:\n",
      "https://ru.wikipedia.org/wiki/%D0%95%D0%BB%D1%8C%D1%86%D0%B8%D0%BD,_%D0%91%D0%BE%D1%80%D0%B8%D1%81_%D0%9D%D0%B8%D0%BA%D0%BE%D0%BB%D0%B0%D0%B5%D0%B2%D0%B8%D1%87\n",
      "Leader of ru: Boris Yeltsin, First Paragraph: Бори́с Никола́евич Е́льцин ( 1 февраля 1931 ( 1931-02-01 ) , Бутка , Буткинский район , Уральская область , РСФСР , СССР — 23 апреля 2007 , Москва , Россия ) — советский и российский партийный , государственный и политический деятель, первый всенародно избранный Президент Российской Федерации ( 1991—1999 ) ➤ ; в ноябре 1991 — июне 1992 года одновременно возглавлял правительство . С марта по май 1992 года исполнял обязанности министра обороны Российской Федерации .\n",
      "Cookie expired. Refreshing cookie and retrying...\n",
      "https://fr.wikipedia.org/wiki/Fran%C3%A7ois_Hollande\n",
      "Leader of fr: François Hollande, First Paragraph: Pour les articles homonymes, voir Hollande (homonymie) .\n",
      "https://fr.wikipedia.org/wiki/Nicolas_Sarkozy\n",
      "Leader of fr: Nicolas Sarkozy, First Paragraph: « Sarkozy » redirige ici. Pour les autres significations, voir Sarkozy (homonymie) , Nagy et Bocșa .\n",
      "https://fr.wikipedia.org/wiki/Fran%C3%A7ois_Mitterrand\n",
      "Leader of fr: François Mitterrand, First Paragraph: « Mitterrand » redirige ici.  Pour les autres significations, voir Mitterrand (homonymie) .\n",
      "https://fr.wikipedia.org/wiki/Charles_de_Gaulle\n",
      "Leader of fr: Charles de Gaulle, First Paragraph: Pour les articles homonymes, voir Charles de Gaulle (homonymie) et Gaulle .\n",
      "https://fr.wikipedia.org/wiki/Jacques_Chirac\n",
      "Leader of fr: Jacques Chirac, First Paragraph: Pour les articles homonymes, voir Chirac .\n",
      "https://fr.wikipedia.org/wiki/Val%C3%A9ry_Giscard_d%27Estaing\n",
      "Leader of fr: Valéry Giscard d'Estaing, First Paragraph: « Giscard » et « VGE » redirigent ici. Pour les autres significations, voir Giscard (homonymie) et VGE (homonymie) .\n",
      "https://fr.wikipedia.org/wiki/Georges_Pompidou\n",
      "Leader of fr: Georges Pompidou, First Paragraph: Pour les articles homonymes, voir Pompidou .\n",
      "https://fr.wikipedia.org/wiki/Adolphe_Thiers\n",
      "Leader of fr: Adolphe Thiers, First Paragraph: Pour les articles homonymes, voir Thiers (homonymie) .\n",
      "https://fr.wikipedia.org/wiki/Napol%C3%A9on_III\n",
      "Leader of fr: Napoléon Bonaparte, First Paragraph: Pour les articles homonymes, voir Louis-Napoléon Bonaparte (homonymie) , Napoléon (homonymie) et Bonaparte (homonymie) .\n",
      "https://fr.wikipedia.org/wiki/Paul_Doumer\n",
      "Leader of fr: Paul Doumer, First Paragraph: Vous lisez un « article de qualité » labellisé en 2019.\n",
      "https://fr.wikipedia.org/wiki/Alain_Poher\n",
      "Leader of fr: Alain Poher, First Paragraph: Cet article possède un paronyme , voir Alain Bauer .\n",
      "https://fr.wikipedia.org/wiki/Albert_Lebrun\n",
      "Leader of fr: Albert Lebrun, First Paragraph: Pour les articles homonymes, voir Lebrun .\n",
      "https://fr.wikipedia.org/wiki/Ren%C3%A9_Coty\n",
      "Leader of fr: René Coty, First Paragraph: Pour les articles homonymes, voir Coty .\n",
      "https://fr.wikipedia.org/wiki/Vincent_Auriol\n",
      "Leader of fr: Vincent Auriol, First Paragraph: Pour les articles homonymes, voir Auriol .\n",
      "https://fr.wikipedia.org/wiki/Patrice_de_Mac_Mahon\n",
      "Leader of fr: Patrice de Mac Mahon, First Paragraph: Pour les autres membres de la famille, voir Famille de Mac Mahon .\n",
      "https://fr.wikipedia.org/wiki/%C3%89mile_Loubet\n",
      "Leader of fr: Émile Loubet, First Paragraph: Pour les articles homonymes, voir Loubet .\n",
      "https://fr.wikipedia.org/wiki/Raymond_Poincar%C3%A9\n",
      "Leader of fr: Raymond Poincaré, First Paragraph: Pour les articles homonymes, voir Poincaré .\n",
      "https://fr.wikipedia.org/wiki/Sadi_Carnot_(homme_d%27%C3%89tat)\n",
      "Leader of fr: Marie Carnot, First Paragraph: Pour les articles homonymes, voir Sadi Carnot , Famille Carnot et Carnot .\n",
      "https://fr.wikipedia.org/wiki/Alexandre_Millerand\n",
      "Leader of fr: Alexandre Millerand, First Paragraph: Vous lisez un « article de qualité » labellisé en 2019.\n",
      "https://fr.wikipedia.org/wiki/Gaston_Doumergue\n",
      "Leader of fr: Gaston Doumergue, First Paragraph: Pour les articles homonymes, voir Doumergue .\n",
      "https://fr.wikipedia.org/wiki/F%C3%A9lix_Faure\n",
      "Leader of fr: Félix Faure, First Paragraph: Pour les articles homonymes, voir Alfred Faure (homme politique) et Félix Faure (1780-1859) .\n",
      "https://fr.wikipedia.org/wiki/Jules_Gr%C3%A9vy\n",
      "Leader of fr: Jules Grévy, First Paragraph: Pour les articles homonymes, voir Grévy .\n",
      "https://fr.wikipedia.org/wiki/Armand_Falli%C3%A8res\n",
      "Leader of fr: Clément Fallières, First Paragraph: Pour les articles homonymes, voir Fallières .\n",
      "https://fr.wikipedia.org/wiki/Paul_Deschanel\n",
      "Leader of fr: Paul Deschanel, First Paragraph: Vous lisez un « article de qualité » labellisé en 2020.\n",
      "https://fr.wikipedia.org/wiki/Georges_Bidault\n",
      "Leader of fr: Georges Bidault, First Paragraph: Ne doit pas être confondu avec Georges Bidault de l'Isle .\n",
      "https://fr.wikipedia.org/wiki/Jean_Casimir-Perier\n",
      "Leader of fr: Jean Casimir-Perier, First Paragraph: Pour les articles homonymes, voir Périer .\n",
      "https://fr.wikipedia.org/wiki/Charles_Dupuy\n",
      "Leader of fr: Charles Dupuy, First Paragraph: Pour les articles homonymes, voir Dupuy .\n",
      "https://fr.wikipedia.org/wiki/Eug%C3%A8ne_Cavaignac\n",
      "Leader of fr: Louis Cavaignac, First Paragraph: Cet article concerne l'homme politique. Pour son petit-fils historien, voir Eugène Cavaignac (historien) .\n",
      "https://fr.wikipedia.org/wiki/Louis_Jules_Trochu\n",
      "Leader of fr: Louis None, First Paragraph: Pour les articles homonymes, voir Trochu .\n",
      "https://fr.wikipedia.org/wiki/Fr%C3%A9d%C3%A9ric_Fran%C3%A7ois-Marsal\n",
      "Leader of fr: Frédéric None, First Paragraph: Frédéric François-Marsal , né le 16 mars 1874 à Paris 8 e ( Seine ) et mort le 20 mai 1958 à Gisors ( Eure ) [ 1 ] , est un homme d'affaires et un homme politique français de la droite républicaine, dont la carrière politique a culminé avec son bref passage à la présidence du Conseil en 1924.\n",
      "https://fr.wikipedia.org/wiki/Emmanuel_Macron\n",
      "Leader of fr: Emmanuel Macron, First Paragraph: Pour les articles homonymes, voir Macron .\n"
     ]
    }
   ],
   "source": [
    "leaders_data = get_leaders()"
   ]
  },
  {
   "attachments": {},
   "cell_type": "markdown",
   "metadata": {
    "id": "LtLTvw3wPqe0"
   },
   "source": [
    "## Saving your hard work\n",
    "\n",
    "The final step is to save the ``leaders_per_country`` dictionary in the `leaders.json` file using the [json](https://docs.python.org/3/library/json.html) module. Check out the `with` statement."
   ]
  },
  {
   "cell_type": "code",
   "execution_count": 27,
   "metadata": {
    "id": "pTNGKKrOjNDk"
   },
   "outputs": [
    {
     "name": "stdout",
     "output_type": "stream",
     "text": [
      "\"Alive\"\n",
      "https://en.wikipedia.org/wiki/George_Washington\n",
      "Leader of us: George Washington, First Paragraph: George Washington (February 22, 1732 – December 14 , 1799) was a Founding Father of the United States , military officer, and farmer who served as the first president of the United States from 1789 to 1797. Appointed by the Second Continental Congress as commander of the Continental Army in 1775, Washington led Patriot forces to victory in the American Revolutionary War and then served as president of the Constitutional Convention in 1787, which drafted the current Constitution of the United States . Washington has thus become commonly known as the \" Father of his Country \".\n",
      "https://en.wikipedia.org/wiki/Barack_Obama\n",
      "Leader of us: Barack Obama, First Paragraph: Barack Hussein Obama II [ a ] (born August 4, 1961) is an American politician who served as the 44th president of the United States from 2009 to 2017. As a member of the Democratic Party , he was the first African-American president in U.S. history. Obama previously served as a U.S. senator representing Illinois from 2005 to 2008 and as an Illinois state senator from 1997 to 2004.\n",
      "https://en.wikipedia.org/wiki/Abraham_Lincoln\n",
      "Leader of us: Abraham Lincoln, First Paragraph: Abraham Lincoln ( / ˈ l ɪ ŋ k ən / LINK -ən ; February 12, 1809 – April 15, 1865) was the 16th president of the United States , serving from 1861 until his assassination in 1865. He led the United States through the American Civil War , defending the nation as a constitutional union , defeating the Confederacy , playing a major role in the abolition of slavery , expanding the power of the federal government , and modernizing the U.S. economy .\n",
      "https://en.wikipedia.org/wiki/George_W._Bush\n",
      "Leader of us: George Bush, First Paragraph: George Walker Bush [ a ] (born July 6, 1946) is an American politician and businessman who served as the 43rd president of the United States from 2001 to 2009. A member of the Bush family and Republican Party , he was the 46th governor of Texas from 1995 to 2000.\n",
      "https://en.wikipedia.org/wiki/Bill_Clinton\n",
      "Leader of us: Bill Clinton, First Paragraph: William Jefferson  Clinton ( né Blythe ; born August 19, 1946) is an American lawyer and politician  who served as the 42nd president of the United States from 1993 to 2001. A member of the Democratic Party , he previously served as governor of Arkansas from 1979 to 1981 and again from 1983 to 1992. Clinton, whose policies reflected a centrist \" Third Way \" political philosophy , became known as a New Democrat .\n",
      "https://en.wikipedia.org/wiki/Joe_Biden\n",
      "Leader of us: Joe Biden, First Paragraph: Joseph Robinette Biden Jr. [ b ] (born November 20, 1942) is an American politician who has been the 46th and current president of the United States since 2021. A member of the Democratic Party , he served as the 47th vice president from 2009 to 2017 under President Barack Obama and represented Delaware in the U.S. Senate from 1973 to 2009.\n",
      "https://en.wikipedia.org/wiki/Franklin_D._Roosevelt\n",
      "Leader of us: Franklin Roosevelt, First Paragraph: Franklin Delano Roosevelt [ a ] (January 30, 1882 – April 12, 1945), commonly known by his initials FDR , was the 32nd president of the United States , serving from 1933 until his death in 1945. The longest-serving U.S. president, he is the only president to have served more than two terms. His initial two terms were centered on combating the Great Depression , while his third and fourth saw him shift his focus to America's involvement in World War II .\n",
      "https://en.wikipedia.org/wiki/Andrew_Johnson\n",
      "Leader of us: Andrew Johnson, First Paragraph: Andrew Johnson (December 29, 1808 – July 31, 1875) was the 17th president of the United States , serving from 1865 to 1869. He assumed the presidency following the assassination of Abraham Lincoln , as he was vice president at that time. Johnson was a Democrat who ran with Abraham Lincoln on the National Union Party ticket, coming to office as the Civil War concluded. He favored quick restoration of the seceded states to the Union without protection for the newly freed people who were formerly enslaved as well as pardoning ex-Confederates. This led to conflict with the Republican -dominated Congress, culminating in his impeachment by the House of Representatives in 1868. He was acquitted in the Senate by one vote.\n",
      "https://en.wikipedia.org/wiki/Gerald_Ford\n",
      "Leader of us: Gerald Ford, First Paragraph: Gerald Rudolph Ford Jr. [ a ] (born Leslie Lynch King Jr. ; July 14, 1913 – December 26, 2006) was the 38th president of the United States , serving from 1974 to 1977. A member of the Republican Party , Ford assumed the presidency after President Richard Nixon resigned, under whom he had served as the 40th vice president from 1973 to 1974. Prior to that, he served as a member of the United States House of Representatives from 1949 to 1973.\n",
      "https://en.wikipedia.org/wiki/Richard_Nixon\n",
      "Leader of us: Richard Nixon, First Paragraph: Richard Milhous Nixon (January 9, 1913 – April 22, 1994) was the 37th president of the United States , serving from 1969 until his resignation in 1974. A member of the Republican Party , he previously served as a representative and senator from California and as the 36th vice president from 1953 to 1961 under President Dwight D. Eisenhower . His presidency saw the reduction of U.S. involvement in the Vietnam War , détente with the Soviet Union and China , the Apollo 11 Moon landing, and the establishment of the Environmental Protection Agency and Occupational Safety and Health Administration . Nixon's second term ended early when he became the only U.S. president to resign from office, as a result of the Watergate scandal .\n",
      "https://en.wikipedia.org/wiki/Lyndon_B._Johnson\n",
      "Leader of us: Lyndon Johnson, First Paragraph: Lyndon Baines Johnson ( / ˈ l ɪ n d ə n ˈ b eɪ n z / ; August 27, 1908 – January 22, 1973), often referred to as LBJ , was the 36th president of the United States , serving from 1963 to 1969. He became president after the assassination of John F. Kennedy , under whom he had served as the 37th vice president from 1961 to 1963. A Democrat from Texas , Johnson previously served as a U.S. representative and U.S. senator .\n",
      "https://en.wikipedia.org/wiki/John_F._Kennedy\n",
      "Leader of us: John Kennedy, First Paragraph: John Fitzgerald Kennedy (May 29, 1917 – November 22, 1963), often referred to as JFK , was the 35th president of the United States , serving from 1961 until his assassination in 1963. He was the youngest person elected president. [ a ] Kennedy served at the height of the Cold War , and the majority of his foreign policy concerned relations with the Soviet Union and Cuba . A Democrat , Kennedy represented Massachusetts in both houses of the United States Congress prior to his presidency.\n",
      "https://en.wikipedia.org/wiki/Dwight_D._Eisenhower\n",
      "Leader of us: Dwight Eisenhower, First Paragraph: Dwight David Eisenhower [ a ] (born David Dwight Eisenhower ; October 14, 1890 – March 28, 1969) was the 34th president of the United States , serving from 1953 to 1961. During World War II , he was Supreme Commander of the Allied Expeditionary Force in Europe and achieved the five-star rank as General of the Army . Eisenhower planned and supervised two of the most consequential military campaigns of World War II : Operation Torch in the North Africa campaign in 1942–1943 and the invasion of Normandy in 1944.\n",
      "https://en.wikipedia.org/wiki/Ronald_Reagan\n",
      "Leader of us: Ronald Reagan, First Paragraph: Ronald Wilson Reagan [ a ] (February 6, 1911 – June 5, 2004) was an American politician and actor who served as the 40th president of the United States from 1981 to 1989. A member of the Republican Party , he became an important figure in the American conservative movement , and his presidency is known as the Reagan era .\n",
      "https://en.wikipedia.org/wiki/Harry_S._Truman\n",
      "Leader of us: Harry Truman, First Paragraph: Harry S. Truman (May 8, 1884 – December 26, 1972) was an American lawyer and politician who was the 33rd president of the United States , serving from 1945 to 1953. A member of the Democratic Party , he served as a United States senator from Missouri from 1935 to 1945 and briefly in 1945 as the 34th vice president of the United States under Franklin D. Roosevelt . Assuming the presidency after Roosevelt's death, Truman implemented the Marshall Plan in the wake of World War II to rebuild the economy of Western Europe and established both the Truman Doctrine and NATO to contain the expansion of Soviet communism . He proposed numerous liberal domestic reforms, but few were enacted by the conservative coalition that dominated Congress .\n",
      "https://en.wikipedia.org/wiki/John_Adams\n",
      "Leader of us: John Adams, First Paragraph: John Adams (October 30, 1735 – July 4, 1826) was an American statesman, attorney, diplomat, writer, and Founding Father who served as the second president of the United States from 1797 to 1801. Before his presidency , he was a leader of the American Revolution that achieved independence from Great Britain . During the latter part of the Revolutionary War and in the early years of the new nation, he served the U.S. government as a senior diplomat in Europe. Adams was the first person to hold the office of vice president of the United States , serving from 1789 to 1797. He was a dedicated diarist and regularly corresponded with important contemporaries, including his wife and adviser Abigail Adams and his friend and political rival Thomas Jefferson .\n",
      "https://en.wikipedia.org/wiki/Thomas_Jefferson\n",
      "Leader of us: Thomas Jefferson, First Paragraph: Thomas Jefferson (April 13, 1743 [ b ] – July 4, 1826) was an American statesman, planter, diplomat, lawyer, architect, philosopher, and Founding Father who served as the third president of the United States from 1801 to 1809. [ 6 ] He was the primary author of the Declaration of Independence . Following the American Revolutionary War and before becoming president in 1801, Jefferson was the nation's first U.S. secretary of state under George Washington and then the nation's second vice president under John Adams . Jefferson was a leading proponent of democracy, republicanism , and natural rights , and he produced formative documents and decisions at the state, national, and international levels.\n",
      "https://en.wikipedia.org/wiki/James_Madison\n",
      "Leader of us: James Madison, First Paragraph: James Madison (March 16, 1751 [ b ] – June 28, 1836) was an American statesman, diplomat, and Founding Father who served as the fourth president of the United States from 1809 to 1817. Madison was popularly acclaimed the \" Father of the Constitution \" for his pivotal role in drafting and promoting the Constitution of the United States and the Bill of Rights .\n",
      "https://en.wikipedia.org/wiki/James_Monroe\n",
      "Leader of us: James Monroe, First Paragraph: James Monroe ( / m ə n ˈ r oʊ / mən- ROH ; April 28, 1758 – July 4, 1831), a Founding Father of the United States , served as the fifth president of the United States from 1817 to 1825. He was the last Founding Father to serve as president as well as the last president of the Virginia dynasty . He was a member of the Democratic-Republican Party , and his presidency coincided with the Era of Good Feelings , concluding the First Party System era of American politics. He issued the Monroe Doctrine , a policy of limiting European colonialism in the Americas. Monroe previously served as governor of Virginia , a member of the United States Senate , U.S. ambassador to France and Britain, the seventh secretary of state, and the eighth secretary of war.\n",
      "https://en.wikipedia.org/wiki/John_Quincy_Adams\n",
      "Leader of us: John Adams, First Paragraph: John Quincy Adams ( / ˈ k w ɪ n z i / ⓘ ; [ a ] July 11, 1767 – February 23, 1848) was the sixth president of the United States , serving from 1825 to 1829. He previously served as the eighth United States secretary of state from 1817 to 1825. During his long diplomatic and political career, Adams served as an ambassador and also as a member of the United States Congress representing Massachusetts in both chambers. He was the eldest son of John Adams , who served as the second president of the United States from 1797 to 1801, and First Lady Abigail Adams . Initially a Federalist like his father, he won election to the presidency as a member of the Democratic-Republican Party , and later, in the mid-1830s, became affiliated with the Whig Party .\n",
      "https://en.wikipedia.org/wiki/Andrew_Jackson\n",
      "Leader of us: Andrew Jackson, First Paragraph: Andrew Jackson (March 15, 1767 – June 8, 1845) was the seventh president of the United States , serving from 1829 to 1837. Before his presidency , he gained fame as a general in the U.S. Army and served in both houses of the U.S. Congress . Often praised as an advocate for ordinary Americans and for his work in preserving the union of states , Jackson has also been criticized for his racial policies, particularly his treatment of Native Americans .\n",
      "https://en.wikipedia.org/wiki/Martin_Van_Buren\n",
      "Leader of us: Martin Van Buren, First Paragraph: Martin Van Buren ( / v æ n ˈ b jʊər ən / van BURE -ən ; Dutch : Maarten van Buren [ˈmaːrtə(ɱ) vɑm ˈbyːrə(n)] ⓘ ; December 5, 1782 – July 24, 1862) was the eighth president of the United States , serving from 1837 to 1841. A primary founder of the Democratic Party , he served as New York's attorney general and U.S. senator , then briefly as the ninth governor of New York before joining Andrew Jackson 's administration as the tenth United States secretary of state , minister to Great Britain , and ultimately the eighth vice president from 1833 to 1837, after being elected on Jackson's ticket in 1832 . Van Buren won the presidency in 1836 against divided Whig opponents. Van Buren lost re-election in 1840 , and failed to win the Democratic nomination in 1844 . Later in his life, Van Buren emerged as an elder statesman and an anti-slavery leader who led the Free Soil Party ticket in the 1848 presidential election .\n",
      "https://en.wikipedia.org/wiki/William_Henry_Harrison\n",
      "Leader of us: William Harrison, First Paragraph: William Henry Harrison (February 9, 1773 – April 4, 1841) served as the ninth president of the United States from March 4 to April 4, 1841, the shortest presidency in U.S. history. He was also the first U.S. president to die in office, causing a brief constitutional crisis since presidential succession was not then fully defined in the U.S. Constitution . Harrison was the last president born as a British subject in the Thirteen Colonies and was the grandfather of Benjamin Harrison , the 23rd U.S. president.\n",
      "https://en.wikipedia.org/wiki/John_Tyler\n",
      "Leader of us: John Tyler, First Paragraph: John Tyler (March 29, 1790 – January 18, 1862) was the tenth president of the United States , serving from 1841 to 1845, after briefly holding office as the tenth vice president in 1841. He was elected vice president on the 1840 Whig ticket with President William Henry Harrison , succeeding to the presidency following Harrison's death 31 days after assuming office. Tyler was a stalwart supporter and advocate of states' rights , including regarding slavery , and he adopted nationalistic policies as president only when they did not infringe on the states' powers. His unexpected rise to the presidency posed a threat to the presidential ambitions of Henry Clay and other Whig politicians and left Tyler estranged from both of the nation's major political parties at the time.\n",
      "https://en.wikipedia.org/wiki/James_K._Polk\n",
      "Leader of us: James Polk, First Paragraph: James Knox Polk ( / p oʊ k / ; [ 1 ] November 2, 1795 – June 15, 1849) was the 11th president of the United States , serving from 1845 to 1849. A protégé of Andrew Jackson and a member of the Democratic Party , he was an advocate of Jacksonian democracy and extending the territory of the United States. Polk led the U.S. into the Mexican–American War , and after winning the war he annexed the Republic of Texas , the Oregon Territory , and the Mexican Cession .\n",
      "https://en.wikipedia.org/wiki/Zachary_Taylor\n",
      "Leader of us: Zachary Taylor, First Paragraph: Zachary Taylor (November 24, 1784 – July 9, 1850) was the 12th president of the United States , serving from 1849 until his death in 1850. Taylor was a career officer in the United States Army , rising to the rank of major general and becoming a national hero for his victories in the Mexican–American War . As a result, he won election to the White House despite his vague political beliefs. His top priority as president was to preserve the Union. He died 16 months into his term from a stomach disease . Taylor had the third-shortest presidential term in U.S. history.\n",
      "https://en.wikipedia.org/wiki/Millard_Fillmore\n",
      "Leader of us: Millard Fillmore, First Paragraph: Millard Fillmore (January 7, 1800 – March 8, 1874) was the 13th president of the United States , serving from 1850 to 1853, and was the last president to have been a member of the Whig Party while in office. A former member of the U.S. House of Representatives , Fillmore was elected the 12th vice president in 1848 , and succeeded to the presidency when Zachary Taylor died in July 1850. Fillmore was instrumental in passing the Compromise of 1850 , which led to a brief truce in the battle over the expansion of slavery .\n",
      "https://en.wikipedia.org/wiki/Franklin_Pierce\n",
      "Leader of us: Franklin Pierce, First Paragraph: Franklin Pierce (November 23, 1804 – October 8, 1869) was the 14th president of the United States , serving from 1853 to 1857. A northern Democrat who believed that the abolitionist movement was a fundamental threat to the nation's unity, he alienated anti-slavery groups by signing the Kansas–Nebraska Act and enforcing the Fugitive Slave Act . Conflict between North and South continued after Pierce's presidency , and, after Abraham Lincoln was elected president in 1860 , the Southern states seceded , resulting in the American Civil War .\n",
      "https://en.wikipedia.org/wiki/James_Buchanan\n",
      "Leader of us: James Buchanan, First Paragraph: James Buchanan Jr. ( / b j uː ˈ k æ n ə n / bew- KAN -ən ; [ 3 ] April 23, 1791 – June 1, 1868) was the 15th president of the United States , serving from 1857 to 1861. Buchanan also served as the secretary of state from 1845 to 1849 and represented Pennsylvania in both houses of the U.S. Congress . He was an advocate for states' rights , particularly regarding slavery , and minimized the role of the federal government preceding the Civil War .\n",
      "https://en.wikipedia.org/wiki/Donald_Trump\n",
      "Leader of us: Donald Trump, First Paragraph: Donald John Trump (born June 14, 1946) is an American politician, media personality, and businessman who served as the 45th president of the United States from 2017 to 2021. A member of the Republican Party , he is the president-elect after winning the 2024 presidential election and is scheduled to be inaugurated as the 47th president on January 20, 2025.\n",
      "https://en.wikipedia.org/wiki/George_H._W._Bush\n",
      "Leader of us: George Bush, First Paragraph: George Herbert Walker Bush [ a ] (June 12, 1924 – November 30, 2018) was an American politician, diplomat, and businessman who served as the 41st president of the United States from 1989 to 1993. A member of the Republican Party , he also served as the 43rd vice president from 1981 to 1989 under Ronald Reagan and previously in various other federal positions . [ 2 ]\n",
      "https://en.wikipedia.org/wiki/Jimmy_Carter\n",
      "Leader of us: Jimmy Carter, First Paragraph: James Earl Carter Jr. (born October 1, 1924) is an American politician and humanitarian who served from 1977 to 1981 as the 39th president of the United States . A member of the Democratic Party , he served from 1963 to 1967 in the Georgia State Senate and from 1971 to 1975 as the 76th governor of Georgia . Carter is the longest-lived president in U.S. history and the first to live to 100 years of age .\n",
      "https://en.wikipedia.org/wiki/Theodore_Roosevelt\n",
      "Leader of us: Theodore Roosevelt, First Paragraph: Theodore  Roosevelt Jr. [ b ] (October 27, 1858 – January 6, 1919), often referred to as Teddy or T. R. , was the 26th president of the United States , serving from 1901 to 1909. He previously was involved in New York politics, including serving as the state's 33rd governor for two years. He was the vice president under President William McKinley for six months in 1901, assuming the presidency after McKinley's assassination . As president, Roosevelt emerged as a leader of the Republican Party and became a driving force for anti-trust and Progressive policies.\n",
      "https://en.wikipedia.org/wiki/Woodrow_Wilson\n",
      "Leader of us: Woodrow Wilson, First Paragraph: Thomas Woodrow Wilson (December 28, 1856 – February 3, 1924) was the 28th president of the United States , serving from 1913 to 1921. He was the only Democrat to serve as president during the Progressive Era when Republicans dominated the presidency and legislative branches . As president, Wilson changed the nation's economic policies and led the United States into World War I . He was the leading architect of the League of Nations , and his stance on foreign policy came to be known as Wilsonianism .\n",
      "https://en.wikipedia.org/wiki/James_A._Garfield\n",
      "Leader of us: James Garfield, First Paragraph: James Abram Garfield (November 19, 1831 – September 19, 1881) was the 20th president of the United States , serving from March 1881 until his assassination in September that year. A preacher, lawyer, and Civil War general, Garfield served nine terms in the United States House of Representatives and is the only sitting member of the House to be elected president. Before his candidacy for the presidency, he had been elected to the U.S. Senate by the Ohio General Assembly —a position he declined when he became president-elect .\n",
      "https://en.wikipedia.org/wiki/Ulysses_S._Grant\n",
      "Leader of us: Ulysses Grant, First Paragraph: Ulysses S. Grant (born Hiram Ulysses Grant ; [ a ] April 27, 1822 – July 23, 1885) was the 18th president of the United States , serving from 1869 to 1877. As commanding general , Grant led the Union Army to victory in the American Civil War in 1865.\n",
      "https://en.wikipedia.org/wiki/William_McKinley\n",
      "Leader of us: William McKinley, First Paragraph: William McKinley (January 29, 1843 – September 14, 1901) was the 25th president of the United States , serving from 1897 until his assassination in 1901. A member of the Republican Party , he led a realignment that made Republicans largely dominant in the industrial states and nationwide for decades. He presided over victory in the Spanish–American War of 1898; gained control of Hawaii, Puerto Rico, Guam, and the Philippines; restored prosperity after a deep depression; rejected the inflationary monetary policy of free silver , keeping the nation on the gold standard ; and raised protective tariffs .\n",
      "https://en.wikipedia.org/wiki/Grover_Cleveland\n",
      "Leader of us: Stephen Cleveland, First Paragraph: Stephen Grover Cleveland (March 18, 1837 – June 24, 1908) was an American politician and lawyer who served as the 22nd and 24th president of the United States from 1885 to 1889 and again from 1893 to 1897. He was the first Democrat to win the presidency following the end of the Civil War and was the first of only two presidents to be elected to non-consecutive terms in office. [ b ]\n",
      "https://en.wikipedia.org/wiki/Herbert_Hoover\n",
      "Leader of us: Herbert Hoover, First Paragraph: Herbert Clark Hoover (August 10, 1874 – October 20, 1964) was the 31st president of the United States , serving from 1929 to 1933. A wealthy mining engineer before his presidency, Hoover led the wartime Commission for Relief in Belgium and was the director of the U.S. Food Administration , followed by post-war relief of Europe. A member of the Republican Party , he served as the U.S. Secretary of Commerce from 1921 to 1928 before being elected president in 1928 . His presidency was dominated by the Great Depression , and his policies and methods to combat it were seen as lackluster. Amid his unpopularity, he decisively lost reelection to Franklin D. Roosevelt in 1932 .\n",
      "https://en.wikipedia.org/wiki/Warren_G._Harding\n",
      "Leader of us: Warren Harding, First Paragraph: Warren Gamaliel Harding (November 2, 1865 – August 2, 1923) was the 29th president of the United States , serving from 1921 until his death in 1923. A member of the Republican Party , he was one of the most popular sitting U.S. presidents while in office. After his death, a number of scandals were exposed, including Teapot Dome , as well as an extramarital affair with Nan Britton , which tarnished his reputation.\n",
      "https://en.wikipedia.org/wiki/Chester_A._Arthur\n",
      "Leader of us: Chester Arthur, First Paragraph: Chester Alan Arthur (October 5, 1829 [ b ] – November 18, 1886) was the 21st president of the United States , serving from 1881 to 1885. He was a Republican lawyer from New York who previously served as the 20th vice president under President James A. Garfield . Assuming the presidency after Garfield's assassination , Arthur's presidency saw the largest expansion of the U.S. Navy , the end of the so-called \" spoils system \", and the implementation of harsher restrictions for migrants entering from abroad.\n",
      "https://en.wikipedia.org/wiki/William_Howard_Taft\n",
      "Leader of us: William Taft, First Paragraph: Defunct\n",
      "https://en.wikipedia.org/wiki/Benjamin_Harrison\n",
      "Leader of us: Benjamin Harrison, First Paragraph: Benjamin Harrison (August 20, 1833 – March 13, 1901) was the 23rd president of the United States , serving from 1889 to 1893. He was a member of the Harrison family of Virginia —a grandson of the ninth president, William Henry Harrison , and a great-grandson of Benjamin Harrison V , a Founding Father . A Union Army veteran and a Republican, he defeated incumbent Grover Cleveland to win the presidency in 1888; however, was defeated for a second term by Cleveland in 1892.\n",
      "https://en.wikipedia.org/wiki/Rutherford_B._Hayes\n",
      "Leader of us: Rutherford Hayes, First Paragraph: Rutherford Birchard Hayes ( / ˈ r ʌ ð ər f ər d / ⓘ ; October 4, 1822 – January 17, 1893) was the 19th president of the United States , serving from 1877 to 1881. A staunch abolitionist from Ohio , he was also a brevet major general for the Union army during the American Civil War .\n",
      "https://en.wikipedia.org/wiki/Calvin_Coolidge\n",
      "Leader of us: John Coolidge, First Paragraph: Calvin Coolidge (born John Calvin Coolidge Jr. [ 1 ] / ˈ k uː l ɪ dʒ / KOOL -ij ; July 4, 1872 – January 5, 1933) was the 30th president of the United States , serving from 1923 to 1929. A Republican lawyer from Massachusetts , he previously served as the 29th vice president from 1921 to 1923 and as the 48th governor of Massachusetts from 1919 to 1921. Elected vice president in 1920 , he succeeded to the presidency upon the sudden death of President Warren G. Harding in August 1923. Elected in his own right in 1924 , Coolidge gained a reputation as a small-government conservative with a taciturn personality and dry sense of humor that earned him the nickname \"Silent Cal\". His widespread popularity enabled him to run for a second full term, but Coolidge chose not to run again in 1928 , remarking that ten years as president would be \"longer than any other man has had it—too long!\" [ b ]\n",
      "https://nl.wikipedia.org/wiki/Guy_Verhofstadt\n",
      "Leader of be: Guy Verhofstadt, First Paragraph: Guy Maurice Marie-Louise Verhofstadt [ 5 ] ( uitspraak ⓘ ) ( Dendermonde , 11 april 1953 ) is een Belgisch politicus voor de Open Vlaamse Liberalen en Democraten (Open Vld). Hij was premier van België van 12 juli 1999 tot 20 maart 2008 in drie regeringen. Hij beëindigde zijn actieve politieke carrière in het Europees Parlement , waar hij van 2009 tot 2019 fractieleider van de Alliantie van Liberalen en Democraten voor Europa (ALDE) was. [ 6 ]\n",
      "https://nl.wikipedia.org/wiki/Yves_Leterme\n",
      "Leader of be: Yves Leterme, First Paragraph: Yves Camille Désiré Leterme ( Wervik , 6 oktober 1960 ) is een Belgisch politicus . Hij was onder meer Vlaams minister-president en premier van België . Hij was lang boegbeeld van de CD&V en boegbeeld van het toenmalige kartel CD&V/N-VA .\n",
      "https://nl.wikipedia.org/wiki/Herman_Van_Rompuy\n",
      "Leader of be: Herman None, First Paragraph: Herman Achille graaf Van Rompuy ( Etterbeek , 31 oktober 1947 ) is een Belgische politicus van de christendemocratische partij CD&V . Hij was tussen 30 december 2008 en 25 november 2009 de premier van België en van 1 januari 2010 [ 2 ] tot en met 30 november 2014 voorzitter van de Europese Raad , in de media vaak incorrect ' president van Europa ' genoemd. [ 3 ] Op 19 november 2009 werd bekendgemaakt dat hij was verkozen tot de eerste permanente voorzitter en op 1 maart 2012 werd Van Rompuy met algemene stemmen door de 27 staatshoofden en regeringsleiders van de EU voor een tweede mandaat benoemd. Na deze termijn was hij niet meer herkiesbaar.\n",
      "https://nl.wikipedia.org/wiki/L%C3%A9on_Delacroix\n",
      "Leader of be: Léon Delacroix, First Paragraph: Léon Fréderic Gustave Delacroix ( Sint-Joost-ten-Node , 27 december 1867 – Baden-Baden , 15 oktober 1929 ) was een Belgisch katholiek politicus . De Léon Delacroixstraat in Anderlecht en het metrostation Delacroix werden naar hem vernoemd.\n",
      "https://nl.wikipedia.org/wiki/Henri_Carton_de_Wiart\n",
      "Leader of be: Henry Carton, First Paragraph: Henri Victor Marie Ghislain graaf Carton de Wiart ( Brussel , 31 januari 1869 – Ukkel , 6 mei 1951 ) (ook als \"Henry\" vermeld) was een Belgische politicus . Hij was Eerste Minister van 1920 tot 1921.\n",
      "https://nl.wikipedia.org/wiki/Georges_Theunis\n",
      "Leader of be: Georges Theunis, First Paragraph: Georges Emile Pierre Léonard Theunis ( Montegnée , 28 februari 1873 – Brussel , 4 januari 1966 ) was een Belgisch industrieel en politicus van de Katholieke Partij .\n",
      "https://nl.wikipedia.org/wiki/Aloys_Van_de_Vyvere\n",
      "Leader of be: Aloïs Van de Vyvere, First Paragraph: Aloys Jean Maria Joseph Van de Vyvere ( Tielt , 8 juni 1871 - Parijs , 22 oktober 1961 ) was een Belgisch katholiek volksvertegenwoordiger en minister .\n",
      "https://nl.wikipedia.org/wiki/Prosper_Poullet\n",
      "Leader of be: Prosper Poullet, First Paragraph: Prosper Antoine Marie Joseph burggraaf Poullet ( Leuven , 5 maart 1868 - 3 december 1937 ) was een Belgisch politicus .\n",
      "https://nl.wikipedia.org/wiki/Henri_Jaspar\n",
      "Leader of be: Henri Jaspar, First Paragraph: Henri Jaspar ( Schaarbeek , 28 juli 1870 - Sint-Gillis , 15 februari 1939 [ 1 ] ) was een Belgisch katholiek politicus , die twee keer premier van België was.\n",
      "https://nl.wikipedia.org/wiki/Jules_Renkin\n",
      "Leader of be: Jules None, First Paragraph: Jules Laurent Jean Louis Renkin ( Elsene , 3 december 1862 - Brussel , 15 juli 1934 ) was een Belgisch katholiek politicus .\n",
      "https://nl.wikipedia.org/wiki/Paul_van_Zeeland\n",
      "Leader of be: Paul Van Zeeland, First Paragraph: Paul Guillaume van Zeeland ( Zinnik , 11 november 1893 – Brussel , 22 september 1973 ) was een Belgisch advocaat, econoom, katholiek politicus en staatsman.\n",
      "https://nl.wikipedia.org/wiki/Achiel_Van_Acker\n",
      "Leader of be: Achille Van Acker, First Paragraph: Achille Honoré (Achiel) Van Acker uitspraak ⓘ ( Brugge , 8 april 1898 – aldaar, 10 juli 1975 ) was een Belgisch socialistisch politicus. Hij was viermaal premier van België .\n",
      "https://nl.wikipedia.org/wiki/Camille_Huysmans\n",
      "Leader of be: Camille Huysmans, First Paragraph: Jean Joseph Camille Huysmans (ook Kamiel Huysmans genoemd) ( Bilzen , 26 mei 1871 - Antwerpen , 25 februari 1968 ), geboren als Camiel Hansen , was een Belgisch journalist en socialistisch politicus voor de BWP / BSP .\n",
      "https://nl.wikipedia.org/wiki/Gaston_Eyskens\n",
      "Leader of be: Gaston Eyskens, First Paragraph: Gaston François Marie burggraaf Eyskens ( Lier , 1 april 1905 – Leuven , 3 januari 1988 ) was drie maal christendemocratisch eerste minister van België in de periode tussen 1949 en 1973 . Hij was de eerste Belgische regeringsleider die geboren was in de 20e eeuw .\n",
      "https://nl.wikipedia.org/wiki/Leo_Tindemans\n",
      "Leader of be: Leo Tindemans, First Paragraph: Leonard Clemence (Leo) Tindemans ( Zwijndrecht , 16 april 1922 – Edegem , 26 december 2014 ) was een Belgisch politicus voor de CVP en minister van staat . Hij was eerste minister van twee regeringen in België (periode van 25 april 1974 tot 20 oktober 1978 ) en behaalde het grootste aantal voorkeurstemmen in de Belgische geschiedenis bij de Europese verkiezingen van 1979. Daardoor kreeg hij de bijnaam \"de man van 1 miljoen stemmen\". [ 1 ]\n",
      "https://nl.wikipedia.org/wiki/Elio_Di_Rupo\n",
      "Leader of be: Elio Di Rupo, First Paragraph: Elio Di Rupo ( Morlanwelz , 18 juli 1951 ) is een Belgische politicus voor de Parti Socialiste (PS). Van 6 december 2011 tot 11 oktober 2014 was hij premier van België en werd meermaals minister en minister-president van de Waalse Regering .\n",
      "https://nl.wikipedia.org/wiki/Jean-Luc_Dehaene\n",
      "Leader of be: Jean-Luc Dehaene, First Paragraph: Jean Luc Joseph Marie Dehaene [ 5 ] uitspraak ⓘ ( Montpellier , 7 augustus 1940 – Quimper , 15 mei 2014 ) was van 1992 tot 1999 premier van België . Hij was lid van de toenmalige CVP (nu CD&V ). Onder zijn regering werd België een volwaardige federale staat. Dehaene leidde twee coalitieregeringen met de socialisten en bekleedde verschillende ministerposten voor hij in 1992 eerste minister werd. Van 2000 tot 2007 was hij burgemeester van Vilvoorde . In 2002 werd hij voorgedragen als vicevoorzitter van de Europese Conventie .\n",
      "https://nl.wikipedia.org/wiki/Frans_Schollaert\n",
      "Leader of be: Frans Schollaert, First Paragraph: François Victor Marie Ghislain (Frans) Schollaert ( Wilsele , 19 augustus 1851 - Sainte-Adresse , 25 juni 1917 ) [ 1 ] was een Belgisch katholiek politicus .\n",
      "https://nl.wikipedia.org/wiki/Pieter_de_Decker\n",
      "Leader of be: Pieter Decker, First Paragraph: Pierre Jacques François (Pieter) de Decker ( Zele , 25 januari 1812 - Schaarbeek , 4 januari 1891 ) was een Belgisch politicus en auteur .\n",
      "https://nl.wikipedia.org/wiki/Paul-Henri_Spaak\n",
      "Leader of be: Paul-Henri Spaak, First Paragraph: Paul-Henri Charles Spaak uitspraak ⓘ ( Schaarbeek , 25 januari 1899 - Eigenbrakel , 31 juli 1972 ) was een Belgisch socialistisch politicus en regeringsleider.\n",
      "https://nl.wikipedia.org/wiki/Auguste_Beernaert\n",
      "Leader of be: Auguste Beernaert, First Paragraph: Auguste Marie François (August) Beernaert ( Oostende , 26 juli 1829 – Luzern , 6 oktober 1912 ) was een Belgisch katholiek politicus en mensenrechtenactivist . In 1909 won hij de Nobelprijs voor de Vrede .\n",
      "https://nl.wikipedia.org/wiki/Th%C3%A9o_Lef%C3%A8vre\n",
      "Leader of be: Théodore Lefèvre, First Paragraph: Théodore Joseph Albéric Marie Lefèvre ( Gent , 17 januari 1914 – Sint-Lambrechts-Woluwe , 18 september 1973 ) was een Belgisch politicus . Hij was premier van België van 1961 tot 1965, aan het hoofd van de regering Lefèvre-Spaak .\n",
      "https://nl.wikipedia.org/wiki/Paul_Vanden_Boeynants\n",
      "Leader of be: Paul None, First Paragraph: Paul Emile François Henri Vanden Boeynants ( Vorst , 22 mei 1919 – Aalst , 8 januari 2001 ), in de media en door hemzelf bijgenaamd 'VDB', was een Belgisch volksvertegenwoordiger , minister en premier . Als ondernemer was hij actief in de vleesindustrie.\n",
      "https://nl.wikipedia.org/wiki/Etienne_de_Gerlache\n",
      "Leader of be: Étienne Gerlache, First Paragraph: Etienne Constantin baron de Gerlache ( Biourge , 25 december 1785 - Elsene , 10 februari 1871 ) was advocaat , politicus en magistraat in het Verenigd Koninkrijk der Nederlanden en in België .\n",
      "https://nl.wikipedia.org/wiki/Wilfried_Martens\n",
      "Leader of be: Wilfried Martens, First Paragraph: Wilfried Achiel Emma Martens uitspraak ⓘ ( Sleidinge , 19 april 1936 – Lokeren , 9 oktober 2013 ) was een Vlaams-Belgische politicus voor de CD&V (vroeger CVP) en was van april 1979 tot maart 1992 (met een korte onderbreking) eerste minister van België .\n",
      "https://nl.wikipedia.org/wiki/Mark_Eyskens\n",
      "Leader of be: Mark Eyskens, First Paragraph: Marc Maria Frans burggraaf Eyskens ( uitspraak ⓘ ) ( Leuven , 29 april 1933 ) is een Belgische emeritus hoogleraar , econoom , politicus en essayist . Van april tot december 1981 was hij premier van België .\n",
      "https://nl.wikipedia.org/wiki/Pierre_Harmel\n",
      "Leader of be: Pierre Harmel, First Paragraph: Pierre Charles José Marie graaf Harmel ( Ukkel , 16 maart 1911 – Brussel , 15 november 2009 ) was een Belgisch advocaat , hoogleraar en christendemocratisch staatsman .\n",
      "https://nl.wikipedia.org/wiki/Hubert_Pierlot\n",
      "Leader of be: Hubert Pierlot, First Paragraph: Hubert Marie Eugène Pierlot ( Cugnon , 23 december 1883 – Ukkel , 13 december 1963 ) was de Belgische eerste minister van 1939 tot 1945 .\n",
      "https://nl.wikipedia.org/wiki/Jean-Baptiste_Nothomb\n",
      "Leader of be: Jean-Baptiste Nothomb, First Paragraph: Jean Baptiste Nothomb ( Messancy , 3 juli 1805 – Berlijn , 16 september 1881 ) was een Belgisch staatsman en diplomaat die een belangrijke rol speelde bij het tot stand komen van de Belgische staat. Zo was hij een van de opstellers van de Belgische grondwet en onderhandelde hij over de verdragen die de Belgische onafhankelijkheid garandeerden.\n",
      "https://nl.wikipedia.org/wiki/Edmond_Leburton\n",
      "Leader of be: Edmond None, First Paragraph: Edmond Jules Isidore Leburton ( Lantremange , 18 april 1915 – Borgworm , 15 juni 1997 ) was een Belgisch politicus voor de PSB .\n",
      "https://nl.wikipedia.org/wiki/Jean_Duvieusart\n",
      "Leader of be: Jean None, First Paragraph: Jean Pierre Armand Ghislain Marie Duvieusart ( Frasnes-lez-Gosselies , 10 april 1900 – Couillet , 11 oktober 1977 ) was een Belgisch advocaat en katholiek politicus .\n",
      "https://nl.wikipedia.org/wiki/Joseph_Lebeau\n",
      "Leader of be: Joseph Lebeau, First Paragraph: Jean Louis Joseph Lebeau ( Hoei , 2 januari 1794 – aldaar, 19 maart 1865 ) was lid van het Nationaal Congres , Belgisch liberaal volksvertegenwoordiger en eerste minister .\n",
      "https://nl.wikipedia.org/wiki/Charles_Rogier\n",
      "Leader of be: Charles Rogier, First Paragraph: Charles Latour Rogier (Nederlands, verouderd: Karel Rogier; Saint-Quentin 17 augustus 1800 – Sint-Joost-ten-Node , 27 mei 1885 ) was een Belgisch politicus en een van de grondleggers van de Belgische staat.\n",
      "https://nl.wikipedia.org/wiki/Barth%C3%A9lemy_de_Theux_de_Meylandt\n",
      "Leader of be: Barthélemy None, First Paragraph: Barthélemy-Théodore graaf de Theux de Meylandt ( Sint-Truiden , 26 februari 1794 – Heusden , 21 augustus 1874 ) was een Belgisch staatsman, eerste minister en lid van het Nationaal Congres .\n",
      "https://nl.wikipedia.org/wiki/Felix_de_M%C3%BBelenaere\n",
      "Leader of be: Felix None, First Paragraph: Felix Amandus de Mûelenaere ( Pittem , 9 april 1793 – aldaar, 5 augustus 1862 ) was een Belgisch unionistisch politicus .\n",
      "https://nl.wikipedia.org/wiki/Alexander_De_Croo\n",
      "Leader of be: Alexander De Croo, First Paragraph: Alexander Francis Herman De Croo ( Vilvoorde , [ 3 ] 3 november 1975 ) is een Belgisch politicus voor Open Vld . [ 4 ] Sedert 1 oktober 2020 is De Croo premier van België van de zogenaamde Vivaldicoalitie . Hij volgde Sophie Wilmès op en is de eerste Vlaamse premier in iets minder dan 10 jaar.\n",
      "https://nl.wikipedia.org/wiki/Henri_de_Brouck%C3%A8re\n",
      "Leader of be: Henri de Brouckère, First Paragraph: Henri Ghislain Joseph Marie Hyacinthe de Brouckère ( Brugge , 25 januari 1801 - Brussel , 25 januari 1891 ) was een Belgisch liberaal politicus . Hij was onder meer eerste minister, volksvertegenwoordiger en lid van het Belgisch Nationaal Congres .\n",
      "https://nl.wikipedia.org/wiki/Albert_Goblet_d%27Alviella\n",
      "Leader of be: Albert None, First Paragraph: Albert Joseph Goblet , sinds 1838 graaf Goblet d'Alviella ( Doornik , 26 mei 1790 – Brussel , 5 mei 1873 ) was een Belgisch politicus en officier.\n",
      "https://nl.wikipedia.org/wiki/Sylvain_Van_de_Weyer\n",
      "Leader of be: Sylvain Weyer, First Paragraph: Jean-Sylvain Van de Weyer ( Leuven , 19 januari 1802 – Londen , 23 mei 1874 ), beter bekend als Sylvain Van de Weyer , was een van de grondleggers van de Belgische Staat , en later ook eerste minister .\n",
      "https://nl.wikipedia.org/wiki/Jules_de_Burlet\n",
      "Leader of be: Jules Burlet, First Paragraph: Jules Philippe Marie de Burlet ( Elsene , 10 april 1844 - Nijvel , 1 maart 1897 ) was een Belgisch katholiek politicus .\n",
      "https://nl.wikipedia.org/wiki/Paul-Emile_Janson\n",
      "Leader of be: Paul-Émile None, First Paragraph: Paul-Emile Janson ( Brussel , 30 mei 1872 - concentratiekamp Buchenwald , 3 maart 1944 ) was de Belgische eerste minister van november 1937 tot mei 1938.\n",
      "https://nl.wikipedia.org/wiki/Jules_Malou\n",
      "Leader of be: Jules Malou, First Paragraph: Jules Edouard François-Xavier Malou ( Ieper , 19 oktober 1810 - Sint-Lambrechts-Woluwe , 11 juli 1886 ) was een Belgisch politicus . Hij was onder meer leider van de Katholieke Partij , volksvertegenwoordiger , senator en eerste minister .\n",
      "https://nl.wikipedia.org/wiki/Charles_de_Broqueville\n",
      "Leader of be: Charles Broqueville, First Paragraph: Charles Marie Pierre Albert graaf de Broqueville ( Postel ( Mol ), 4 december 1860 - Brussel , 5 september 1940 ) was de Belgische kabinetsleider [ 1 ] tijdens de Eerste Wereldoorlog (van 17 juni 1911 tot 1 juni 1918 ) en eerste minister van 22 oktober 1932 tot 20 november 1934 . Hij was lid van de Katholieke Partij .\n",
      "https://nl.wikipedia.org/wiki/Joseph_Pholien\n",
      "Leader of be: Joseph Pholien, First Paragraph: Joseph Clovis Louis Marie Emmanuel Pholien ( Luik , 28 december 1884 – Brussel , 4 januari 1968 ) was een Belgisch politicus van de PSC .\n",
      "https://nl.wikipedia.org/wiki/Jean_Van_Houtte\n",
      "Leader of be: Jean Van Houtte, First Paragraph: Jean Maria Josephus baron Van Houtte ( Gent , 17 maart 1907 – Brussel , 23 mei 1991 ) was een Belgisch advocaat , hoogleraar en politicus van de CVP .\n",
      "https://nl.wikipedia.org/wiki/Walth%C3%A8re_Fr%C3%A8re-Orban\n",
      "Leader of be: Walthère Frère, First Paragraph: Hubert Joseph Walthère Frère-Orban ( Luik , 24 april 1812 – Brussel , 2 januari 1896 ) was een Belgisch liberaal politicus die zijn stempel heeft gedrukt op de eerste halve eeuw onafhankelijkheid van België.\n",
      "https://nl.wikipedia.org/wiki/Gerard_Cooreman\n",
      "Leader of be: Gérard Cooreman, First Paragraph: Gérard François Marie (Gerard) Cooreman ( Gent , 25 maart 1852 – Brussel , 2 december 1926 ) was een Belgisch advocaat en politicus voor de katholieke Partij .\n",
      "https://nl.wikipedia.org/wiki/Jules_Vandenpeereboom\n",
      "Leader of be: Jules Vandenpeereboom, First Paragraph: Jules Pierre Henri François Xavier Vandenpeereboom ( Kortrijk , 18 maart 1843 - Anderlecht , 6 maart 1917 ) was een Belgisch katholiek politicus .\n",
      "https://nl.wikipedia.org/wiki/Paul_de_Smet_de_Naeyer\n",
      "Leader of be: Paul None, First Paragraph: Paul Joseph graaf de Smet de Naeyer ( Gent , 13 mei 1843 – Brussel , 9 september 1913 ) was een Belgisch katholiek politicus .\n",
      "https://nl.wikipedia.org/wiki/Jules_de_Trooz\n",
      "Leader of be: Jules Trooz, First Paragraph: Baron Jules Henri Ghislain Marie de Trooz ( Leuven , 21 februari 1857 - Brussel , 31 december 1907 ) was een Belgisch katholiek politicus .\n",
      "https://nl.wikipedia.org/wiki/Jules_Joseph_d%27Anethan\n",
      "Leader of be: Jules d'Anethan, First Paragraph: Jules Joseph d'Anethan ( Brussel , 23 april 1803 - Schaarbeek , 8 oktober 1888 ) was een Belgisch politicus . Hij was premier van 2 juli 1870 tot 7 december 1871.\n",
      "https://nl.wikipedia.org/wiki/Charles_Michel\n",
      "Leader of be: Charles Michel, First Paragraph: Charles Yves Jean Ghislaine Michel ( Namen , 21 december 1975 ) is een Belgisch politicus voor de partij Mouvement Réformateur (MR). Van 11 oktober 2014 tot 27 oktober 2019 was hij premier van België in de regeringen Michel I en Michel II . Op 2 juli 2019 werd hij verkozen als voorzitter van de Europese Raad , in opvolging van Donald Tusk , een functie die hij sinds 1 december 2019 uitoefent.\n",
      "https://nl.wikipedia.org/wiki/Sophie_Wilm%C3%A8s\n",
      "Leader of be: Sophie Wilmès, First Paragraph: Sophie Wilmès ( Elsene , 15 januari 1975 ) is een Belgisch politica van de MR . Van 27 oktober 2019 tot 1 oktober 2020 was ze de eerste vrouwelijke premier van België. [ 1 ] Vanaf 1 oktober 2020 was ze vicepremier en minister van Buitenlandse Zaken en Buitenlandse Handel. Om familiale redenen legde ze op 21 april 2022 haar bevoegdheden als minister tijdelijk neer. Op 15 juli 2022 legde ze haar functie definitief neer.\n",
      "Cookie expired. Refreshing cookie and retrying...\n",
      "https://ar.wikipedia.org/wiki/%D9%85%D8%AD%D9%85%D8%AF_%D8%A7%D9%84%D8%B3%D8%A7%D8%AF%D8%B3_%D8%A8%D9%86_%D8%A7%D9%84%D8%AD%D8%B3%D9%86\n",
      "Leader of ma: Mohammed None, First Paragraph: مُحمد السادس بن الحسن الثاني العلوي (مواليد 21 أغسطس 1963) هو ملك المملكة المغربية منذ عام 1999 والملك الثالث والعشرون للمغرب من سلالة العلويين الفيلاليين ، تولى الحكم خلفًا لوالده الملك الحسن الثاني بعد وفاته، وبويع ملكًا يوم الجمعة 9 ربيع الثاني سنة 1420 هـ الموافق 23 يوليو 1999 بالقصر الملكي بالرباط .\n",
      "https://ar.wikipedia.org/wiki/%D8%A7%D9%84%D8%AD%D8%B3%D9%86_%D8%A7%D9%84%D8%AB%D8%A7%D9%86%D9%8A_%D8%A8%D9%86_%D9%85%D8%AD%D9%85%D8%AF\n",
      "Leader of ma: Hassan None, First Paragraph: هذه نسخة متحقق منها من هذه الصفحة\n",
      "https://ar.wikipedia.org/wiki/%D9%85%D8%AD%D9%85%D8%AF_%D8%A7%D9%84%D8%AE%D8%A7%D9%85%D8%B3_%D8%A8%D9%86_%D9%8A%D9%88%D8%B3%D9%81\n",
      "Leader of ma: Mohammed None, First Paragraph: محمد الخامس بن يوسف بن الحسن بن محمد بن عبد الرحمن بن هشام بن محمد بن عبد الله بن إسماعيل بن إسماعيل بن الشريف بن علي العلوي وُلد ( 1327 هـ / 10 أغسطس 1909م بالقصر السلطاني بفاس ) [ 1 ] وتوفي ( 1381 هـ / 26 فبراير 1961م بالرباط ) خَلَف والده السلطان مولاي يوسف الذي توفي بُكرة يوم الخميس 22 جمادى الأولى سنة 1346 هـ موافق 17 نوفمبر سنة 1927م [ 2 ] فبويع ابنه سيدي محمد سلطانا للمغرب في اليوم الموالي بعد صلاة الجمعة 23 جمادى الأولى سنة 1346 هـ موافق 18 نوفمبر سنة 1927م في القصر السلطاني بفاس [ 3 ] ولم يزل سلطان المغرب إلى سنة 1957م ، قضى منها المنفى بين ( 1953 - 1955 )، ثم اتخذ لقب الملك سنة 1957م ولم يزل ملكا إلى وفاته سنة 1961م ، ساند السلطان محمد الخامس نضالات الحركة الوطنية المغربية المطالبة بتحقيق الاستقلال ، الشيء الذي دفعه إلى الاصطدام بسلطات الحماية . وكانت النتيجة قيام سلطات الحماية بنفيه إلى مدغشقر . وعلى إثر ذلك اندلعت مظاهرات مطالبة بعودته إلى وطنه. وأمام اشتداد حدة المظاهرات، قبلت السلطات الفرنسية بإرجاع السلطان إلى عرشه يوم 16 نوفمبر 1955 . وبعد بضعة شهور تم إعلان استقلال المغرب . كان الملك محمد الخامس يكنى: أبا عبد الله. [ 1 ] [ 4 ]\n",
      "https://ar.wikipedia.org/wiki/%D8%A7%D9%84%D9%82%D8%A7%D8%A6%D9%85_%D8%A8%D8%A3%D9%85%D8%B1_%D8%A7%D9%84%D9%84%D9%87_%D8%A7%D9%84%D8%B3%D8%B9%D8%AF%D9%8A\n",
      "Leader of ma: Mohammed None, First Paragraph: هذه نسخة متحقق منها من هذه الصفحة\n",
      "Cookie expired. Refreshing cookie and retrying...\n",
      "https://ru.wikipedia.org/wiki/%D0%9F%D1%83%D1%82%D0%B8%D0%BD,_%D0%92%D0%BB%D0%B0%D0%B4%D0%B8%D0%BC%D0%B8%D1%80_%D0%92%D0%BB%D0%B0%D0%B4%D0%B8%D0%BC%D0%B8%D1%80%D0%BE%D0%B2%D0%B8%D1%87\n",
      "Leader of ru: Vladimir Putin, First Paragraph: Влади́мир Влади́мирович Пу́тин (род. 7 октября 1952 , Ленинград , СССР ) — российский государственный и политический деятель. Действующий президент Российской Федерации , председатель Государственного Совета Российской Федерации и Совета Безопасности Российской Федерации ; Верховный главнокомандующий Вооружёнными силами Российской Федерации с 7 мая 2012 года. Ранее занимал должность президента с 7 мая 2000 по 7 мая 2008 года, также в 1999—2000 и 2008—2012 годах занимал должность председателя правительства Российской Федерации . Фактически руководит Россией, согласно разным оценкам, с 1999 [ 7 ] или с 2000 года [ 8 ] . В сентябре 2017 года Путин стал самым долго правящим российским лидером после Иосифа Сталина [ 9 ] [ 10 ] , а после окончания пятого президентского срока станет таковым со времён Екатерины II [ 11 ] .\n",
      "https://ru.wikipedia.org/wiki/%D0%9C%D0%B5%D0%B4%D0%B2%D0%B5%D0%B4%D0%B5%D0%B2,_%D0%94%D0%BC%D0%B8%D1%82%D1%80%D0%B8%D0%B9_%D0%90%D0%BD%D0%B0%D1%82%D0%BE%D0%BB%D1%8C%D0%B5%D0%B2%D0%B8%D1%87\n",
      "Leader of ru: Dmitry Medvedev, First Paragraph: иностранные:\n",
      "https://ru.wikipedia.org/wiki/%D0%95%D0%BB%D1%8C%D1%86%D0%B8%D0%BD,_%D0%91%D0%BE%D1%80%D0%B8%D1%81_%D0%9D%D0%B8%D0%BA%D0%BE%D0%BB%D0%B0%D0%B5%D0%B2%D0%B8%D1%87\n",
      "Leader of ru: Boris Yeltsin, First Paragraph: Бори́с Никола́евич Е́льцин ( 1 февраля 1931 ( 1931-02-01 ) , Бутка , Буткинский район , Уральская область , РСФСР , СССР — 23 апреля 2007 , Москва , Россия ) — советский и российский партийный , государственный и политический деятель, первый всенародно избранный Президент Российской Федерации ( 1991—1999 ) ➤ ; в ноябре 1991 — июне 1992 года одновременно возглавлял правительство . С марта по май 1992 года исполнял обязанности министра обороны Российской Федерации .\n",
      "Cookie expired. Refreshing cookie and retrying...\n",
      "https://fr.wikipedia.org/wiki/Fran%C3%A7ois_Hollande\n",
      "Leader of fr: François Hollande, First Paragraph: Pour les articles homonymes, voir Hollande (homonymie) .\n",
      "https://fr.wikipedia.org/wiki/Nicolas_Sarkozy\n",
      "Leader of fr: Nicolas Sarkozy, First Paragraph: « Sarkozy » redirige ici. Pour les autres significations, voir Sarkozy (homonymie) , Nagy et Bocșa .\n",
      "https://fr.wikipedia.org/wiki/Fran%C3%A7ois_Mitterrand\n",
      "Leader of fr: François Mitterrand, First Paragraph: « Mitterrand » redirige ici.  Pour les autres significations, voir Mitterrand (homonymie) .\n",
      "https://fr.wikipedia.org/wiki/Charles_de_Gaulle\n",
      "Leader of fr: Charles de Gaulle, First Paragraph: Pour les articles homonymes, voir Charles de Gaulle (homonymie) et Gaulle .\n",
      "https://fr.wikipedia.org/wiki/Jacques_Chirac\n",
      "Leader of fr: Jacques Chirac, First Paragraph: Pour les articles homonymes, voir Chirac .\n",
      "https://fr.wikipedia.org/wiki/Val%C3%A9ry_Giscard_d%27Estaing\n",
      "Leader of fr: Valéry Giscard d'Estaing, First Paragraph: « Giscard » et « VGE » redirigent ici. Pour les autres significations, voir Giscard (homonymie) et VGE (homonymie) .\n",
      "https://fr.wikipedia.org/wiki/Georges_Pompidou\n",
      "Leader of fr: Georges Pompidou, First Paragraph: Pour les articles homonymes, voir Pompidou .\n",
      "https://fr.wikipedia.org/wiki/Adolphe_Thiers\n",
      "Leader of fr: Adolphe Thiers, First Paragraph: Pour les articles homonymes, voir Thiers (homonymie) .\n",
      "https://fr.wikipedia.org/wiki/Napol%C3%A9on_III\n",
      "Leader of fr: Napoléon Bonaparte, First Paragraph: Pour les articles homonymes, voir Louis-Napoléon Bonaparte (homonymie) , Napoléon (homonymie) et Bonaparte (homonymie) .\n",
      "https://fr.wikipedia.org/wiki/Paul_Doumer\n",
      "Leader of fr: Paul Doumer, First Paragraph: Vous lisez un « article de qualité » labellisé en 2019.\n",
      "https://fr.wikipedia.org/wiki/Alain_Poher\n",
      "Leader of fr: Alain Poher, First Paragraph: Cet article possède un paronyme , voir Alain Bauer .\n",
      "https://fr.wikipedia.org/wiki/Albert_Lebrun\n",
      "Leader of fr: Albert Lebrun, First Paragraph: Pour les articles homonymes, voir Lebrun .\n",
      "https://fr.wikipedia.org/wiki/Ren%C3%A9_Coty\n",
      "Leader of fr: René Coty, First Paragraph: Pour les articles homonymes, voir Coty .\n",
      "https://fr.wikipedia.org/wiki/Vincent_Auriol\n",
      "Leader of fr: Vincent Auriol, First Paragraph: Pour les articles homonymes, voir Auriol .\n",
      "https://fr.wikipedia.org/wiki/Patrice_de_Mac_Mahon\n",
      "Leader of fr: Patrice de Mac Mahon, First Paragraph: Pour les autres membres de la famille, voir Famille de Mac Mahon .\n",
      "https://fr.wikipedia.org/wiki/%C3%89mile_Loubet\n",
      "Leader of fr: Émile Loubet, First Paragraph: Pour les articles homonymes, voir Loubet .\n",
      "https://fr.wikipedia.org/wiki/Raymond_Poincar%C3%A9\n",
      "Leader of fr: Raymond Poincaré, First Paragraph: Pour les articles homonymes, voir Poincaré .\n",
      "https://fr.wikipedia.org/wiki/Sadi_Carnot_(homme_d%27%C3%89tat)\n",
      "Leader of fr: Marie Carnot, First Paragraph: Pour les articles homonymes, voir Sadi Carnot , Famille Carnot et Carnot .\n",
      "https://fr.wikipedia.org/wiki/Alexandre_Millerand\n",
      "Leader of fr: Alexandre Millerand, First Paragraph: Vous lisez un « article de qualité » labellisé en 2019.\n",
      "https://fr.wikipedia.org/wiki/Gaston_Doumergue\n",
      "Leader of fr: Gaston Doumergue, First Paragraph: Pour les articles homonymes, voir Doumergue .\n",
      "https://fr.wikipedia.org/wiki/F%C3%A9lix_Faure\n",
      "Leader of fr: Félix Faure, First Paragraph: Pour les articles homonymes, voir Alfred Faure (homme politique) et Félix Faure (1780-1859) .\n",
      "https://fr.wikipedia.org/wiki/Jules_Gr%C3%A9vy\n",
      "Leader of fr: Jules Grévy, First Paragraph: Pour les articles homonymes, voir Grévy .\n",
      "https://fr.wikipedia.org/wiki/Armand_Falli%C3%A8res\n",
      "Leader of fr: Clément Fallières, First Paragraph: Pour les articles homonymes, voir Fallières .\n",
      "https://fr.wikipedia.org/wiki/Paul_Deschanel\n",
      "Leader of fr: Paul Deschanel, First Paragraph: Vous lisez un « article de qualité » labellisé en 2020.\n",
      "https://fr.wikipedia.org/wiki/Georges_Bidault\n",
      "Leader of fr: Georges Bidault, First Paragraph: Ne doit pas être confondu avec Georges Bidault de l'Isle .\n",
      "https://fr.wikipedia.org/wiki/Jean_Casimir-Perier\n",
      "Leader of fr: Jean Casimir-Perier, First Paragraph: Pour les articles homonymes, voir Périer .\n",
      "https://fr.wikipedia.org/wiki/Charles_Dupuy\n",
      "Leader of fr: Charles Dupuy, First Paragraph: Pour les articles homonymes, voir Dupuy .\n",
      "https://fr.wikipedia.org/wiki/Eug%C3%A8ne_Cavaignac\n",
      "Leader of fr: Louis Cavaignac, First Paragraph: Cet article concerne l'homme politique. Pour son petit-fils historien, voir Eugène Cavaignac (historien) .\n",
      "https://fr.wikipedia.org/wiki/Louis_Jules_Trochu\n",
      "Leader of fr: Louis None, First Paragraph: Pour les articles homonymes, voir Trochu .\n",
      "https://fr.wikipedia.org/wiki/Fr%C3%A9d%C3%A9ric_Fran%C3%A7ois-Marsal\n",
      "Leader of fr: Frédéric None, First Paragraph: Frédéric François-Marsal , né le 16 mars 1874 à Paris 8 e ( Seine ) et mort le 20 mai 1958 à Gisors ( Eure ) [ 1 ] , est un homme d'affaires et un homme politique français de la droite républicaine, dont la carrière politique a culminé avec son bref passage à la présidence du Conseil en 1924.\n",
      "https://fr.wikipedia.org/wiki/Emmanuel_Macron\n",
      "Leader of fr: Emmanuel Macron, First Paragraph: Pour les articles homonymes, voir Macron .\n"
     ]
    }
   ],
   "source": [
    "import json\n",
    "leaders_data = get_leaders()\n",
    "with open('leaders.json', 'w') as json_file:\n",
    "    json.dump(leaders_data, json_file, indent=4)\n"
   ]
  },
  {
   "attachments": {},
   "cell_type": "markdown",
   "metadata": {
    "id": "v7uf_kfGCWmM"
   },
   "source": [
    "Make sure the file can be read back. Write the code to read the file. And check the variables are the same."
   ]
  },
  {
   "cell_type": "code",
   "execution_count": 28,
   "metadata": {
    "id": "4VwNjBYyjPzs"
   },
   "outputs": [
    {
     "name": "stdout",
     "output_type": "stream",
     "text": [
      "{'us': {'George Washington': 'George Washington (February 22, 1732\\xa0– December 14 , 1799) was a Founding Father of the United States , military officer, and farmer who served as the first president of the United States from 1789 to 1797. Appointed by the Second Continental Congress as commander of the Continental Army in 1775, Washington led Patriot forces to victory in the American Revolutionary War and then served as president of the Constitutional Convention in 1787, which drafted the current Constitution of the United States . Washington has thus become commonly known as the \" Father of his Country \".', 'Barack Obama': 'Barack Hussein Obama II [ a ] (born August 4, 1961) is an American politician who served as the 44th president of the United States from 2009 to 2017. As a member of the Democratic Party , he was the first African-American president in U.S. history. Obama previously served as a U.S. senator representing Illinois from 2005 to 2008 and as an Illinois state senator from 1997 to 2004.', 'Abraham Lincoln': 'Abraham Lincoln ( / ˈ l ɪ ŋ k ən / LINK -ən ; February 12, 1809\\xa0– April 15, 1865) was the 16th president of the United States , serving from 1861 until his assassination in 1865. He led the United States through the American Civil War , defending the nation as a constitutional union , defeating the Confederacy , playing a major role in the abolition of slavery , expanding the power of the federal government , and modernizing the U.S. economy .', 'George Bush': 'George Herbert Walker Bush [ a ] (June 12, 1924 – November 30, 2018) was an American politician, diplomat, and businessman who served as the 41st president of the United States from 1989 to 1993. A member of the Republican Party , he also served as the 43rd vice president from 1981 to 1989 under Ronald Reagan and previously in various other federal positions . [ 2 ]', 'Bill Clinton': 'William Jefferson  Clinton ( né Blythe ; born August 19, 1946) is an American lawyer and politician  who served as the 42nd president of the United States from 1993 to 2001. A member of the Democratic Party , he previously served as governor of Arkansas from 1979 to 1981 and again from 1983 to 1992. Clinton, whose policies reflected a centrist \" Third Way \" political philosophy , became known as a New Democrat .', 'Joe Biden': 'Joseph Robinette Biden Jr. [ b ] (born November 20, 1942) is an American politician who has been the 46th and current president of the United States since 2021. A member of the Democratic Party , he served as the 47th vice president from 2009 to 2017 under President Barack Obama and represented Delaware in the U.S. Senate from 1973 to 2009.', 'Franklin Roosevelt': \"Franklin Delano Roosevelt [ a ] (January 30, 1882\\xa0– April 12, 1945), commonly known by his initials FDR , was the 32nd president of the United States , serving from 1933 until his death in 1945. The longest-serving U.S. president, he is the only president to have served more than two terms. His initial two terms were centered on combating the Great Depression , while his third and fourth saw him shift his focus to America's involvement in World War II .\", 'Andrew Johnson': 'Andrew Johnson (December 29, 1808\\xa0– July 31, 1875) was the 17th president of the United States , serving from 1865 to 1869. He assumed the presidency following the assassination of Abraham Lincoln , as he was vice president at that time. Johnson was a Democrat who ran with Abraham Lincoln on the National Union Party ticket, coming to office as the Civil War concluded. He favored quick restoration of the seceded states to the Union without protection for the newly freed people who were formerly enslaved as well as pardoning ex-Confederates. This led to conflict with the Republican -dominated Congress, culminating in his impeachment by the House of Representatives in 1868. He was acquitted in the Senate by one vote.', 'Gerald Ford': 'Gerald Rudolph Ford Jr. [ a ] (born Leslie Lynch King Jr. ; July 14, 1913\\xa0– December 26, 2006) was the 38th president of the United States , serving from 1974 to 1977. A member of the Republican Party , Ford assumed the presidency after President Richard Nixon resigned, under whom he had served as the 40th vice president from 1973 to 1974. Prior to that, he served as a member of the United States House of Representatives from 1949 to 1973.', 'Richard Nixon': \"Richard Milhous Nixon (January 9, 1913\\xa0– April 22, 1994) was the 37th president of the United States , serving from 1969 until his resignation in 1974. A member of the Republican Party , he previously served as a representative and senator from California and as the 36th vice president from 1953 to 1961 under President Dwight D. Eisenhower . His presidency saw the reduction of U.S. involvement in the Vietnam War , détente with the Soviet Union and China , the Apollo 11 Moon landing, and the establishment of the Environmental Protection Agency and Occupational Safety and Health Administration . Nixon's second term ended early when he became the only U.S. president to resign from office, as a result of the Watergate scandal .\", 'Lyndon Johnson': 'Lyndon Baines Johnson ( / ˈ l ɪ n d ə n ˈ b eɪ n z / ; August 27, 1908\\xa0–\\xa0January 22, 1973), often referred to as LBJ , was the 36th president of the United States , serving from 1963 to 1969. He became president after the assassination of John F. Kennedy , under whom he had served as the 37th vice president from 1961 to 1963. A Democrat from Texas , Johnson previously served as a U.S. representative and U.S. senator .', 'John Kennedy': 'John Fitzgerald Kennedy (May 29, 1917 – November 22, 1963), often referred to as JFK , was the 35th president of the United States , serving from 1961 until his assassination in 1963. He was the youngest person elected president. [ a ] Kennedy served at the height of the Cold War , and the majority of his foreign policy concerned relations with the Soviet Union and Cuba . A Democrat , Kennedy represented Massachusetts in both houses of the United States Congress prior to his presidency.', 'Dwight Eisenhower': 'Dwight David Eisenhower [ a ] (born David Dwight Eisenhower ; October 14, 1890 – March 28, 1969) was the 34th president of the United States , serving from 1953 to 1961. During World War II , he was Supreme Commander of the Allied Expeditionary Force in Europe and achieved the five-star rank as General of the Army . Eisenhower planned and supervised two of the most consequential military campaigns of World War II : Operation Torch in the North Africa campaign in 1942–1943 and the invasion of Normandy in 1944.', 'Ronald Reagan': 'Ronald Wilson Reagan [ a ] (February 6, 1911 – June 5, 2004) was an American politician and actor who served as the 40th president of the United States from 1981 to 1989. A member of the Republican Party , he became an important figure in the American conservative movement , and his presidency is known as the Reagan era .', 'Harry Truman': \"Harry S. Truman (May 8, 1884\\xa0– December 26, 1972) was an American lawyer and politician who was the 33rd president of the United States , serving from 1945 to 1953. A member of the Democratic Party , he served as a United States senator from Missouri from 1935 to 1945 and briefly in 1945 as the 34th vice president of the United States under Franklin D. Roosevelt . Assuming the presidency after Roosevelt's death, Truman implemented the Marshall Plan in the wake of World War II to rebuild the economy of Western Europe and established both the Truman Doctrine and NATO to contain the expansion of Soviet communism . He proposed numerous liberal domestic reforms, but few were enacted by the conservative coalition that dominated Congress .\", 'John Adams': 'John Quincy Adams ( / ˈ k w ɪ n z i / ⓘ ; [ a ] July 11, 1767 – February 23, 1848) was the sixth president of the United States , serving from 1825 to 1829. He previously served as the eighth United States secretary of state from 1817 to 1825. During his long diplomatic and political career, Adams served as an ambassador and also as a member of the United States Congress representing Massachusetts in both chambers. He was the eldest son of John Adams , who served as the second president of the United States from 1797 to 1801, and First Lady Abigail Adams . Initially a Federalist like his father, he won election to the presidency as a member of the Democratic-Republican Party , and later, in the mid-1830s, became affiliated with the Whig Party .', 'Thomas Jefferson': \"Thomas Jefferson (April 13, 1743 [ b ] – July 4, 1826) was an American statesman, planter, diplomat, lawyer, architect, philosopher, and Founding Father who served as the third president of the United States from 1801 to 1809. [ 6 ] He was the primary author of the Declaration of Independence . Following the American Revolutionary War and before becoming president in 1801, Jefferson was the nation's first U.S. secretary of state under George Washington and then the nation's second vice president under John Adams . Jefferson was a leading proponent of democracy, republicanism , and natural rights , and he produced formative documents and decisions at the state, national, and international levels.\", 'James Madison': 'James Madison (March 16, 1751 [ b ] – June 28, 1836) was an American statesman, diplomat, and Founding Father who served as the fourth president of the United States from 1809 to 1817. Madison was popularly acclaimed the \" Father of the Constitution \" for his pivotal role in drafting and promoting the Constitution of the United States and the Bill of Rights .', 'James Monroe': 'James Monroe ( / m ə n ˈ r oʊ / mən- ROH ; April 28, 1758\\xa0– July 4, 1831), a Founding Father of the United States , served as the fifth president of the United States from 1817 to 1825. He was the last Founding Father to serve as president as well as the last president of the Virginia dynasty . He was a member of the Democratic-Republican Party , and his presidency coincided with the Era of Good Feelings , concluding the First Party System era of American politics. He issued the Monroe Doctrine , a policy of limiting European colonialism in the Americas. Monroe previously served as governor of Virginia , a member of the United States Senate , U.S. ambassador to France and Britain, the seventh secretary of state, and the eighth secretary of war.', 'Andrew Jackson': 'Andrew Jackson (March 15, 1767 – June 8, 1845) was the seventh president of the United States , serving from 1829 to 1837. Before his presidency , he gained fame as a general in the U.S. Army and served in both houses of the U.S. Congress . Often praised as an advocate for ordinary Americans and for his work in preserving the union of states , Jackson has also been criticized for his racial policies, particularly his treatment of Native Americans .', 'Martin Van Buren': \"Martin Van Buren ( / v æ n ˈ b jʊər ən / van BURE -ən ; Dutch : Maarten van Buren [ˈmaːrtə(ɱ) vɑm ˈbyːrə(n)] ⓘ ; December 5, 1782 – July 24, 1862) was the eighth president of the United States , serving from 1837 to 1841. A primary founder of the Democratic Party , he served as New York's attorney general and U.S. senator , then briefly as the ninth governor of New York before joining Andrew Jackson 's administration as the tenth United States secretary of state , minister to Great Britain , and ultimately the eighth vice president from 1833 to 1837, after being elected on Jackson's ticket in 1832 . Van Buren won the presidency in 1836 against divided Whig opponents. Van Buren lost re-election in 1840 , and failed to win the Democratic nomination in 1844 . Later in his life, Van Buren emerged as an elder statesman and an anti-slavery leader who led the Free Soil Party ticket in the 1848 presidential election .\", 'William Harrison': 'William Henry Harrison (February 9, 1773\\xa0– April 4, 1841) served as the ninth president of the United States from March 4 to April 4, 1841, the shortest presidency in U.S. history. He was also the first U.S. president to die in office, causing a brief constitutional crisis since presidential succession was not then fully defined in the U.S. Constitution . Harrison was the last president born as a British subject in the Thirteen Colonies and was the grandfather of Benjamin Harrison , the 23rd U.S. president.', 'John Tyler': \"John Tyler (March 29, 1790 – January 18, 1862) was the tenth president of the United States , serving from 1841 to 1845, after briefly holding office as the tenth vice president in 1841. He was elected vice president on the 1840 Whig ticket with President William Henry Harrison , succeeding to the presidency following Harrison's death 31 days after assuming office. Tyler was a stalwart supporter and advocate of states' rights , including regarding slavery , and he adopted nationalistic policies as president only when they did not infringe on the states' powers. His unexpected rise to the presidency posed a threat to the presidential ambitions of Henry Clay and other Whig politicians and left Tyler estranged from both of the nation's major political parties at the time.\", 'James Polk': 'James Knox Polk ( / p oʊ k / ; [ 1 ] November 2, 1795 – June 15, 1849) was the 11th president of the United States , serving from 1845 to 1849. A protégé of Andrew Jackson and a member of the Democratic Party , he was an advocate of Jacksonian democracy and extending the territory of the United States. Polk led the U.S. into the Mexican–American War , and after winning the war he annexed the Republic of Texas , the Oregon Territory , and the Mexican Cession .', 'Zachary Taylor': 'Zachary Taylor (November 24, 1784 – July 9, 1850) was the 12th president of the United States , serving from 1849 until his death in 1850. Taylor was a career officer in the United States Army , rising to the rank of major general and becoming a national hero for his victories in the Mexican–American War . As a result, he won election to the White House despite his vague political beliefs. His top priority as president was to preserve the Union. He died 16 months into his term from a stomach disease . Taylor had the third-shortest presidential term in U.S. history.', 'Millard Fillmore': 'Millard Fillmore (January 7, 1800 – March 8, 1874) was the 13th president of the United States , serving from 1850 to 1853, and was the last president to have been a member of the Whig Party while in office. A former member of the U.S. House of Representatives , Fillmore was elected the 12th vice president in 1848 , and succeeded to the presidency when Zachary Taylor died in July 1850. Fillmore was instrumental in passing the Compromise of 1850 , which led to a brief truce in the battle over the expansion of slavery .', 'Franklin Pierce': \"Franklin Pierce (November 23, 1804\\xa0– October 8, 1869) was the 14th president of the United States , serving from 1853 to 1857. A northern Democrat who believed that the abolitionist movement was a fundamental threat to the nation's unity, he alienated anti-slavery groups by signing the Kansas–Nebraska Act and enforcing the Fugitive Slave Act . Conflict between North and South continued after Pierce's presidency , and, after Abraham Lincoln was elected president in 1860 , the Southern states seceded , resulting in the American Civil War .\", 'James Buchanan': \"James Buchanan Jr. ( / b j uː ˈ k æ n ə n / bew- KAN -ən ; [ 3 ] April 23, 1791\\xa0– June 1, 1868) was the 15th president of the United States , serving from 1857 to 1861. Buchanan also served as the secretary of state from 1845 to 1849 and represented Pennsylvania in both houses of the U.S. Congress . He was an advocate for states' rights , particularly regarding slavery , and minimized the role of the federal government preceding the Civil War .\", 'Donald Trump': 'Donald John Trump (born June 14, 1946) is an American politician, media personality, and businessman who served as the 45th president of the United States from 2017 to 2021. A member of the Republican Party , he is the president-elect after winning the 2024 presidential election and is scheduled to be inaugurated as the 47th president on January 20, 2025.', 'Jimmy Carter': 'James Earl Carter Jr. (born October 1, 1924) is an American politician and humanitarian who served from 1977 to 1981 as the 39th president of the United States . A member of the Democratic Party , he served from 1963 to 1967 in the Georgia State Senate and from 1971 to 1975 as the 76th governor of Georgia . Carter is the longest-lived president in U.S. history and the first to live to 100 years of age .', 'Theodore Roosevelt': \"Theodore  Roosevelt Jr. [ b ] (October 27, 1858 – January 6, 1919), often referred to as Teddy or T. R. , was the 26th president of the United States , serving from 1901 to 1909. He previously was involved in New York politics, including serving as the state's 33rd governor for two years. He was the vice president under President William McKinley for six months in 1901, assuming the presidency after McKinley's assassination . As president, Roosevelt emerged as a leader of the Republican Party and became a driving force for anti-trust and Progressive policies.\", 'Woodrow Wilson': \"Thomas Woodrow Wilson (December 28, 1856\\xa0– February 3, 1924) was the 28th president of the United States , serving from 1913 to 1921. He was the only Democrat to serve as president during the Progressive Era when Republicans dominated the presidency and legislative branches . As president, Wilson changed the nation's economic policies and led the United States into World War I . He was the leading architect of the League of Nations , and his stance on foreign policy came to be known as Wilsonianism .\", 'James Garfield': 'James Abram Garfield (November 19, 1831 – September 19, 1881) was the 20th president of the United States , serving from March 1881 until his assassination in September that year. A preacher, lawyer, and Civil War general, Garfield served nine terms in the United States House of Representatives and is the only sitting member of the House to be elected president. Before his candidacy for the presidency, he had been elected to the U.S. Senate by the Ohio General Assembly —a position he declined when he became president-elect .', 'Ulysses Grant': 'Ulysses S. Grant (born Hiram Ulysses Grant ; [ a ] April 27, 1822\\xa0– July 23, 1885) was the 18th president of the United States , serving from 1869 to 1877. As commanding general , Grant led the Union Army to victory in the American Civil War in 1865.', 'William McKinley': 'William McKinley (January 29, 1843\\xa0– September 14, 1901) was the 25th president of the United States , serving from 1897 until his assassination in 1901. A member of the Republican Party , he led a realignment that made Republicans largely dominant in the industrial states and nationwide for decades. He presided over victory in the Spanish–American War of 1898; gained control of Hawaii, Puerto Rico, Guam, and the Philippines; restored prosperity after a deep depression; rejected the inflationary monetary policy of free silver , keeping the nation on the gold standard ; and raised protective tariffs .', 'Stephen Cleveland': 'Stephen Grover Cleveland (March 18, 1837\\xa0– June 24, 1908) was an American politician and lawyer who served as the 22nd and 24th president of the United States from 1885 to 1889 and again from 1893 to 1897. He was the first Democrat to win the presidency following the end of the Civil War and was the first of only two presidents to be elected to non-consecutive terms in office. [ b ]', 'Herbert Hoover': 'Herbert Clark Hoover (August 10, 1874 – October 20, 1964) was the 31st president of the United States , serving from 1929 to 1933. A wealthy mining engineer before his presidency, Hoover led the wartime Commission for Relief in Belgium and was the director of the U.S. Food Administration , followed by post-war relief of Europe. A member of the Republican Party , he served as the U.S. Secretary of Commerce from 1921 to 1928 before being elected president in 1928 . His presidency was dominated by the Great Depression , and his policies and methods to combat it were seen as lackluster. Amid his unpopularity, he decisively lost reelection to Franklin D. Roosevelt in 1932 .', 'Warren Harding': 'Warren Gamaliel Harding (November 2, 1865 – August 2, 1923) was the 29th president of the United States , serving from 1921 until his death in 1923. A member of the Republican Party , he was one of the most popular sitting U.S. presidents while in office. After his death, a number of scandals were exposed, including Teapot Dome , as well as an extramarital affair with Nan Britton , which tarnished his reputation.', 'Chester Arthur': 'Chester Alan Arthur (October 5, 1829 [ b ] – November 18, 1886) was the 21st president of the United States , serving from 1881 to 1885. He was a Republican lawyer from New York who previously served as the 20th vice president under President James A. Garfield . Assuming the presidency after Garfield\\'s assassination , Arthur\\'s presidency saw the largest expansion of the U.S. Navy , the end of the so-called \" spoils system \", and the implementation of harsher restrictions for migrants entering from abroad.', 'William Taft': 'Defunct', 'Benjamin Harrison': 'Benjamin Harrison (August 20, 1833\\xa0– March 13, 1901) was the 23rd president of the United States , serving from 1889 to 1893. He was a member of the Harrison family of Virginia —a grandson of the ninth president, William Henry Harrison , and a great-grandson of Benjamin Harrison\\xa0V , a Founding Father . A Union Army veteran and a Republican, he defeated incumbent Grover Cleveland to win the presidency in 1888; however, was defeated for a second term by Cleveland in 1892.', 'Rutherford Hayes': 'Rutherford Birchard Hayes ( / ˈ r ʌ ð ər f ər d / ⓘ ; October 4, 1822 – January 17, 1893) was the 19th president of the United States , serving from 1877 to 1881. A staunch abolitionist from Ohio , he was also a brevet major general for the Union army during the American Civil War .', 'John Coolidge': 'Calvin Coolidge (born John Calvin Coolidge Jr. [ 1 ] / ˈ k uː l ɪ dʒ / KOOL -ij ; July 4, 1872\\xa0– January 5, 1933) was the 30th president of the United States , serving from 1923 to 1929. A Republican lawyer from Massachusetts , he previously served as the 29th vice president from 1921 to 1923 and as the 48th governor of Massachusetts from 1919 to 1921. Elected vice president in 1920 , he succeeded to the presidency upon the sudden death of President Warren G. Harding in August 1923. Elected in his own right in 1924 , Coolidge gained a reputation as a small-government conservative with a taciturn personality and dry sense of humor that earned him the nickname \"Silent Cal\". His widespread popularity enabled him to run for a second full term, but Coolidge chose not to run again in 1928 , remarking that ten years as president would be \"longer than any other man has had it—too long!\" [ b ]'}, 'be': {'Guy Verhofstadt': 'Guy Maurice Marie-Louise Verhofstadt [ 5 ] ( uitspraak ⓘ ) ( Dendermonde , 11 april 1953 ) is een Belgisch politicus voor de Open Vlaamse Liberalen en Democraten (Open Vld). Hij was premier van België van 12 juli 1999 tot 20 maart 2008 in drie regeringen. Hij beëindigde zijn actieve politieke carrière in het Europees Parlement , waar hij van 2009 tot 2019 fractieleider van de Alliantie van Liberalen en Democraten voor Europa (ALDE) was. [ 6 ]', 'Yves Leterme': 'Yves Camille Désiré Leterme ( Wervik , 6 oktober 1960 ) is een Belgisch politicus . Hij was onder meer Vlaams minister-president en premier van België . Hij was lang boegbeeld van de CD&V en boegbeeld van het toenmalige kartel CD&V/N-VA .', 'Herman None': \"Herman Achille graaf Van Rompuy ( Etterbeek , 31 oktober 1947 ) is een Belgische politicus van de christendemocratische partij CD&V . Hij was tussen 30 december 2008 en 25 november 2009 de premier van België en van 1 januari 2010 [ 2 ] tot en met 30 november 2014 voorzitter van de Europese Raad , in de media vaak incorrect ' president van Europa ' genoemd. [ 3 ] Op 19 november 2009 werd bekendgemaakt dat hij was verkozen tot de eerste permanente voorzitter en op 1 maart 2012 werd Van Rompuy met algemene stemmen door de 27 staatshoofden en regeringsleiders van de EU voor een tweede mandaat benoemd. Na deze termijn was hij niet meer herkiesbaar.\", 'Léon Delacroix': 'Léon Fréderic Gustave Delacroix ( Sint-Joost-ten-Node , 27 december 1867 – Baden-Baden , 15 oktober 1929 ) was een Belgisch katholiek politicus . De Léon Delacroixstraat in Anderlecht en het metrostation Delacroix werden naar hem vernoemd.', 'Henry Carton': 'Henri Victor Marie Ghislain graaf Carton de Wiart ( Brussel , 31 januari 1869 – Ukkel , 6 mei 1951 ) (ook als \"Henry\" vermeld) was een Belgische politicus . Hij was Eerste Minister van 1920 tot 1921.', 'Georges Theunis': 'Georges Emile Pierre Léonard Theunis ( Montegnée , 28 februari 1873 – Brussel , 4 januari 1966 ) was een Belgisch industrieel en politicus van de Katholieke Partij .', 'Aloïs Van de Vyvere': 'Aloys Jean Maria Joseph Van de Vyvere ( Tielt , 8 juni 1871 - Parijs , 22 oktober 1961 ) was een Belgisch katholiek volksvertegenwoordiger en minister .', 'Prosper Poullet': 'Prosper Antoine Marie Joseph burggraaf Poullet ( Leuven , 5 maart 1868 - 3 december 1937 ) was een Belgisch politicus .', 'Henri Jaspar': 'Henri Jaspar ( Schaarbeek , 28 juli 1870 - Sint-Gillis , 15 februari 1939 [ 1 ] ) was een Belgisch katholiek politicus , die twee keer premier van België was.', 'Jules None': 'Jules Laurent Jean Louis Renkin ( Elsene , 3 december 1862 - Brussel , 15 juli 1934 ) was een Belgisch katholiek politicus .', 'Paul Van Zeeland': 'Paul Guillaume van Zeeland ( Zinnik , 11 november 1893 – Brussel , 22 september 1973 ) was een Belgisch advocaat, econoom, katholiek politicus en staatsman.', 'Achille Van Acker': 'Achille Honoré (Achiel) Van Acker uitspraak ⓘ ( Brugge , 8 april 1898 – aldaar, 10 juli 1975 ) was een Belgisch socialistisch politicus. Hij was viermaal premier van België .', 'Camille Huysmans': 'Jean Joseph Camille Huysmans (ook Kamiel Huysmans genoemd) ( Bilzen , 26 mei 1871 - Antwerpen , 25 februari 1968 ), geboren als Camiel Hansen , was een Belgisch journalist en socialistisch politicus voor de BWP / BSP .', 'Gaston Eyskens': 'Gaston François Marie burggraaf Eyskens ( Lier , 1 april 1905 – Leuven , 3 januari 1988 ) was drie maal christendemocratisch eerste minister van België in de periode tussen 1949 en 1973 . Hij was de eerste Belgische regeringsleider die geboren was in de 20e eeuw .', 'Leo Tindemans': 'Leonard Clemence (Leo) Tindemans ( Zwijndrecht , 16 april 1922 – Edegem , 26 december 2014 ) was een Belgisch politicus voor de CVP en minister van staat . Hij was eerste minister van twee regeringen in België (periode van 25 april 1974 tot 20 oktober 1978 ) en behaalde het grootste aantal voorkeurstemmen in de Belgische geschiedenis bij de Europese verkiezingen van 1979. Daardoor kreeg hij de bijnaam \"de man van 1 miljoen stemmen\". [ 1 ]', 'Elio Di Rupo': 'Elio Di Rupo ( Morlanwelz , 18 juli 1951 ) is een Belgische politicus voor de Parti Socialiste (PS). Van 6 december 2011 tot 11 oktober 2014 was hij premier van België en werd meermaals minister en minister-president van de Waalse Regering .', 'Jean-Luc Dehaene': 'Jean Luc Joseph Marie Dehaene [ 5 ] uitspraak ⓘ ( Montpellier , 7 augustus 1940 – Quimper , 15 mei 2014 ) was van 1992 tot 1999 premier van België . Hij was lid van de toenmalige CVP (nu CD&V ). Onder zijn regering werd België een volwaardige federale staat. Dehaene leidde twee coalitieregeringen met de socialisten en bekleedde verschillende ministerposten voor hij in 1992 eerste minister werd. Van 2000 tot 2007 was hij burgemeester van Vilvoorde . In 2002 werd hij voorgedragen als vicevoorzitter van de Europese Conventie .', 'Frans Schollaert': 'François Victor Marie Ghislain (Frans) Schollaert ( Wilsele , 19 augustus 1851 - Sainte-Adresse , 25 juni 1917 ) [ 1 ] was een Belgisch katholiek politicus .', 'Pieter Decker': 'Pierre Jacques François (Pieter) de Decker ( Zele , 25 januari 1812 - Schaarbeek , 4 januari 1891 ) was een Belgisch politicus en auteur .', 'Paul-Henri Spaak': 'Paul-Henri Charles Spaak uitspraak ⓘ ( Schaarbeek , 25 januari 1899 - Eigenbrakel , 31 juli 1972 ) was een Belgisch socialistisch politicus en regeringsleider.', 'Auguste Beernaert': 'Auguste Marie François (August) Beernaert ( Oostende , 26 juli 1829 – Luzern , 6 oktober 1912 ) was een Belgisch katholiek politicus en mensenrechtenactivist . In 1909 won hij de Nobelprijs voor de Vrede .', 'Théodore Lefèvre': 'Théodore Joseph Albéric Marie Lefèvre ( Gent , 17 januari 1914 – Sint-Lambrechts-Woluwe , 18 september 1973 ) was een Belgisch politicus . Hij was premier van België van 1961 tot 1965, aan het hoofd van de regering Lefèvre-Spaak .', 'Paul None': 'Paul Joseph graaf de Smet de Naeyer ( Gent , 13 mei 1843 – Brussel , 9 september 1913 ) was een Belgisch katholiek politicus .', 'Étienne Gerlache': 'Etienne Constantin baron de Gerlache ( Biourge , 25 december 1785 - Elsene , 10 februari 1871 ) was advocaat , politicus en magistraat in het Verenigd Koninkrijk der Nederlanden en in België .', 'Wilfried Martens': 'Wilfried Achiel Emma Martens uitspraak ⓘ ( Sleidinge , 19 april 1936 – Lokeren , 9 oktober 2013 ) was een Vlaams-Belgische politicus voor de CD&V (vroeger CVP) en was van april 1979 tot maart 1992 (met een korte onderbreking) eerste minister van België .', 'Mark Eyskens': 'Marc Maria Frans burggraaf Eyskens ( uitspraak ⓘ ) ( Leuven , 29 april 1933 ) is een Belgische emeritus hoogleraar , econoom , politicus en essayist . Van april tot december 1981 was hij premier van België .', 'Pierre Harmel': 'Pierre Charles José Marie graaf Harmel ( Ukkel , 16 maart 1911 – Brussel , 15 november 2009 ) was een Belgisch advocaat , hoogleraar en christendemocratisch staatsman .', 'Hubert Pierlot': 'Hubert Marie Eugène Pierlot ( Cugnon , 23 december 1883 – Ukkel , 13 december 1963 ) was de Belgische eerste minister van 1939 tot 1945 .', 'Jean-Baptiste Nothomb': 'Jean Baptiste Nothomb ( Messancy , 3 juli 1805 – Berlijn , 16 september 1881 ) was een Belgisch staatsman en diplomaat die een belangrijke rol speelde bij het tot stand komen van de Belgische staat. Zo was hij een van de opstellers van de Belgische grondwet en onderhandelde hij over de verdragen die de Belgische onafhankelijkheid garandeerden.', 'Edmond None': 'Edmond Jules Isidore Leburton ( Lantremange , 18 april 1915 – Borgworm , 15 juni 1997 ) was een Belgisch politicus voor de PSB .', 'Jean None': 'Jean Pierre Armand Ghislain Marie Duvieusart ( Frasnes-lez-Gosselies , 10 april 1900 – Couillet , 11 oktober 1977 ) was een Belgisch advocaat en katholiek politicus .', 'Joseph Lebeau': 'Jean Louis Joseph Lebeau ( Hoei , 2 januari 1794 – aldaar, 19 maart 1865 ) was lid van het Nationaal Congres , Belgisch liberaal volksvertegenwoordiger en eerste minister .', 'Charles Rogier': 'Charles Latour Rogier (Nederlands, verouderd: Karel Rogier; Saint-Quentin 17 augustus 1800 – Sint-Joost-ten-Node , 27 mei 1885 ) was een Belgisch politicus en een van de grondleggers van de Belgische staat.', 'Barthélemy None': 'Barthélemy-Théodore graaf de Theux de Meylandt ( Sint-Truiden , 26 februari 1794 – Heusden , 21 augustus 1874 ) was een Belgisch staatsman, eerste minister en lid van het Nationaal Congres .', 'Felix None': 'Felix Amandus de Mûelenaere ( Pittem , 9 april 1793 – aldaar, 5 augustus 1862 ) was een Belgisch unionistisch politicus .', 'Alexander De Croo': 'Alexander Francis Herman De Croo ( Vilvoorde , [ 3 ] 3 november 1975 ) is een Belgisch politicus voor Open Vld . [ 4 ] Sedert 1 oktober 2020 is De Croo premier van België van de zogenaamde Vivaldicoalitie . Hij volgde Sophie Wilmès op en is de eerste Vlaamse premier in iets minder dan 10 jaar.', 'Henri de Brouckère': 'Henri Ghislain Joseph Marie Hyacinthe de Brouckère ( Brugge , 25 januari 1801 - Brussel , 25 januari 1891 ) was een Belgisch liberaal politicus . Hij was onder meer eerste minister, volksvertegenwoordiger en lid van het Belgisch Nationaal Congres .', 'Albert None': \"Albert Joseph Goblet , sinds 1838 graaf Goblet d'Alviella ( Doornik , 26 mei 1790 – Brussel , 5 mei 1873 ) was een Belgisch politicus en officier.\", 'Sylvain Weyer': 'Jean-Sylvain Van de Weyer ( Leuven , 19 januari 1802 – Londen , 23 mei 1874 ), beter bekend als Sylvain Van de Weyer , was een van de grondleggers van de Belgische Staat , en later ook eerste minister .', 'Jules Burlet': 'Jules Philippe Marie de Burlet ( Elsene , 10 april 1844 - Nijvel , 1 maart 1897 ) was een Belgisch katholiek politicus .', 'Paul-Émile None': 'Paul-Emile Janson ( Brussel , 30 mei 1872 - concentratiekamp Buchenwald , 3 maart 1944 ) was de Belgische eerste minister van november 1937 tot mei 1938.', 'Jules Malou': 'Jules Edouard François-Xavier Malou ( Ieper , 19 oktober 1810 - Sint-Lambrechts-Woluwe , 11 juli 1886 ) was een Belgisch politicus . Hij was onder meer leider van de Katholieke Partij , volksvertegenwoordiger , senator en eerste minister .', 'Charles Broqueville': 'Charles Marie Pierre Albert graaf de Broqueville ( Postel ( Mol ), 4 december 1860 - Brussel , 5 september 1940 ) was de Belgische kabinetsleider [ 1 ] tijdens de Eerste Wereldoorlog (van 17 juni 1911 tot 1 juni 1918 ) en eerste minister van 22 oktober 1932 tot 20 november 1934 . Hij was lid van de Katholieke Partij .', 'Joseph Pholien': 'Joseph Clovis Louis Marie Emmanuel Pholien ( Luik , 28 december 1884 – Brussel , 4 januari 1968 ) was een Belgisch politicus van de PSC .', 'Jean Van Houtte': 'Jean Maria Josephus baron Van Houtte ( Gent , 17 maart 1907 – Brussel , 23 mei 1991 ) was een Belgisch advocaat , hoogleraar en politicus van de CVP .', 'Walthère Frère': 'Hubert Joseph Walthère Frère-Orban ( Luik , 24 april 1812 – Brussel , 2 januari 1896 ) was een Belgisch liberaal politicus die zijn stempel heeft gedrukt op de eerste halve eeuw onafhankelijkheid van België.', 'Gérard Cooreman': 'Gérard François Marie (Gerard) Cooreman ( Gent , 25 maart 1852 – Brussel , 2 december 1926 ) was een Belgisch advocaat en politicus voor de katholieke Partij .', 'Jules Vandenpeereboom': 'Jules Pierre Henri François Xavier Vandenpeereboom ( Kortrijk , 18 maart 1843 - Anderlecht , 6 maart 1917 ) was een Belgisch katholiek politicus .', 'Jules Trooz': 'Baron Jules Henri Ghislain Marie de Trooz ( Leuven , 21 februari 1857 - Brussel , 31 december 1907 ) was een Belgisch katholiek politicus .', \"Jules d'Anethan\": \"Jules Joseph d'Anethan ( Brussel , 23 april 1803 - Schaarbeek , 8 oktober 1888 ) was een Belgisch politicus . Hij was premier van 2 juli 1870 tot 7 december 1871.\", 'Charles Michel': 'Charles Yves Jean Ghislaine Michel ( Namen , 21 december 1975 ) is een Belgisch politicus voor de partij Mouvement Réformateur (MR). Van 11 oktober 2014 tot 27 oktober 2019 was hij premier van België in de regeringen Michel I en Michel II . Op 2 juli 2019 werd hij verkozen als voorzitter van de Europese Raad , in opvolging van Donald Tusk , een functie die hij sinds 1 december 2019 uitoefent.', 'Sophie Wilmès': 'Sophie Wilmès ( Elsene , 15 januari 1975 ) is een Belgisch politica van de MR . Van 27 oktober 2019 tot 1 oktober 2020 was ze de eerste vrouwelijke premier van België. [ 1 ] Vanaf 1 oktober 2020 was ze vicepremier en minister van Buitenlandse Zaken en Buitenlandse Handel. Om familiale redenen legde ze op 21 april 2022 haar bevoegdheden als minister tijdelijk neer. Op 15 juli 2022 legde ze haar functie definitief neer.'}, 'ma': {'Mohammed None': 'هذه نسخة متحقق منها من هذه الصفحة', 'Hassan None': 'هذه نسخة متحقق منها من هذه الصفحة'}, 'ru': {'Vladimir Putin': 'Влади́мир Влади́мирович Пу́тин (род. 7 октября 1952 , Ленинград , СССР )\\xa0— российский государственный и политический деятель. Действующий президент Российской Федерации , председатель Государственного Совета Российской Федерации и Совета Безопасности Российской Федерации ; Верховный главнокомандующий Вооружёнными силами Российской Федерации с 7 мая 2012\\xa0года. Ранее занимал должность президента с 7 мая 2000\\xa0по 7 мая 2008\\xa0года, также в 1999—2000 и 2008—2012\\xa0годах занимал должность председателя правительства Российской Федерации . Фактически руководит Россией, согласно разным оценкам, с 1999 [ 7 ] или с 2000\\xa0года [ 8 ] . В сентябре 2017\\xa0года Путин стал самым долго правящим российским лидером после Иосифа Сталина [ 9 ] [ 10 ] , а после окончания пятого президентского срока станет таковым со времён Екатерины II [ 11 ] .', 'Dmitry Medvedev': 'иностранные:', 'Boris Yeltsin': 'Бори́с Никола́евич Е́льцин ( 1\\xa0февраля 1931 ( 1931-02-01 ) , Бутка , Буткинский район , Уральская область , РСФСР , СССР — 23 апреля 2007 , Москва , Россия )\\xa0— советский и российский партийный , государственный и политический деятель, первый всенародно избранный Президент Российской Федерации ( 1991—1999 ) ➤ ; в ноябре 1991\\xa0— июне 1992\\xa0года одновременно возглавлял правительство . С марта по май 1992\\xa0года исполнял обязанности министра обороны Российской Федерации .'}, 'fr': {'François Hollande': 'Pour les articles homonymes, voir Hollande (homonymie) .', 'Nicolas Sarkozy': '«\\xa0Sarkozy\\xa0» redirige ici. Pour les autres significations, voir Sarkozy (homonymie) , Nagy et Bocșa .', 'François Mitterrand': '«\\xa0Mitterrand\\xa0» redirige ici.  Pour les autres significations, voir Mitterrand (homonymie) .', 'Charles de Gaulle': 'Pour les articles homonymes, voir Charles de Gaulle (homonymie) et Gaulle .', 'Jacques Chirac': 'Pour les articles homonymes, voir Chirac .', \"Valéry Giscard d'Estaing\": '«\\xa0Giscard\\xa0» et «\\xa0VGE\\xa0» redirigent ici. Pour les autres significations, voir Giscard (homonymie) et VGE (homonymie) .', 'Georges Pompidou': 'Pour les articles homonymes, voir Pompidou .', 'Adolphe Thiers': 'Pour les articles homonymes, voir Thiers (homonymie) .', 'Napoléon Bonaparte': 'Pour les articles homonymes, voir Louis-Napoléon Bonaparte (homonymie) , Napoléon (homonymie) et Bonaparte (homonymie) .', 'Paul Doumer': 'Vous lisez un « article de qualité » labellisé en 2019.', 'Alain Poher': 'Cet article possède un paronyme , voir Alain Bauer .', 'Albert Lebrun': 'Pour les articles homonymes, voir Lebrun .', 'René Coty': 'Pour les articles homonymes, voir Coty .', 'Vincent Auriol': 'Pour les articles homonymes, voir Auriol .', 'Patrice de Mac Mahon': 'Pour les autres membres de la famille, voir Famille de Mac Mahon .', 'Émile Loubet': 'Pour les articles homonymes, voir Loubet .', 'Raymond Poincaré': 'Pour les articles homonymes, voir Poincaré .', 'Marie Carnot': 'Pour les articles homonymes, voir Sadi Carnot , Famille Carnot et Carnot .', 'Alexandre Millerand': 'Vous lisez un « article de qualité » labellisé en 2019.', 'Gaston Doumergue': 'Pour les articles homonymes, voir Doumergue .', 'Félix Faure': 'Pour les articles homonymes, voir Alfred Faure (homme politique) et Félix Faure (1780-1859) .', 'Jules Grévy': 'Pour les articles homonymes, voir Grévy .', 'Clément Fallières': 'Pour les articles homonymes, voir Fallières .', 'Paul Deschanel': 'Vous lisez un « article de qualité » labellisé en 2020.', 'Georges Bidault': \"Ne doit pas être confondu avec Georges Bidault de l'Isle .\", 'Jean Casimir-Perier': 'Pour les articles homonymes, voir Périer .', 'Charles Dupuy': 'Pour les articles homonymes, voir Dupuy .', 'Louis Cavaignac': \"Cet article concerne l'homme politique. Pour son petit-fils historien, voir Eugène Cavaignac (historien) .\", 'Louis None': 'Pour les articles homonymes, voir Trochu .', 'Frédéric None': \"Frédéric François-Marsal , né le 16 mars 1874 à Paris 8 e ( Seine ) et mort le 20 mai 1958 à Gisors ( Eure ) [ 1 ] , est un homme d'affaires et un homme politique français de la droite républicaine, dont la carrière politique a culminé avec son bref passage à la présidence du Conseil en 1924.\", 'Emmanuel Macron': 'Pour les articles homonymes, voir Macron .'}}\n"
     ]
    }
   ],
   "source": [
    "with open('leaders.json', 'r') as json_file:\n",
    "    data = json.load(json_file)\n",
    "    print(data)"
   ]
  },
  {
   "cell_type": "markdown",
   "metadata": {
    "id": "1fW_U7gXktyv"
   },
   "source": [
    "Make a function `save(leaders_per_country)` to call this code easily."
   ]
  },
  {
   "cell_type": "code",
   "execution_count": 29,
   "metadata": {
    "id": "EfknpnTljqUd"
   },
   "outputs": [],
   "source": [
    "def save(leaders_per_country):\n",
    "    with open('leaders.json', 'w') as json_file:  \n",
    "        json.dump(leaders_per_country, json_file, indent=4) \n"
   ]
  },
  {
   "cell_type": "code",
   "execution_count": 30,
   "metadata": {
    "id": "lWQ6bbn31cix"
   },
   "outputs": [],
   "source": [
    "save(leaders_data) \n"
   ]
  },
  {
   "cell_type": "markdown",
   "metadata": {
    "id": "W5W6nPihlQo9"
   },
   "source": [
    "## Tidy things up in a stand-alone python script\n",
    "\n",
    "Congratulations! You now have a working scraper! However, your code is scattered throughout this notebook along side the tutorials. Hardly production ready...\n",
    "\n",
    "Copy and paste what you need in a separate `leaders_scraper.py` file.\n",
    "Make sure it works by calling `python3 leaders_scraper.py`"
   ]
  },
  {
   "cell_type": "markdown",
   "metadata": {
    "id": "D0cvv193mlxY"
   },
   "source": [
    "## To go further\n",
    "\n",
    "If you want to practice scraping, you can read this section and tackle the exercise.\n",
    "\n",
    "You have noticed the API returns very partial results for country leaders. Many are missing. Overwrite the `get_leaders()` function to get its list from Wikipedia and extract their *personal details* from the frame on the side.\n",
    "\n",
    "Good luck!"
   ]
  }
 ],
 "metadata": {
  "colab": {
   "collapsed_sections": [],
   "provenance": [],
   "toc_visible": true
  },
  "kernelspec": {
   "display_name": "wikipedia_scrapper_env",
   "language": "python",
   "name": "python3"
  },
  "language_info": {
   "codemirror_mode": {
    "name": "ipython",
    "version": 3
   },
   "file_extension": ".py",
   "mimetype": "text/x-python",
   "name": "python",
   "nbconvert_exporter": "python",
   "pygments_lexer": "ipython3",
   "version": "3.12.7"
  }
 },
 "nbformat": 4,
 "nbformat_minor": 0
}
